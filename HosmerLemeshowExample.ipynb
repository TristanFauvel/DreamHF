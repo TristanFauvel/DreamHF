{
 "cells": [
  {
   "cell_type": "markdown",
   "metadata": {},
   "source": [
    "# Example of Hosmer-Lemeshow test\n",
    "\n",
    "This is an example from the Wikipedia page on the Hosmer-Lemeshow test. \"A researcher wishes to know if caffeine improves performance on a memory test. Volunteers consume different amounts of caffeine from 0 to 500 mg, and their score on the memory test is recorded.\""
   ]
  },
  {
   "cell_type": "code",
   "execution_count": 27,
   "metadata": {},
   "outputs": [],
   "source": [
    "import pandas as pd"
   ]
  },
  {
   "cell_type": "code",
   "execution_count": 28,
   "metadata": {},
   "outputs": [
    {
     "data": {
      "text/html": [
       "<div>\n",
       "<style scoped>\n",
       "    .dataframe tbody tr th:only-of-type {\n",
       "        vertical-align: middle;\n",
       "    }\n",
       "\n",
       "    .dataframe tbody tr th {\n",
       "        vertical-align: top;\n",
       "    }\n",
       "\n",
       "    .dataframe thead th {\n",
       "        text-align: right;\n",
       "    }\n",
       "</style>\n",
       "<table border=\"1\" class=\"dataframe\">\n",
       "  <thead>\n",
       "    <tr style=\"text-align: right;\">\n",
       "      <th></th>\n",
       "      <th>group</th>\n",
       "      <th>caffeine</th>\n",
       "      <th>n_volunteers</th>\n",
       "      <th>A_grade</th>\n",
       "      <th>proportion_A</th>\n",
       "    </tr>\n",
       "  </thead>\n",
       "  <tbody>\n",
       "    <tr>\n",
       "      <th>0</th>\n",
       "      <td>1</td>\n",
       "      <td>0</td>\n",
       "      <td>30</td>\n",
       "      <td>10</td>\n",
       "      <td>0.33</td>\n",
       "    </tr>\n",
       "    <tr>\n",
       "      <th>1</th>\n",
       "      <td>2</td>\n",
       "      <td>50</td>\n",
       "      <td>30</td>\n",
       "      <td>13</td>\n",
       "      <td>0.43</td>\n",
       "    </tr>\n",
       "    <tr>\n",
       "      <th>2</th>\n",
       "      <td>3</td>\n",
       "      <td>100</td>\n",
       "      <td>30</td>\n",
       "      <td>17</td>\n",
       "      <td>0.57</td>\n",
       "    </tr>\n",
       "    <tr>\n",
       "      <th>3</th>\n",
       "      <td>4</td>\n",
       "      <td>150</td>\n",
       "      <td>30</td>\n",
       "      <td>15</td>\n",
       "      <td>0.50</td>\n",
       "    </tr>\n",
       "    <tr>\n",
       "      <th>4</th>\n",
       "      <td>5</td>\n",
       "      <td>200</td>\n",
       "      <td>30</td>\n",
       "      <td>10</td>\n",
       "      <td>0.33</td>\n",
       "    </tr>\n",
       "    <tr>\n",
       "      <th>5</th>\n",
       "      <td>6</td>\n",
       "      <td>250</td>\n",
       "      <td>30</td>\n",
       "      <td>5</td>\n",
       "      <td>0.17</td>\n",
       "    </tr>\n",
       "    <tr>\n",
       "      <th>6</th>\n",
       "      <td>7</td>\n",
       "      <td>300</td>\n",
       "      <td>30</td>\n",
       "      <td>4</td>\n",
       "      <td>0.13</td>\n",
       "    </tr>\n",
       "    <tr>\n",
       "      <th>7</th>\n",
       "      <td>8</td>\n",
       "      <td>350</td>\n",
       "      <td>30</td>\n",
       "      <td>3</td>\n",
       "      <td>0.10</td>\n",
       "    </tr>\n",
       "    <tr>\n",
       "      <th>8</th>\n",
       "      <td>9</td>\n",
       "      <td>400</td>\n",
       "      <td>30</td>\n",
       "      <td>3</td>\n",
       "      <td>0.10</td>\n",
       "    </tr>\n",
       "    <tr>\n",
       "      <th>9</th>\n",
       "      <td>10</td>\n",
       "      <td>450</td>\n",
       "      <td>30</td>\n",
       "      <td>1</td>\n",
       "      <td>0.03</td>\n",
       "    </tr>\n",
       "    <tr>\n",
       "      <th>10</th>\n",
       "      <td>11</td>\n",
       "      <td>500</td>\n",
       "      <td>30</td>\n",
       "      <td>0</td>\n",
       "      <td>0.00</td>\n",
       "    </tr>\n",
       "  </tbody>\n",
       "</table>\n",
       "</div>"
      ],
      "text/plain": [
       "    group  caffeine  n_volunteers  A_grade  proportion_A\n",
       "0       1         0            30       10          0.33\n",
       "1       2        50            30       13          0.43\n",
       "2       3       100            30       17          0.57\n",
       "3       4       150            30       15          0.50\n",
       "4       5       200            30       10          0.33\n",
       "5       6       250            30        5          0.17\n",
       "6       7       300            30        4          0.13\n",
       "7       8       350            30        3          0.10\n",
       "8       9       400            30        3          0.10\n",
       "9      10       450            30        1          0.03\n",
       "10     11       500            30        0          0.00"
      ]
     },
     "execution_count": 28,
     "metadata": {},
     "output_type": "execute_result"
    }
   ],
   "source": [
    "df = pd.read_csv('HL_data.csv')\n",
    "df"
   ]
  },
  {
   "cell_type": "markdown",
   "metadata": {},
   "source": [
    "The table has the following columns.\n",
    "\n",
    "- group: identifier for the 11 treatment groups, each receiving a different dose\n",
    "- caffeine: mg of caffeine for volunteers in a treatment group\n",
    "- n_volunteers: number of volunteers in a treatment group\n",
    "- A_grade: the number of volunteers who achieved an A grade in the memory    test (success)\n",
    "- proportion_A: the proportion of volunteers who achieved an A grade"
   ]
  },
  {
   "cell_type": "markdown",
   "metadata": {},
   "source": [
    "## Logistic model of P(A grade) = f(caffeine)"
   ]
  },
  {
   "cell_type": "code",
   "execution_count": 32,
   "metadata": {},
   "outputs": [
    {
     "data": {
      "text/plain": [
       "Text(0, 0.5, 'Probability of grade A')"
      ]
     },
     "execution_count": 32,
     "metadata": {},
     "output_type": "execute_result"
    },
    {
     "data": {
      "image/png": "[encoded data removed]",
      "text/plain": [
       "<Figure size 640x480 with 1 Axes>"
      ]
     },
     "metadata": {},
     "output_type": "display_data"
    }
   ],
   "source": [
    "import matplotlib.pyplot as plt\n",
    "\n",
    "X = df['caffeine'].to_numpy().reshape(-1,1)\n",
    "y = df['proportion_A']\n",
    "plt.figure()\n",
    "plt.scatter(X,y)\n",
    "plt.xlabel('Caffeine (mg)')\n",
    "plt.ylabel('Probability of grade A')\n",
    " "
   ]
  },
  {
   "cell_type": "markdown",
   "metadata": {},
   "source": [
    "The data are formatted in a way that cannot directly be used with sklearn (proportions instead of binary results), so we need some reformatting:"
   ]
  },
  {
   "cell_type": "code",
   "execution_count": 33,
   "metadata": {},
   "outputs": [
    {
     "data": {
      "text/html": [
       "<div>\n",
       "<style scoped>\n",
       "    .dataframe tbody tr th:only-of-type {\n",
       "        vertical-align: middle;\n",
       "    }\n",
       "\n",
       "    .dataframe tbody tr th {\n",
       "        vertical-align: top;\n",
       "    }\n",
       "\n",
       "    .dataframe thead th {\n",
       "        text-align: right;\n",
       "    }\n",
       "</style>\n",
       "<table border=\"1\" class=\"dataframe\">\n",
       "  <thead>\n",
       "    <tr style=\"text-align: right;\">\n",
       "      <th></th>\n",
       "      <th>group</th>\n",
       "      <th>caffeine</th>\n",
       "      <th>n_volunteers</th>\n",
       "      <th>A_grade</th>\n",
       "      <th>proportion_A</th>\n",
       "    </tr>\n",
       "  </thead>\n",
       "  <tbody>\n",
       "    <tr>\n",
       "      <th>0</th>\n",
       "      <td>1</td>\n",
       "      <td>0</td>\n",
       "      <td>30</td>\n",
       "      <td>10</td>\n",
       "      <td>0.33</td>\n",
       "    </tr>\n",
       "    <tr>\n",
       "      <th>1</th>\n",
       "      <td>2</td>\n",
       "      <td>50</td>\n",
       "      <td>30</td>\n",
       "      <td>13</td>\n",
       "      <td>0.43</td>\n",
       "    </tr>\n",
       "    <tr>\n",
       "      <th>2</th>\n",
       "      <td>3</td>\n",
       "      <td>100</td>\n",
       "      <td>30</td>\n",
       "      <td>17</td>\n",
       "      <td>0.57</td>\n",
       "    </tr>\n",
       "    <tr>\n",
       "      <th>3</th>\n",
       "      <td>4</td>\n",
       "      <td>150</td>\n",
       "      <td>30</td>\n",
       "      <td>15</td>\n",
       "      <td>0.50</td>\n",
       "    </tr>\n",
       "    <tr>\n",
       "      <th>4</th>\n",
       "      <td>5</td>\n",
       "      <td>200</td>\n",
       "      <td>30</td>\n",
       "      <td>10</td>\n",
       "      <td>0.33</td>\n",
       "    </tr>\n",
       "    <tr>\n",
       "      <th>5</th>\n",
       "      <td>6</td>\n",
       "      <td>250</td>\n",
       "      <td>30</td>\n",
       "      <td>5</td>\n",
       "      <td>0.17</td>\n",
       "    </tr>\n",
       "    <tr>\n",
       "      <th>6</th>\n",
       "      <td>7</td>\n",
       "      <td>300</td>\n",
       "      <td>30</td>\n",
       "      <td>4</td>\n",
       "      <td>0.13</td>\n",
       "    </tr>\n",
       "    <tr>\n",
       "      <th>7</th>\n",
       "      <td>8</td>\n",
       "      <td>350</td>\n",
       "      <td>30</td>\n",
       "      <td>3</td>\n",
       "      <td>0.10</td>\n",
       "    </tr>\n",
       "    <tr>\n",
       "      <th>8</th>\n",
       "      <td>9</td>\n",
       "      <td>400</td>\n",
       "      <td>30</td>\n",
       "      <td>3</td>\n",
       "      <td>0.10</td>\n",
       "    </tr>\n",
       "    <tr>\n",
       "      <th>9</th>\n",
       "      <td>10</td>\n",
       "      <td>450</td>\n",
       "      <td>30</td>\n",
       "      <td>1</td>\n",
       "      <td>0.03</td>\n",
       "    </tr>\n",
       "    <tr>\n",
       "      <th>10</th>\n",
       "      <td>11</td>\n",
       "      <td>500</td>\n",
       "      <td>30</td>\n",
       "      <td>0</td>\n",
       "      <td>0.00</td>\n",
       "    </tr>\n",
       "  </tbody>\n",
       "</table>\n",
       "</div>"
      ],
      "text/plain": [
       "    group  caffeine  n_volunteers  A_grade  proportion_A\n",
       "0       1         0            30       10          0.33\n",
       "1       2        50            30       13          0.43\n",
       "2       3       100            30       17          0.57\n",
       "3       4       150            30       15          0.50\n",
       "4       5       200            30       10          0.33\n",
       "5       6       250            30        5          0.17\n",
       "6       7       300            30        4          0.13\n",
       "7       8       350            30        3          0.10\n",
       "8       9       400            30        3          0.10\n",
       "9      10       450            30        1          0.03\n",
       "10     11       500            30        0          0.00"
      ]
     },
     "execution_count": 33,
     "metadata": {},
     "output_type": "execute_result"
    }
   ],
   "source": [
    "df"
   ]
  },
  {
   "cell_type": "code",
   "execution_count": 67,
   "metadata": {},
   "outputs": [],
   "source": [
    "import numpy as np\n",
    "Xf = np.array([])\n",
    "yf = np.array([])\n",
    "for i, row in df.iterrows():\n",
    "    n = int(row['n_volunteers'])\n",
    "    Xf = np.concatenate([Xf, row['caffeine']*np.ones(n)]) \n",
    "    nA = int(row['proportion_A']*n)\n",
    "    yf = np.concatenate([yf, np.ones(nA)])\n",
    "    yf = np.concatenate([yf, np.zeros(n-nA)])"
   ]
  },
  {
   "cell_type": "code",
   "execution_count": 87,
   "metadata": {},
   "outputs": [],
   "source": [
    "idx = np.random.permutation(yf.size)\n",
    "Xf = Xf[idx]\n",
    "yf = yf[idx]"
   ]
  },
  {
   "cell_type": "code",
   "execution_count": 94,
   "metadata": {},
   "outputs": [],
   "source": [
    "from sklearn.linear_model import LogisticRegression\n",
    "lrm = LogisticRegression().fit(Xf.reshape(-1,1),yf)"
   ]
  },
  {
   "cell_type": "code",
   "execution_count": 100,
   "metadata": {},
   "outputs": [
    {
     "data": {
      "image/png": "[encoded data removed]",
      "text/plain": [
       "<Figure size 640x480 with 1 Axes>"
      ]
     },
     "metadata": {},
     "output_type": "display_data"
    }
   ],
   "source": [
    "plt.figure()\n",
    "plt.scatter(X,y)\n",
    "plt.xlabel('Caffeine (mg)')\n",
    "plt.ylabel('Probability of grade A')\n",
    "xtest= np.linspace(0, 500, 100)\n",
    "proba = lrm.predict_proba(xtest.reshape(-1,1))\n",
    "\n",
    "plt.plot(xtest, proba[:,1])\n",
    "plt.show()\n",
    " "
   ]
  },
  {
   "cell_type": "code",
   "execution_count": 104,
   "metadata": {},
   "outputs": [
    {
     "data": {
      "image/png": "[encoded data removed]",
      "text/plain": [
       "<Figure size 640x480 with 1 Axes>"
      ]
     },
     "metadata": {},
     "output_type": "display_data"
    }
   ],
   "source": [
    "plt.figure()\n",
    "proba = lrm.predict_proba(X)\n",
    " \n",
    "plt.scatter(y,proba[:,1])\n",
    "plt.plot(np.linspace(0,1,3),np.linspace(0,1,3))\n",
    "plt.xlabel('Observed proportion')\n",
    "plt.ylabel('Expected proportion')\n",
    " \n",
    " \n",
    "plt.show()\n",
    " "
   ]
  },
  {
   "cell_type": "markdown",
   "metadata": {},
   "source": [
    "\"In this caffeine example, there are 30 observations for each dose, which makes calculation of the Pearson chi-squared statistic feasible. Unfortunately, it is common that there are not enough observations for each possible combinations of values of the x variables, so the Pearson chi-squared statistic cannot be readily calculated. A solution to this problem is the Hosmer-Lemeshow statistic. The key concept of the Hosmer-Lemeshow statistic is that, instead of observations being grouped by the values of the x variable(s), the observations are grouped by expected probability. That is, observations with similar expected probability are put into the same group, usually to create approximately 10 groups.\" (Source: Wikipedia)\n"
   ]
  },
  {
   "cell_type": "markdown",
   "metadata": {},
   "source": [
    "The Hosmer–Lemeshow test can determine if the differences between observed and expected proportions are significant, indicating model lack of fit. "
   ]
  },
  {
   "cell_type": "markdown",
   "metadata": {},
   "source": [
    "The Hosmer-Lemeshow test statistic is given by:\n",
    "$$\n",
    "H=\\sum_{g=1}^G\\left(\\frac{\\left(O_{1 g}-E_{1 g}\\right)^2}{E_{1 g}}+\\frac{\\left(O_{0 g}-E_{0 g}\\right)^2}{E_{0 g}}\\right)=\\sum_{g=1}^G\\left(\\frac{\\left(O_{1 g}-E_{1 g}\\right)^2}{N_g \\pi_g}+\\frac{\\left(N_g-O_{1 g}-\\left(N_g-E_{1 g}\\right)\\right)^2}{N_g\\left(1-\\pi_g\\right)}\\right)=\\sum_{g=1}^G \\frac{\\left(O_{1 g}-E_{1 g}\\right)^2}{N_g \\pi_g\\left(1-\\pi_g\\right)} .\n",
    "$$\n",
    "Here $O_{1 g}, E_{1 g}, O_{0 g}, E_{0 g}, N_g$, and $\\pi_g$ denote the observed $Y=1$ events, expected $Y=1$ events, observed $Y=0$ events, expected $Y=0$ events, total observations, predicted risk for the $g^{\\text {th }}$ risk decile group, and $G$ is the number of groups. The test statistic asymptotically follows a $\\chi^2$ distribution with $G-2$ degrees of freedom. The number of risk groups may be adjusted depending on how many fitted risks are determined by the model. This helps to avoid singular decile groups."
   ]
  },
  {
   "cell_type": "markdown",
   "metadata": {},
   "source": []
  }
 ],
 "metadata": {
  "kernelspec": {
   "display_name": "Python 3.8.13 ('kaggle')",
   "language": "python",
   "name": "python3"
  },
  "language_info": {
   "codemirror_mode": {
    "name": "ipython",
    "version": 3
   },
   "file_extension": ".py",
   "mimetype": "text/x-python",
   "name": "python",
   "nbconvert_exporter": "python",
   "pygments_lexer": "ipython3",
   "version": "3.8.13"
  },
  "orig_nbformat": 4,
  "vscode": {
   "interpreter": {
    "hash": "4c4e0504ba4f8abcccd6b45a5e69ac5fd55105e3f711ce7b6bc459654b70048f"
   }
  }
 },
 "nbformat": 4,
 "nbformat_minor": 2
}
