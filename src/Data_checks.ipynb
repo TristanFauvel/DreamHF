{
 "cells": [
  {
   "cell_type": "code",
   "execution_count": 1,
   "metadata": {},
   "outputs": [],
   "source": [
    "from preprocessing import readcounts_processing_pipeline, pheno_processing_pipeline\n",
    "import pandas as pd\n",
    "import matplotlib.pyplot as plt\n",
    "from dotenv import load_dotenv\n",
    "import numpy as np\n",
    "load_dotenv()\n",
    "root = os.environ.get(\"root_folder\")"
   ]
  },
  {
   "cell_type": "code",
   "execution_count": 4,
   "metadata": {},
   "outputs": [],
   "source": [
    "pheno_df_train = pd.read_csv(root + '/train/pheno_training.csv')\n",
    "pheno_df_train.describe()\n",
    "\n",
    "pheno_df_test = pd.read_csv(root +  '/test/pheno_test.csv')\n"
   ]
  },
  {
   "cell_type": "code",
   "execution_count": 5,
   "metadata": {},
   "outputs": [
    {
     "name": "stdout",
     "output_type": "stream",
     "text": [
      "Column BodyMassIndex has 1 missing values\n",
      "Column Smoking has 16 missing values\n",
      "Column PrevalentDiabetes has 51 missing values\n",
      "Column PrevalentCHD has 51 missing values\n",
      "Column PrevalentHFAIL has 51 missing values\n",
      "Column Event has 51 missing values\n",
      "Column Event_time has 51 missing values\n",
      "Column NonHDLcholesterol has 7 missing values\n",
      "Deleted 75 rows with missing values\n",
      "Column Smoking has 11 missing values\n",
      "Column PrevalentDiabetes has 30 missing values\n",
      "Column PrevalentCHD has 30 missing values\n",
      "Column PrevalentHFAIL has 30 missing values\n",
      "Column Event has 30 missing values\n",
      "Column Event_time has 30 missing values\n",
      "Column SystolicBP has 1 missing values\n",
      "Column NonHDLcholesterol has 3 missing values\n",
      "Deleted 45 rows with missing values\n"
     ]
    }
   ],
   "source": [
    "from preprocessing import check_data\n",
    "imputation = 'delete'\n",
    "pheno_df_train = check_data(pheno_df_train, True, imputation)\n",
    "pheno_df_test = check_data(pheno_df_test, False, imputation)"
   ]
  },
  {
   "cell_type": "code",
   "execution_count": 6,
   "metadata": {},
   "outputs": [
    {
     "ename": "TypeError",
     "evalue": "ufunc 'invert' not supported for the input types, and the inputs could not be safely coerced to any supported types according to the casting rule ''safe''",
     "output_type": "error",
     "traceback": [
      "\u001b[0;31m---------------------------------------------------------------------------\u001b[0m",
      "\u001b[0;31mTypeError\u001b[0m                                 Traceback (most recent call last)",
      "\u001b[0;32m/tmp/ipykernel_131942/3613515879.py\u001b[0m in \u001b[0;36m<module>\u001b[0;34m\u001b[0m\n\u001b[1;32m      6\u001b[0m \u001b[0maxs\u001b[0m\u001b[0;34m[\u001b[0m\u001b[0;36m0\u001b[0m\u001b[0;34m,\u001b[0m \u001b[0;36m0\u001b[0m\u001b[0;34m]\u001b[0m\u001b[0;34m.\u001b[0m\u001b[0mset_ylabel\u001b[0m\u001b[0;34m(\u001b[0m\u001b[0;34m'Count'\u001b[0m\u001b[0;34m)\u001b[0m\u001b[0;34m\u001b[0m\u001b[0;34m\u001b[0m\u001b[0m\n\u001b[1;32m      7\u001b[0m \u001b[0;34m\u001b[0m\u001b[0m\n\u001b[0;32m----> 8\u001b[0;31m \u001b[0maxs\u001b[0m\u001b[0;34m[\u001b[0m\u001b[0;36m0\u001b[0m\u001b[0;34m,\u001b[0m \u001b[0;36m1\u001b[0m\u001b[0;34m]\u001b[0m\u001b[0;34m.\u001b[0m\u001b[0mhist\u001b[0m\u001b[0;34m(\u001b[0m\u001b[0mpheno_df_train\u001b[0m\u001b[0;34m.\u001b[0m\u001b[0mloc\u001b[0m\u001b[0;34m[\u001b[0m\u001b[0;34m~\u001b[0m\u001b[0mpheno_df_train\u001b[0m\u001b[0;34m.\u001b[0m\u001b[0mEvent\u001b[0m\u001b[0;34m]\u001b[0m\u001b[0;34m.\u001b[0m\u001b[0mEvent_time\u001b[0m\u001b[0;34m)\u001b[0m\u001b[0;34m\u001b[0m\u001b[0;34m\u001b[0m\u001b[0m\n\u001b[0m\u001b[1;32m      9\u001b[0m \u001b[0maxs\u001b[0m\u001b[0;34m[\u001b[0m\u001b[0;36m0\u001b[0m\u001b[0;34m,\u001b[0m \u001b[0;36m1\u001b[0m\u001b[0;34m]\u001b[0m\u001b[0;34m.\u001b[0m\u001b[0mset_title\u001b[0m\u001b[0;34m(\u001b[0m\u001b[0;34m\"Training, Event = 0\"\u001b[0m\u001b[0;34m)\u001b[0m\u001b[0;34m\u001b[0m\u001b[0;34m\u001b[0m\u001b[0m\n\u001b[1;32m     10\u001b[0m \u001b[0;34m\u001b[0m\u001b[0m\n",
      "\u001b[0;32m~/anaconda3/envs/ml/lib/python3.7/site-packages/pandas/core/generic.py\u001b[0m in \u001b[0;36m__invert__\u001b[0;34m(self)\u001b[0m\n\u001b[1;32m   1530\u001b[0m             \u001b[0;32mreturn\u001b[0m \u001b[0mself\u001b[0m\u001b[0;34m\u001b[0m\u001b[0;34m\u001b[0m\u001b[0m\n\u001b[1;32m   1531\u001b[0m \u001b[0;34m\u001b[0m\u001b[0m\n\u001b[0;32m-> 1532\u001b[0;31m         \u001b[0mnew_data\u001b[0m \u001b[0;34m=\u001b[0m \u001b[0mself\u001b[0m\u001b[0;34m.\u001b[0m\u001b[0m_mgr\u001b[0m\u001b[0;34m.\u001b[0m\u001b[0mapply\u001b[0m\u001b[0;34m(\u001b[0m\u001b[0moperator\u001b[0m\u001b[0;34m.\u001b[0m\u001b[0minvert\u001b[0m\u001b[0;34m)\u001b[0m\u001b[0;34m\u001b[0m\u001b[0;34m\u001b[0m\u001b[0m\n\u001b[0m\u001b[1;32m   1533\u001b[0m         \u001b[0;32mreturn\u001b[0m \u001b[0mself\u001b[0m\u001b[0;34m.\u001b[0m\u001b[0m_constructor\u001b[0m\u001b[0;34m(\u001b[0m\u001b[0mnew_data\u001b[0m\u001b[0;34m)\u001b[0m\u001b[0;34m.\u001b[0m\u001b[0m__finalize__\u001b[0m\u001b[0;34m(\u001b[0m\u001b[0mself\u001b[0m\u001b[0;34m,\u001b[0m \u001b[0mmethod\u001b[0m\u001b[0;34m=\u001b[0m\u001b[0;34m\"__invert__\"\u001b[0m\u001b[0;34m)\u001b[0m\u001b[0;34m\u001b[0m\u001b[0;34m\u001b[0m\u001b[0m\n\u001b[1;32m   1534\u001b[0m \u001b[0;34m\u001b[0m\u001b[0m\n",
      "\u001b[0;32m~/anaconda3/envs/ml/lib/python3.7/site-packages/pandas/core/internals/managers.py\u001b[0m in \u001b[0;36mapply\u001b[0;34m(self, f, align_keys, ignore_failures, **kwargs)\u001b[0m\n\u001b[1;32m    323\u001b[0m             \u001b[0;32mtry\u001b[0m\u001b[0;34m:\u001b[0m\u001b[0;34m\u001b[0m\u001b[0;34m\u001b[0m\u001b[0m\n\u001b[1;32m    324\u001b[0m                 \u001b[0;32mif\u001b[0m \u001b[0mcallable\u001b[0m\u001b[0;34m(\u001b[0m\u001b[0mf\u001b[0m\u001b[0;34m)\u001b[0m\u001b[0;34m:\u001b[0m\u001b[0;34m\u001b[0m\u001b[0;34m\u001b[0m\u001b[0m\n\u001b[0;32m--> 325\u001b[0;31m                     \u001b[0mapplied\u001b[0m \u001b[0;34m=\u001b[0m \u001b[0mb\u001b[0m\u001b[0;34m.\u001b[0m\u001b[0mapply\u001b[0m\u001b[0;34m(\u001b[0m\u001b[0mf\u001b[0m\u001b[0;34m,\u001b[0m \u001b[0;34m**\u001b[0m\u001b[0mkwargs\u001b[0m\u001b[0;34m)\u001b[0m\u001b[0;34m\u001b[0m\u001b[0;34m\u001b[0m\u001b[0m\n\u001b[0m\u001b[1;32m    326\u001b[0m                 \u001b[0;32melse\u001b[0m\u001b[0;34m:\u001b[0m\u001b[0;34m\u001b[0m\u001b[0;34m\u001b[0m\u001b[0m\n\u001b[1;32m    327\u001b[0m                     \u001b[0mapplied\u001b[0m \u001b[0;34m=\u001b[0m \u001b[0mgetattr\u001b[0m\u001b[0;34m(\u001b[0m\u001b[0mb\u001b[0m\u001b[0;34m,\u001b[0m \u001b[0mf\u001b[0m\u001b[0;34m)\u001b[0m\u001b[0;34m(\u001b[0m\u001b[0;34m**\u001b[0m\u001b[0mkwargs\u001b[0m\u001b[0;34m)\u001b[0m\u001b[0;34m\u001b[0m\u001b[0;34m\u001b[0m\u001b[0m\n",
      "\u001b[0;32m~/anaconda3/envs/ml/lib/python3.7/site-packages/pandas/core/internals/blocks.py\u001b[0m in \u001b[0;36mapply\u001b[0;34m(self, func, **kwargs)\u001b[0m\n\u001b[1;32m    379\u001b[0m         \"\"\"\n\u001b[1;32m    380\u001b[0m         \u001b[0;32mwith\u001b[0m \u001b[0mnp\u001b[0m\u001b[0;34m.\u001b[0m\u001b[0merrstate\u001b[0m\u001b[0;34m(\u001b[0m\u001b[0mall\u001b[0m\u001b[0;34m=\u001b[0m\u001b[0;34m\"ignore\"\u001b[0m\u001b[0;34m)\u001b[0m\u001b[0;34m:\u001b[0m\u001b[0;34m\u001b[0m\u001b[0;34m\u001b[0m\u001b[0m\n\u001b[0;32m--> 381\u001b[0;31m             \u001b[0mresult\u001b[0m \u001b[0;34m=\u001b[0m \u001b[0mfunc\u001b[0m\u001b[0;34m(\u001b[0m\u001b[0mself\u001b[0m\u001b[0;34m.\u001b[0m\u001b[0mvalues\u001b[0m\u001b[0;34m,\u001b[0m \u001b[0;34m**\u001b[0m\u001b[0mkwargs\u001b[0m\u001b[0;34m)\u001b[0m\u001b[0;34m\u001b[0m\u001b[0;34m\u001b[0m\u001b[0m\n\u001b[0m\u001b[1;32m    382\u001b[0m \u001b[0;34m\u001b[0m\u001b[0m\n\u001b[1;32m    383\u001b[0m         \u001b[0;32mreturn\u001b[0m \u001b[0mself\u001b[0m\u001b[0;34m.\u001b[0m\u001b[0m_split_op_result\u001b[0m\u001b[0;34m(\u001b[0m\u001b[0mresult\u001b[0m\u001b[0;34m)\u001b[0m\u001b[0;34m\u001b[0m\u001b[0;34m\u001b[0m\u001b[0m\n",
      "\u001b[0;31mTypeError\u001b[0m: ufunc 'invert' not supported for the input types, and the inputs could not be safely coerced to any supported types according to the casting rule ''safe''"
     ]
    },
    {
     "data": {
      "image/png": "[encoded data removed]",
      "text/plain": [
       "<Figure size 640x480 with 4 Axes>"
      ]
     },
     "metadata": {},
     "output_type": "display_data"
    }
   ],
   "source": [
    "# Create four polar axes and access them through the returned array\n",
    "fig, axs = plt.subplots(2, 2)\n",
    "fig.tight_layout() \n",
    "axs[0, 0].hist(pheno_df_train.loc[pheno_df_train.Event].Event_time)\n",
    "axs[0, 0].set_title(\"Training, Event = 1\")\n",
    "axs[0, 0].set_ylabel('Count')\n",
    "\n",
    "axs[0, 1].hist(pheno_df_train.loc[~pheno_df_train.Event].Event_time)\n",
    "axs[0, 1].set_title(\"Training, Event = 0\")\n",
    "\n",
    "axs[1, 0].hist(pheno_df_test.loc[pheno_df_test.Event].Event_time)\n",
    "axs[1, 0].set_title(\"Test, Event = 1\")\n",
    "axs[1, 0].set_xlabel('Time (years)')\n",
    "axs[1, 0].set_ylabel('Count')\n",
    "\n",
    "axs[1, 1].hist(pheno_df_test.loc[~pheno_df_test.Event].Event_time)\n",
    "axs[1, 1].set_title(\"Test, Event = 0\")\n",
    "axs[1, 1].set_xlabel('Time (years)')"
   ]
  },
  {
   "cell_type": "markdown",
   "metadata": {},
   "source": [
    "- 2.6% of the patients in the cohort previously experienced HF.\n",
    "- 8.4% of the patients have experienced HF after baseline\n",
    "\n",
    "Note that the Event corresponds to HF after baseline (\"excluding those occur before baseline\" )"
   ]
  },
  {
   "cell_type": "markdown",
   "metadata": {},
   "source": [
    "### Check that all patients with PrevalentHFAIL = 1 indeed have Event_time <0"
   ]
  },
  {
   "cell_type": "code",
   "execution_count": 63,
   "metadata": {},
   "outputs": [
    {
     "data": {
      "text/plain": [
       "93"
      ]
     },
     "execution_count": 63,
     "metadata": {},
     "output_type": "execute_result"
    }
   ],
   "source": [
    "(pheno_df_train[\"PrevalentHFAIL\"] == 1).sum()"
   ]
  },
  {
   "cell_type": "markdown",
   "metadata": {},
   "source": [
    "93 patients experienced HF before the baseline"
   ]
  },
  {
   "cell_type": "code",
   "execution_count": 64,
   "metadata": {},
   "outputs": [
    {
     "data": {
      "text/plain": [
       "93"
      ]
     },
     "execution_count": 64,
     "metadata": {},
     "output_type": "execute_result"
    }
   ],
   "source": [
    "(pheno_df_train[\"Event_time\"] < 0).sum()"
   ]
  },
  {
   "cell_type": "code",
   "execution_count": 65,
   "metadata": {},
   "outputs": [
    {
     "data": {
      "text/plain": [
       "93"
      ]
     },
     "execution_count": 65,
     "metadata": {},
     "output_type": "execute_result"
    }
   ],
   "source": [
    "((pheno_df_train[\"Event_time\"] < 0) & (pheno_df_train[\"PrevalentHFAIL\"] == 1)).sum()  "
   ]
  },
  {
   "cell_type": "markdown",
   "metadata": {},
   "source": [
    "### Check that all patients with Event_time <0 (that is, PrevalentHFAIL == 1) have Event == 0"
   ]
  },
  {
   "cell_type": "code",
   "execution_count": 66,
   "metadata": {},
   "outputs": [
    {
     "data": {
      "text/plain": [
       "7"
      ]
     },
     "execution_count": 66,
     "metadata": {},
     "output_type": "execute_result"
    }
   ],
   "source": [
    "artifacts = (pheno_df_train[\"Event_time\"] < 0) & (pheno_df_train[\"Event\"] == 1) \n",
    "artifacts.sum() "
   ]
  },
  {
   "cell_type": "markdown",
   "metadata": {},
   "source": [
    "This is an artifact from the simulation (see discussion on the challenge page)"
   ]
  },
  {
   "cell_type": "code",
   "execution_count": 67,
   "metadata": {},
   "outputs": [
    {
     "data": {
      "text/html": [
       "<div>\n",
       "<style scoped>\n",
       "    .dataframe tbody tr th:only-of-type {\n",
       "        vertical-align: middle;\n",
       "    }\n",
       "\n",
       "    .dataframe tbody tr th {\n",
       "        vertical-align: top;\n",
       "    }\n",
       "\n",
       "    .dataframe thead th {\n",
       "        text-align: right;\n",
       "    }\n",
       "</style>\n",
       "<table border=\"1\" class=\"dataframe\">\n",
       "  <thead>\n",
       "    <tr style=\"text-align: right;\">\n",
       "      <th></th>\n",
       "      <th>Age</th>\n",
       "      <th>BodyMassIndex</th>\n",
       "      <th>Smoking=1</th>\n",
       "      <th>BPTreatment=1</th>\n",
       "      <th>PrevalentDiabetes=1</th>\n",
       "      <th>PrevalentCHD=1</th>\n",
       "      <th>Event</th>\n",
       "      <th>Event_time</th>\n",
       "      <th>SystolicBP</th>\n",
       "      <th>NonHDLcholesterol</th>\n",
       "      <th>Sex=1</th>\n",
       "    </tr>\n",
       "  </thead>\n",
       "  <tbody>\n",
       "    <tr>\n",
       "      <th>Simulated_328</th>\n",
       "      <td>53.618</td>\n",
       "      <td>24.127</td>\n",
       "      <td>0.0</td>\n",
       "      <td>0.0</td>\n",
       "      <td>0.0</td>\n",
       "      <td>0.0</td>\n",
       "      <td>False</td>\n",
       "      <td>15.75</td>\n",
       "      <td>133.077</td>\n",
       "      <td>3.02</td>\n",
       "      <td>0.0</td>\n",
       "    </tr>\n",
       "    <tr>\n",
       "      <th>Simulated_1644</th>\n",
       "      <td>36.811</td>\n",
       "      <td>27.992</td>\n",
       "      <td>0.0</td>\n",
       "      <td>0.0</td>\n",
       "      <td>0.0</td>\n",
       "      <td>0.0</td>\n",
       "      <td>False</td>\n",
       "      <td>15.881</td>\n",
       "      <td>108.914</td>\n",
       "      <td>5.48</td>\n",
       "      <td>0.0</td>\n",
       "    </tr>\n",
       "    <tr>\n",
       "      <th>Simulated_1710</th>\n",
       "      <td>49.429</td>\n",
       "      <td>23.664</td>\n",
       "      <td>0.0</td>\n",
       "      <td>0.0</td>\n",
       "      <td>0.0</td>\n",
       "      <td>0.0</td>\n",
       "      <td>False</td>\n",
       "      <td>15.891</td>\n",
       "      <td>110.064</td>\n",
       "      <td>4.388</td>\n",
       "      <td>1.0</td>\n",
       "    </tr>\n",
       "    <tr>\n",
       "      <th>Simulated_1732</th>\n",
       "      <td>48.842</td>\n",
       "      <td>26.804</td>\n",
       "      <td>0.0</td>\n",
       "      <td>0.0</td>\n",
       "      <td>0.0</td>\n",
       "      <td>0.0</td>\n",
       "      <td>False</td>\n",
       "      <td>15.918</td>\n",
       "      <td>128.059</td>\n",
       "      <td>5.119</td>\n",
       "      <td>0.0</td>\n",
       "    </tr>\n",
       "    <tr>\n",
       "      <th>Simulated_1727</th>\n",
       "      <td>60.738</td>\n",
       "      <td>29.862</td>\n",
       "      <td>0.0</td>\n",
       "      <td>0.0</td>\n",
       "      <td>0.0</td>\n",
       "      <td>0.0</td>\n",
       "      <td>False</td>\n",
       "      <td>15.841</td>\n",
       "      <td>169.913</td>\n",
       "      <td>5.74</td>\n",
       "      <td>1.0</td>\n",
       "    </tr>\n",
       "    <tr>\n",
       "      <th>...</th>\n",
       "      <td>...</td>\n",
       "      <td>...</td>\n",
       "      <td>...</td>\n",
       "      <td>...</td>\n",
       "      <td>...</td>\n",
       "      <td>...</td>\n",
       "      <td>...</td>\n",
       "      <td>...</td>\n",
       "      <td>...</td>\n",
       "      <td>...</td>\n",
       "      <td>...</td>\n",
       "    </tr>\n",
       "    <tr>\n",
       "      <th>Simulated_1783</th>\n",
       "      <td>33.802</td>\n",
       "      <td>37.049</td>\n",
       "      <td>0.0</td>\n",
       "      <td>0.0</td>\n",
       "      <td>0.0</td>\n",
       "      <td>0.0</td>\n",
       "      <td>False</td>\n",
       "      <td>15.942</td>\n",
       "      <td>109.08</td>\n",
       "      <td>3.141</td>\n",
       "      <td>0.0</td>\n",
       "    </tr>\n",
       "    <tr>\n",
       "      <th>Simulated_3425</th>\n",
       "      <td>69.249</td>\n",
       "      <td>36.8</td>\n",
       "      <td>0.0</td>\n",
       "      <td>0.0</td>\n",
       "      <td>1.0</td>\n",
       "      <td>0.0</td>\n",
       "      <td>False</td>\n",
       "      <td>15.781</td>\n",
       "      <td>145.953</td>\n",
       "      <td>5.478</td>\n",
       "      <td>1.0</td>\n",
       "    </tr>\n",
       "    <tr>\n",
       "      <th>Simulated_1789</th>\n",
       "      <td>28.561</td>\n",
       "      <td>26.463</td>\n",
       "      <td>0.0</td>\n",
       "      <td>0.0</td>\n",
       "      <td>0.0</td>\n",
       "      <td>0.0</td>\n",
       "      <td>False</td>\n",
       "      <td>12.198</td>\n",
       "      <td>124.091</td>\n",
       "      <td>4.87</td>\n",
       "      <td>1.0</td>\n",
       "    </tr>\n",
       "    <tr>\n",
       "      <th>Simulated_1592</th>\n",
       "      <td>70.278</td>\n",
       "      <td>31.945</td>\n",
       "      <td>0.0</td>\n",
       "      <td>1.0</td>\n",
       "      <td>0.0</td>\n",
       "      <td>0.0</td>\n",
       "      <td>False</td>\n",
       "      <td>15.609</td>\n",
       "      <td>142.038</td>\n",
       "      <td>2.492</td>\n",
       "      <td>0.0</td>\n",
       "    </tr>\n",
       "    <tr>\n",
       "      <th>Simulated_1731</th>\n",
       "      <td>38.799</td>\n",
       "      <td>25.928</td>\n",
       "      <td>0.0</td>\n",
       "      <td>0.0</td>\n",
       "      <td>0.0</td>\n",
       "      <td>0.0</td>\n",
       "      <td>False</td>\n",
       "      <td>15.739</td>\n",
       "      <td>176.939</td>\n",
       "      <td>4.19</td>\n",
       "      <td>0.0</td>\n",
       "    </tr>\n",
       "  </tbody>\n",
       "</table>\n",
       "<p>3533 rows × 11 columns</p>\n",
       "</div>"
      ],
      "text/plain": [
       "                   Age  BodyMassIndex  Smoking=1  BPTreatment=1  \\\n",
       "Simulated_328   53.618         24.127        0.0            0.0   \n",
       "Simulated_1644  36.811         27.992        0.0            0.0   \n",
       "Simulated_1710  49.429         23.664        0.0            0.0   \n",
       "Simulated_1732  48.842         26.804        0.0            0.0   \n",
       "Simulated_1727  60.738         29.862        0.0            0.0   \n",
       "...                ...            ...        ...            ...   \n",
       "Simulated_1783  33.802         37.049        0.0            0.0   \n",
       "Simulated_3425  69.249           36.8        0.0            0.0   \n",
       "Simulated_1789  28.561         26.463        0.0            0.0   \n",
       "Simulated_1592  70.278         31.945        0.0            1.0   \n",
       "Simulated_1731  38.799         25.928        0.0            0.0   \n",
       "\n",
       "                PrevalentDiabetes=1  PrevalentCHD=1  Event  Event_time  \\\n",
       "Simulated_328                   0.0             0.0  False       15.75   \n",
       "Simulated_1644                  0.0             0.0  False      15.881   \n",
       "Simulated_1710                  0.0             0.0  False      15.891   \n",
       "Simulated_1732                  0.0             0.0  False      15.918   \n",
       "Simulated_1727                  0.0             0.0  False      15.841   \n",
       "...                             ...             ...    ...         ...   \n",
       "Simulated_1783                  0.0             0.0  False      15.942   \n",
       "Simulated_3425                  1.0             0.0  False      15.781   \n",
       "Simulated_1789                  0.0             0.0  False      12.198   \n",
       "Simulated_1592                  0.0             0.0  False      15.609   \n",
       "Simulated_1731                  0.0             0.0  False      15.739   \n",
       "\n",
       "                SystolicBP  NonHDLcholesterol  Sex=1  \n",
       "Simulated_328      133.077               3.02    0.0  \n",
       "Simulated_1644     108.914               5.48    0.0  \n",
       "Simulated_1710     110.064              4.388    1.0  \n",
       "Simulated_1732     128.059              5.119    0.0  \n",
       "Simulated_1727     169.913               5.74    1.0  \n",
       "...                    ...                ...    ...  \n",
       "Simulated_1783      109.08              3.141    0.0  \n",
       "Simulated_3425     145.953              5.478    1.0  \n",
       "Simulated_1789     124.091               4.87    1.0  \n",
       "Simulated_1592     142.038              2.492    0.0  \n",
       "Simulated_1731     176.939               4.19    0.0  \n",
       "\n",
       "[3533 rows x 11 columns]"
      ]
     },
     "execution_count": 67,
     "metadata": {},
     "output_type": "execute_result"
    }
   ],
   "source": [
    "pheno_df_train = pheno_processing_pipeline(pheno_df_train)\n",
    "pheno_df_test = pheno_processing_pipeline(pheno_df_test)\n",
    "pheno_df_train"
   ]
  },
  {
   "cell_type": "markdown",
   "metadata": {},
   "source": [
    "- BPTreatment = Blood pressure treatment\n",
    "- Prevalent CHD = Prevalent coronary heart disease"
   ]
  },
  {
   "cell_type": "markdown",
   "metadata": {},
   "source": [
    "### Check that training set and test set do not intersect"
   ]
  },
  {
   "cell_type": "code",
   "execution_count": 68,
   "metadata": {},
   "outputs": [
    {
     "data": {
      "text/html": [
       "<div>\n",
       "<style scoped>\n",
       "    .dataframe tbody tr th:only-of-type {\n",
       "        vertical-align: middle;\n",
       "    }\n",
       "\n",
       "    .dataframe tbody tr th {\n",
       "        vertical-align: top;\n",
       "    }\n",
       "\n",
       "    .dataframe thead th {\n",
       "        text-align: right;\n",
       "    }\n",
       "</style>\n",
       "<table border=\"1\" class=\"dataframe\">\n",
       "  <thead>\n",
       "    <tr style=\"text-align: right;\">\n",
       "      <th></th>\n",
       "      <th>Age</th>\n",
       "      <th>BodyMassIndex</th>\n",
       "      <th>Smoking=1</th>\n",
       "      <th>BPTreatment=1</th>\n",
       "      <th>PrevalentDiabetes=1</th>\n",
       "      <th>PrevalentCHD=1</th>\n",
       "      <th>Event</th>\n",
       "      <th>Event_time</th>\n",
       "      <th>SystolicBP</th>\n",
       "      <th>NonHDLcholesterol</th>\n",
       "      <th>Sex=1</th>\n",
       "    </tr>\n",
       "  </thead>\n",
       "  <tbody>\n",
       "    <tr>\n",
       "      <th>Simulated_328</th>\n",
       "      <td>53.618</td>\n",
       "      <td>24.127</td>\n",
       "      <td>0.0</td>\n",
       "      <td>0.0</td>\n",
       "      <td>0.0</td>\n",
       "      <td>0.0</td>\n",
       "      <td>False</td>\n",
       "      <td>15.75</td>\n",
       "      <td>133.077</td>\n",
       "      <td>3.02</td>\n",
       "      <td>0.0</td>\n",
       "    </tr>\n",
       "    <tr>\n",
       "      <th>Simulated_1644</th>\n",
       "      <td>36.811</td>\n",
       "      <td>27.992</td>\n",
       "      <td>0.0</td>\n",
       "      <td>0.0</td>\n",
       "      <td>0.0</td>\n",
       "      <td>0.0</td>\n",
       "      <td>False</td>\n",
       "      <td>15.881</td>\n",
       "      <td>108.914</td>\n",
       "      <td>5.48</td>\n",
       "      <td>0.0</td>\n",
       "    </tr>\n",
       "    <tr>\n",
       "      <th>Simulated_1710</th>\n",
       "      <td>49.429</td>\n",
       "      <td>23.664</td>\n",
       "      <td>0.0</td>\n",
       "      <td>0.0</td>\n",
       "      <td>0.0</td>\n",
       "      <td>0.0</td>\n",
       "      <td>False</td>\n",
       "      <td>15.891</td>\n",
       "      <td>110.064</td>\n",
       "      <td>4.388</td>\n",
       "      <td>1.0</td>\n",
       "    </tr>\n",
       "    <tr>\n",
       "      <th>Simulated_1732</th>\n",
       "      <td>48.842</td>\n",
       "      <td>26.804</td>\n",
       "      <td>0.0</td>\n",
       "      <td>0.0</td>\n",
       "      <td>0.0</td>\n",
       "      <td>0.0</td>\n",
       "      <td>False</td>\n",
       "      <td>15.918</td>\n",
       "      <td>128.059</td>\n",
       "      <td>5.119</td>\n",
       "      <td>0.0</td>\n",
       "    </tr>\n",
       "    <tr>\n",
       "      <th>Simulated_1727</th>\n",
       "      <td>60.738</td>\n",
       "      <td>29.862</td>\n",
       "      <td>0.0</td>\n",
       "      <td>0.0</td>\n",
       "      <td>0.0</td>\n",
       "      <td>0.0</td>\n",
       "      <td>False</td>\n",
       "      <td>15.841</td>\n",
       "      <td>169.913</td>\n",
       "      <td>5.74</td>\n",
       "      <td>1.0</td>\n",
       "    </tr>\n",
       "    <tr>\n",
       "      <th>...</th>\n",
       "      <td>...</td>\n",
       "      <td>...</td>\n",
       "      <td>...</td>\n",
       "      <td>...</td>\n",
       "      <td>...</td>\n",
       "      <td>...</td>\n",
       "      <td>...</td>\n",
       "      <td>...</td>\n",
       "      <td>...</td>\n",
       "      <td>...</td>\n",
       "      <td>...</td>\n",
       "    </tr>\n",
       "    <tr>\n",
       "      <th>Simulated_1783</th>\n",
       "      <td>33.802</td>\n",
       "      <td>37.049</td>\n",
       "      <td>0.0</td>\n",
       "      <td>0.0</td>\n",
       "      <td>0.0</td>\n",
       "      <td>0.0</td>\n",
       "      <td>False</td>\n",
       "      <td>15.942</td>\n",
       "      <td>109.08</td>\n",
       "      <td>3.141</td>\n",
       "      <td>0.0</td>\n",
       "    </tr>\n",
       "    <tr>\n",
       "      <th>Simulated_3425</th>\n",
       "      <td>69.249</td>\n",
       "      <td>36.8</td>\n",
       "      <td>0.0</td>\n",
       "      <td>0.0</td>\n",
       "      <td>1.0</td>\n",
       "      <td>0.0</td>\n",
       "      <td>False</td>\n",
       "      <td>15.781</td>\n",
       "      <td>145.953</td>\n",
       "      <td>5.478</td>\n",
       "      <td>1.0</td>\n",
       "    </tr>\n",
       "    <tr>\n",
       "      <th>Simulated_1789</th>\n",
       "      <td>28.561</td>\n",
       "      <td>26.463</td>\n",
       "      <td>0.0</td>\n",
       "      <td>0.0</td>\n",
       "      <td>0.0</td>\n",
       "      <td>0.0</td>\n",
       "      <td>False</td>\n",
       "      <td>12.198</td>\n",
       "      <td>124.091</td>\n",
       "      <td>4.87</td>\n",
       "      <td>1.0</td>\n",
       "    </tr>\n",
       "    <tr>\n",
       "      <th>Simulated_1592</th>\n",
       "      <td>70.278</td>\n",
       "      <td>31.945</td>\n",
       "      <td>0.0</td>\n",
       "      <td>1.0</td>\n",
       "      <td>0.0</td>\n",
       "      <td>0.0</td>\n",
       "      <td>False</td>\n",
       "      <td>15.609</td>\n",
       "      <td>142.038</td>\n",
       "      <td>2.492</td>\n",
       "      <td>0.0</td>\n",
       "    </tr>\n",
       "    <tr>\n",
       "      <th>Simulated_1731</th>\n",
       "      <td>38.799</td>\n",
       "      <td>25.928</td>\n",
       "      <td>0.0</td>\n",
       "      <td>0.0</td>\n",
       "      <td>0.0</td>\n",
       "      <td>0.0</td>\n",
       "      <td>False</td>\n",
       "      <td>15.739</td>\n",
       "      <td>176.939</td>\n",
       "      <td>4.19</td>\n",
       "      <td>0.0</td>\n",
       "    </tr>\n",
       "  </tbody>\n",
       "</table>\n",
       "<p>3533 rows × 11 columns</p>\n",
       "</div>"
      ],
      "text/plain": [
       "                   Age  BodyMassIndex  Smoking=1  BPTreatment=1  \\\n",
       "Simulated_328   53.618         24.127        0.0            0.0   \n",
       "Simulated_1644  36.811         27.992        0.0            0.0   \n",
       "Simulated_1710  49.429         23.664        0.0            0.0   \n",
       "Simulated_1732  48.842         26.804        0.0            0.0   \n",
       "Simulated_1727  60.738         29.862        0.0            0.0   \n",
       "...                ...            ...        ...            ...   \n",
       "Simulated_1783  33.802         37.049        0.0            0.0   \n",
       "Simulated_3425  69.249           36.8        0.0            0.0   \n",
       "Simulated_1789  28.561         26.463        0.0            0.0   \n",
       "Simulated_1592  70.278         31.945        0.0            1.0   \n",
       "Simulated_1731  38.799         25.928        0.0            0.0   \n",
       "\n",
       "                PrevalentDiabetes=1  PrevalentCHD=1  Event  Event_time  \\\n",
       "Simulated_328                   0.0             0.0  False       15.75   \n",
       "Simulated_1644                  0.0             0.0  False      15.881   \n",
       "Simulated_1710                  0.0             0.0  False      15.891   \n",
       "Simulated_1732                  0.0             0.0  False      15.918   \n",
       "Simulated_1727                  0.0             0.0  False      15.841   \n",
       "...                             ...             ...    ...         ...   \n",
       "Simulated_1783                  0.0             0.0  False      15.942   \n",
       "Simulated_3425                  1.0             0.0  False      15.781   \n",
       "Simulated_1789                  0.0             0.0  False      12.198   \n",
       "Simulated_1592                  0.0             0.0  False      15.609   \n",
       "Simulated_1731                  0.0             0.0  False      15.739   \n",
       "\n",
       "                SystolicBP  NonHDLcholesterol  Sex=1  \n",
       "Simulated_328      133.077               3.02    0.0  \n",
       "Simulated_1644     108.914               5.48    0.0  \n",
       "Simulated_1710     110.064              4.388    1.0  \n",
       "Simulated_1732     128.059              5.119    0.0  \n",
       "Simulated_1727     169.913               5.74    1.0  \n",
       "...                    ...                ...    ...  \n",
       "Simulated_1783      109.08              3.141    0.0  \n",
       "Simulated_3425     145.953              5.478    1.0  \n",
       "Simulated_1789     124.091               4.87    1.0  \n",
       "Simulated_1592     142.038              2.492    0.0  \n",
       "Simulated_1731     176.939               4.19    0.0  \n",
       "\n",
       "[3533 rows x 11 columns]"
      ]
     },
     "execution_count": 68,
     "metadata": {},
     "output_type": "execute_result"
    }
   ],
   "source": [
    "pheno_df_train"
   ]
  },
  {
   "cell_type": "code",
   "execution_count": 69,
   "metadata": {},
   "outputs": [
    {
     "name": "stdout",
     "output_type": "stream",
     "text": [
      "Empty DataFrame\n",
      "Columns: [Age, BodyMassIndex, Smoking=1, BPTreatment=1, PrevalentDiabetes=1, PrevalentCHD=1, Event, Event_time, SystolicBP, NonHDLcholesterol, Sex=1]\n",
      "Index: []\n"
     ]
    }
   ],
   "source": [
    "# Calling merge() function\n",
    "int_df = pd.merge(pheno_df_train, pheno_df_test, how ='inner')\n",
    "print(int_df)"
   ]
  },
  {
   "cell_type": "code",
   "execution_count": 70,
   "metadata": {},
   "outputs": [
    {
     "data": {
      "text/html": [
       "<div>\n",
       "<style scoped>\n",
       "    .dataframe tbody tr th:only-of-type {\n",
       "        vertical-align: middle;\n",
       "    }\n",
       "\n",
       "    .dataframe tbody tr th {\n",
       "        vertical-align: top;\n",
       "    }\n",
       "\n",
       "    .dataframe thead th {\n",
       "        text-align: right;\n",
       "    }\n",
       "</style>\n",
       "<table border=\"1\" class=\"dataframe\">\n",
       "  <thead>\n",
       "    <tr style=\"text-align: right;\">\n",
       "      <th>Event</th>\n",
       "      <th>False</th>\n",
       "      <th>True</th>\n",
       "    </tr>\n",
       "    <tr>\n",
       "      <th>Smoking=1</th>\n",
       "      <th></th>\n",
       "      <th></th>\n",
       "    </tr>\n",
       "  </thead>\n",
       "  <tbody>\n",
       "    <tr>\n",
       "      <th>0.0</th>\n",
       "      <td>2466</td>\n",
       "      <td>237</td>\n",
       "    </tr>\n",
       "    <tr>\n",
       "      <th>1.0</th>\n",
       "      <td>776</td>\n",
       "      <td>54</td>\n",
       "    </tr>\n",
       "  </tbody>\n",
       "</table>\n",
       "</div>"
      ],
      "text/plain": [
       "Event      False  True\n",
       "Smoking=1             \n",
       "0.0         2466   237\n",
       "1.0          776    54"
      ]
     },
     "execution_count": 70,
     "metadata": {},
     "output_type": "execute_result"
    }
   ],
   "source": [
    "import scipy.stats  as stats\n",
    "crosstab = pd.crosstab(pheno_df_train['Smoking=1'], pheno_df_train['Event'])\n",
    "crosstab"
   ]
  },
  {
   "cell_type": "code",
   "execution_count": 71,
   "metadata": {},
   "outputs": [
    {
     "data": {
      "text/plain": [
       "(4.004770759834942,\n",
       " 0.04537166672982941,\n",
       " 1,\n",
       " array([[2480.3639966,  222.6360034],\n",
       "        [ 761.6360034,   68.3639966]]))"
      ]
     },
     "execution_count": 71,
     "metadata": {},
     "output_type": "execute_result"
    }
   ],
   "source": [
    "stats.chi2_contingency(crosstab)"
   ]
  },
  {
   "cell_type": "code",
   "execution_count": 72,
   "metadata": {},
   "outputs": [
    {
     "data": {
      "text/html": [
       "<div>\n",
       "<style scoped>\n",
       "    .dataframe tbody tr th:only-of-type {\n",
       "        vertical-align: middle;\n",
       "    }\n",
       "\n",
       "    .dataframe tbody tr th {\n",
       "        vertical-align: top;\n",
       "    }\n",
       "\n",
       "    .dataframe thead th {\n",
       "        text-align: right;\n",
       "    }\n",
       "</style>\n",
       "<table border=\"1\" class=\"dataframe\">\n",
       "  <thead>\n",
       "    <tr style=\"text-align: right;\">\n",
       "      <th>Event</th>\n",
       "      <th>False</th>\n",
       "      <th>True</th>\n",
       "    </tr>\n",
       "    <tr>\n",
       "      <th>BPTreatment=1</th>\n",
       "      <th></th>\n",
       "      <th></th>\n",
       "    </tr>\n",
       "  </thead>\n",
       "  <tbody>\n",
       "    <tr>\n",
       "      <th>0.0</th>\n",
       "      <td>2744</td>\n",
       "      <td>238</td>\n",
       "    </tr>\n",
       "    <tr>\n",
       "      <th>1.0</th>\n",
       "      <td>498</td>\n",
       "      <td>53</td>\n",
       "    </tr>\n",
       "  </tbody>\n",
       "</table>\n",
       "</div>"
      ],
      "text/plain": [
       "Event          False  True\n",
       "BPTreatment=1             \n",
       "0.0             2744   238\n",
       "1.0              498    53"
      ]
     },
     "execution_count": 72,
     "metadata": {},
     "output_type": "execute_result"
    }
   ],
   "source": [
    "crosstab = pd.crosstab(pheno_df_train['BPTreatment=1'], pheno_df_train['Event'])\n",
    "crosstab"
   ]
  },
  {
   "cell_type": "code",
   "execution_count": 73,
   "metadata": {},
   "outputs": [
    {
     "data": {
      "text/plain": [
       "(1.440657585407854,\n",
       " 0.23003295848132235,\n",
       " 1,\n",
       " array([[2736.38380979,  245.61619021],\n",
       "        [ 505.61619021,   45.38380979]]))"
      ]
     },
     "execution_count": 73,
     "metadata": {},
     "output_type": "execute_result"
    }
   ],
   "source": [
    "stats.chi2_contingency(crosstab)"
   ]
  },
  {
   "cell_type": "code",
   "execution_count": 74,
   "metadata": {},
   "outputs": [
    {
     "data": {
      "text/html": [
       "<div>\n",
       "<style scoped>\n",
       "    .dataframe tbody tr th:only-of-type {\n",
       "        vertical-align: middle;\n",
       "    }\n",
       "\n",
       "    .dataframe tbody tr th {\n",
       "        vertical-align: top;\n",
       "    }\n",
       "\n",
       "    .dataframe thead th {\n",
       "        text-align: right;\n",
       "    }\n",
       "</style>\n",
       "<table border=\"1\" class=\"dataframe\">\n",
       "  <thead>\n",
       "    <tr style=\"text-align: right;\">\n",
       "      <th>Event</th>\n",
       "      <th>False</th>\n",
       "      <th>True</th>\n",
       "    </tr>\n",
       "    <tr>\n",
       "      <th>PrevalentDiabetes=1</th>\n",
       "      <th></th>\n",
       "      <th></th>\n",
       "    </tr>\n",
       "  </thead>\n",
       "  <tbody>\n",
       "    <tr>\n",
       "      <th>0.0</th>\n",
       "      <td>3042</td>\n",
       "      <td>271</td>\n",
       "    </tr>\n",
       "    <tr>\n",
       "      <th>1.0</th>\n",
       "      <td>200</td>\n",
       "      <td>20</td>\n",
       "    </tr>\n",
       "  </tbody>\n",
       "</table>\n",
       "</div>"
      ],
      "text/plain": [
       "Event                False  True\n",
       "PrevalentDiabetes=1             \n",
       "0.0                   3042   271\n",
       "1.0                    200    20"
      ]
     },
     "execution_count": 74,
     "metadata": {},
     "output_type": "execute_result"
    }
   ],
   "source": [
    "crosstab = pd.crosstab(pheno_df_train['PrevalentDiabetes=1'], pheno_df_train['Event'])\n",
    "crosstab"
   ]
  },
  {
   "cell_type": "code",
   "execution_count": 75,
   "metadata": {},
   "outputs": [
    {
     "data": {
      "text/plain": [
       "(0.1220324869519188,\n",
       " 0.7268404633320662,\n",
       " 1,\n",
       " array([[3040.12057741,  272.87942259],\n",
       "        [ 201.87942259,   18.12057741]]))"
      ]
     },
     "execution_count": 75,
     "metadata": {},
     "output_type": "execute_result"
    }
   ],
   "source": [
    "stats.chi2_contingency(crosstab)"
   ]
  },
  {
   "cell_type": "code",
   "execution_count": 76,
   "metadata": {},
   "outputs": [
    {
     "data": {
      "text/html": [
       "<div>\n",
       "<style scoped>\n",
       "    .dataframe tbody tr th:only-of-type {\n",
       "        vertical-align: middle;\n",
       "    }\n",
       "\n",
       "    .dataframe tbody tr th {\n",
       "        vertical-align: top;\n",
       "    }\n",
       "\n",
       "    .dataframe thead th {\n",
       "        text-align: right;\n",
       "    }\n",
       "</style>\n",
       "<table border=\"1\" class=\"dataframe\">\n",
       "  <thead>\n",
       "    <tr style=\"text-align: right;\">\n",
       "      <th>Event</th>\n",
       "      <th>False</th>\n",
       "      <th>True</th>\n",
       "    </tr>\n",
       "    <tr>\n",
       "      <th>Sex=1</th>\n",
       "      <th></th>\n",
       "      <th></th>\n",
       "    </tr>\n",
       "  </thead>\n",
       "  <tbody>\n",
       "    <tr>\n",
       "      <th>0.0</th>\n",
       "      <td>1808</td>\n",
       "      <td>156</td>\n",
       "    </tr>\n",
       "    <tr>\n",
       "      <th>1.0</th>\n",
       "      <td>1434</td>\n",
       "      <td>135</td>\n",
       "    </tr>\n",
       "  </tbody>\n",
       "</table>\n",
       "</div>"
      ],
      "text/plain": [
       "Event  False  True\n",
       "Sex=1             \n",
       "0.0     1808   156\n",
       "1.0     1434   135"
      ]
     },
     "execution_count": 76,
     "metadata": {},
     "output_type": "execute_result"
    }
   ],
   "source": [
    "crosstab = pd.crosstab(pheno_df_train['Sex=1'], pheno_df_train['Event'])\n",
    "crosstab"
   ]
  },
  {
   "cell_type": "code",
   "execution_count": 77,
   "metadata": {},
   "outputs": [
    {
     "data": {
      "text/plain": [
       "(0.4208648156826076,\n",
       " 0.5165058332263577,\n",
       " 1,\n",
       " array([[1802.23266346,  161.76733654],\n",
       "        [1439.76733654,  129.23266346]]))"
      ]
     },
     "execution_count": 77,
     "metadata": {},
     "output_type": "execute_result"
    }
   ],
   "source": [
    "stats.chi2_contingency(crosstab)"
   ]
  },
  {
   "cell_type": "code",
   "execution_count": 78,
   "metadata": {},
   "outputs": [
    {
     "data": {
      "text/html": [
       "<div>\n",
       "<style scoped>\n",
       "    .dataframe tbody tr th:only-of-type {\n",
       "        vertical-align: middle;\n",
       "    }\n",
       "\n",
       "    .dataframe tbody tr th {\n",
       "        vertical-align: top;\n",
       "    }\n",
       "\n",
       "    .dataframe thead th {\n",
       "        text-align: right;\n",
       "    }\n",
       "</style>\n",
       "<table border=\"1\" class=\"dataframe\">\n",
       "  <thead>\n",
       "    <tr style=\"text-align: right;\">\n",
       "      <th>Event</th>\n",
       "      <th>False</th>\n",
       "      <th>True</th>\n",
       "    </tr>\n",
       "    <tr>\n",
       "      <th>PrevalentCHD=1</th>\n",
       "      <th></th>\n",
       "      <th></th>\n",
       "    </tr>\n",
       "  </thead>\n",
       "  <tbody>\n",
       "    <tr>\n",
       "      <th>0.0</th>\n",
       "      <td>3142</td>\n",
       "      <td>274</td>\n",
       "    </tr>\n",
       "    <tr>\n",
       "      <th>1.0</th>\n",
       "      <td>100</td>\n",
       "      <td>17</td>\n",
       "    </tr>\n",
       "  </tbody>\n",
       "</table>\n",
       "</div>"
      ],
      "text/plain": [
       "Event           False  True\n",
       "PrevalentCHD=1             \n",
       "0.0              3142   274\n",
       "1.0               100    17"
      ]
     },
     "execution_count": 78,
     "metadata": {},
     "output_type": "execute_result"
    }
   ],
   "source": [
    "crosstab = pd.crosstab(pheno_df_train['PrevalentCHD=1'], pheno_df_train['Event'])\n",
    "crosstab"
   ]
  },
  {
   "cell_type": "code",
   "execution_count": 79,
   "metadata": {},
   "outputs": [
    {
     "data": {
      "text/plain": [
       "(5.508937562618371,\n",
       " 0.018919536180906665,\n",
       " 1,\n",
       " array([[3134.63685253,  281.36314747],\n",
       "        [ 107.36314747,    9.63685253]]))"
      ]
     },
     "execution_count": 79,
     "metadata": {},
     "output_type": "execute_result"
    }
   ],
   "source": [
    "stats.chi2_contingency(crosstab)"
   ]
  },
  {
   "cell_type": "code",
   "execution_count": 80,
   "metadata": {},
   "outputs": [],
   "source": [
    "from sklearn.linear_model import LogisticRegression\n",
    "\n",
    "lgc = LogisticRegression().fit(pheno_df_train['BodyMassIndex'].to_numpy().reshape(-1,1), pheno_df_train['Event'])\n",
    " "
   ]
  },
  {
   "cell_type": "markdown",
   "metadata": {},
   "source": [
    "### Are some participants censored for other reasons than study end? "
   ]
  },
  {
   "cell_type": "code",
   "execution_count": 81,
   "metadata": {},
   "outputs": [],
   "source": [
    "y = np.concatenate([pheno_df_train.Event_time,pheno_df_train.Event_time])\n",
    "times = np.percentile(y, np.linspace(5, 95, 15)) #We set the upper bound to the 95% percentile of observed time points, because the censoring rate is quite large at 91.5%.\n",
    "\n",
    "tau = times[-1]"
   ]
  },
  {
   "cell_type": "code",
   "execution_count": 109,
   "metadata": {},
   "outputs": [
    {
     "data": {
      "text/plain": [
       "Text(0.5, 23.52222222222222, 'Time (years)')"
      ]
     },
     "execution_count": 109,
     "metadata": {},
     "output_type": "execute_result"
    },
    {
     "data": {
      "image/png": "[encoded data removed]",
      "text/plain": [
       "<Figure size 640x480 with 4 Axes>"
      ]
     },
     "metadata": {},
     "output_type": "display_data"
    }
   ],
   "source": [
    "# Create four polar axes and access them through the returned array\n",
    "fig, axs = plt.subplots(2, 2)\n",
    "fig.tight_layout() \n",
    "axs[0, 0].hist(pheno_df_train.loc[pheno_df_train.Event].Event_time)\n",
    "axs[0, 0].set_title(\"Training, Event = 1\")\n",
    "axs[0, 0].set_ylabel('Count')\n",
    "\n",
    "axs[0, 1].hist(pheno_df_train.loc[~pheno_df_train.Event].Event_time)\n",
    "axs[0, 1].set_title(\"Training, Event = 0\")\n",
    "\n",
    "axs[1, 0].hist(pheno_df_test.loc[pheno_df_test.Event].Event_time)\n",
    "axs[1, 0].set_title(\"Test, Event = 1\")\n",
    "axs[1, 0].set_xlabel('Time (years)')\n",
    "axs[1, 0].set_ylabel('Count')\n",
    "\n",
    "axs[1, 1].hist(pheno_df_test.loc[~pheno_df_test.Event].Event_time)\n",
    "axs[1, 1].set_title(\"Test, Event = 0\")\n",
    "axs[1, 1].set_xlabel('Time (years)')"
   ]
  },
  {
   "cell_type": "code",
   "execution_count": 84,
   "metadata": {},
   "outputs": [
    {
     "name": "stdout",
     "output_type": "stream",
     "text": [
      "Number of rows with missing values: 0\n",
      "Please provide an imputation method\n",
      "Number of rows with missing values: 0\n",
      "Please provide an imputation method\n"
     ]
    }
   ],
   "source": [
    "from preprocessing import check_data\n",
    "imputation = 'delete'\n",
    "check_data(pheno_df_train, True, imputation)\n",
    "pheno_df_test = check_data(pheno_df_test, False, imputation)"
   ]
  },
  {
   "cell_type": "markdown",
   "metadata": {},
   "source": [
    "### Check that training and test sets have similar characteristics"
   ]
  },
  {
   "cell_type": "code",
   "execution_count": 90,
   "metadata": {},
   "outputs": [
    {
     "data": {
      "text/plain": [
       "16.0"
      ]
     },
     "execution_count": 90,
     "metadata": {},
     "output_type": "execute_result"
    }
   ],
   "source": [
    " pheno_df_train.Event_time.max()"
   ]
  },
  {
   "cell_type": "code",
   "execution_count": 91,
   "metadata": {},
   "outputs": [
    {
     "data": {
      "text/plain": [
       "(array([[3.56399771e-04, 0.00000000e+00, 0.00000000e+00, 0.00000000e+00,\n",
       "         0.00000000e+00, 0.00000000e+00, 0.00000000e+00, 0.00000000e+00,\n",
       "         0.00000000e+00, 1.81763883e-02, 3.56399771e-03, 7.12799543e-04,\n",
       "         0.00000000e+00, 3.56399771e-04, 0.00000000e+00, 3.56399771e-04,\n",
       "         3.56399771e-04, 3.56399771e-04, 1.06919931e-03, 1.06919931e-03,\n",
       "         7.12799543e-04, 3.56399771e-04, 1.06919931e-03, 3.56399771e-04,\n",
       "         3.56399771e-04, 0.00000000e+00, 3.56399771e-04, 0.00000000e+00,\n",
       "         3.56399771e-04, 3.56399771e-04, 7.48439520e-03, 1.28303918e-02,\n",
       "         1.03355934e-02, 8.55359451e-03, 1.24739920e-02, 1.35431913e-02,\n",
       "         9.97919360e-03, 7.84079497e-03, 1.28303918e-02, 7.12799543e-03,\n",
       "         1.14047927e-02, 1.28303918e-02, 1.03355934e-02, 1.17611925e-02,\n",
       "         9.26639405e-03, 1.31867915e-02, 1.14047927e-02, 1.92455876e-02,\n",
       "         1.24739920e-02, 1.01395735e+00],\n",
       "        [0.00000000e+00, 0.00000000e+00, 0.00000000e+00, 0.00000000e+00,\n",
       "         0.00000000e+00, 0.00000000e+00, 0.00000000e+00, 0.00000000e+00,\n",
       "         0.00000000e+00, 1.64362594e-02, 1.42923995e-03, 0.00000000e+00,\n",
       "         7.14619973e-04, 7.14619973e-04, 7.14619973e-04, 7.14619973e-04,\n",
       "         1.42923995e-03, 7.14619973e-04, 0.00000000e+00, 0.00000000e+00,\n",
       "         0.00000000e+00, 1.42923995e-03, 0.00000000e+00, 7.14619973e-04,\n",
       "         0.00000000e+00, 0.00000000e+00, 7.14619973e-04, 0.00000000e+00,\n",
       "         0.00000000e+00, 0.00000000e+00, 6.43157975e-03, 6.43157975e-03,\n",
       "         1.00046796e-02, 6.43157975e-03, 1.42923995e-02, 1.07192996e-02,\n",
       "         1.28631595e-02, 1.35777795e-02, 1.50070194e-02, 1.64362594e-02,\n",
       "         1.28631595e-02, 9.29005964e-03, 8.57543967e-03, 1.00046796e-02,\n",
       "         9.29005964e-03, 2.28678391e-02, 1.35777795e-02, 1.35777795e-02,\n",
       "         1.07192996e-02, 1.01047264e+00]]),\n",
       " array([-23.709, -22.91482, -22.120639999999998, -21.326459999999997,\n",
       "        -20.53228, -19.7381, -18.94392, -18.149739999999998,\n",
       "        -17.355559999999997, -16.56138, -15.767199999999999,\n",
       "        -14.973019999999998, -14.178839999999997, -13.384659999999998,\n",
       "        -12.590479999999998, -11.796299999999999, -11.002119999999998,\n",
       "        -10.207939999999997, -9.413759999999998, -8.619579999999997,\n",
       "        -7.825399999999998, -7.031219999999998, -6.237039999999997,\n",
       "        -5.442859999999996, -4.648679999999995, -3.854499999999998,\n",
       "        -3.0603199999999973, -2.2661399999999965, -1.4719599999999957,\n",
       "        -0.6777799999999949, 0.11640000000000228, 0.910580000000003,\n",
       "        1.7047600000000038, 2.4989400000000046, 3.2931200000000054,\n",
       "        4.087300000000003, 4.881480000000003, 5.675660000000004,\n",
       "        6.469840000000005, 7.264020000000006, 8.058200000000003,\n",
       "        8.852380000000007, 9.646560000000004, 10.440740000000002,\n",
       "        11.234920000000006, 12.029100000000003, 12.823280000000008,\n",
       "        13.617460000000005, 14.411640000000009, 15.205820000000006, 16.0],\n",
       "       dtype=object),\n",
       " <a list of 2 BarContainer objects>)"
      ]
     },
     "execution_count": 91,
     "metadata": {},
     "output_type": "execute_result"
    },
    {
     "data": {
      "image/png": "[encoded data removed]",
      "text/plain": [
       "<Figure size 640x480 with 1 Axes>"
      ]
     },
     "metadata": {},
     "output_type": "display_data"
    }
   ],
   "source": [
    "import numpy as np\n",
    "y_train = pheno_df_train.Event_time.loc[pheno_df_train.Event_time < np.inf]  \n",
    "y_test = pheno_df_test.Event_time.loc[pheno_df_test.Event_time < np.inf]  \n",
    "plt.hist([y_train, y_test], bins=50, label=['train', 'test'], density=True)"
   ]
  },
  {
   "cell_type": "code",
   "execution_count": 92,
   "metadata": {},
   "outputs": [],
   "source": [
    "df = pheno_df_test.copy()\n",
    "\n",
    "nan_cols= df.isnull() "
   ]
  },
  {
   "cell_type": "code",
   "execution_count": 93,
   "metadata": {},
   "outputs": [
    {
     "data": {
      "text/plain": [
       "Age                    0\n",
       "BodyMassIndex          0\n",
       "Smoking=1              0\n",
       "BPTreatment=1          0\n",
       "PrevalentDiabetes=1    0\n",
       "PrevalentCHD=1         0\n",
       "Event                  0\n",
       "Event_time             0\n",
       "SystolicBP             0\n",
       "NonHDLcholesterol      0\n",
       "Sex=1                  0\n",
       "dtype: int64"
      ]
     },
     "execution_count": 93,
     "metadata": {},
     "output_type": "execute_result"
    }
   ],
   "source": [
    "nan_cols.sum()"
   ]
  },
  {
   "cell_type": "code",
   "execution_count": 94,
   "metadata": {},
   "outputs": [
    {
     "data": {
      "text/plain": [
       "0"
      ]
     },
     "execution_count": 94,
     "metadata": {},
     "output_type": "execute_result"
    }
   ],
   "source": [
    "df.shape[0] -  df.dropna().shape[0]"
   ]
  },
  {
   "cell_type": "code",
   "execution_count": 95,
   "metadata": {},
   "outputs": [
    {
     "ename": "NameError",
     "evalue": "name 'preds_test' is not defined",
     "output_type": "error",
     "traceback": [
      "\u001b[0;31m---------------------------------------------------------------------------\u001b[0m",
      "\u001b[0;31mNameError\u001b[0m                                 Traceback (most recent call last)",
      "\u001b[0;32m/tmp/ipykernel_126332/2690139874.py\u001b[0m in \u001b[0;36m<module>\u001b[0;34m\u001b[0m\n\u001b[0;32m----> 1\u001b[0;31m \u001b[0;32mif\u001b[0m \u001b[0mnp\u001b[0m\u001b[0;34m.\u001b[0m\u001b[0many\u001b[0m\u001b[0;34m(\u001b[0m\u001b[0mnp\u001b[0m\u001b[0;34m.\u001b[0m\u001b[0misnan\u001b[0m\u001b[0;34m(\u001b[0m\u001b[0mpreds_test\u001b[0m\u001b[0;34m)\u001b[0m\u001b[0;34m)\u001b[0m \u001b[0;32mor\u001b[0m \u001b[0mnp\u001b[0m\u001b[0;34m.\u001b[0m\u001b[0many\u001b[0m\u001b[0;34m(\u001b[0m\u001b[0mnp\u001b[0m\u001b[0;34m.\u001b[0m\u001b[0misinf\u001b[0m\u001b[0;34m(\u001b[0m\u001b[0mpreds_test\u001b[0m\u001b[0;34m)\u001b[0m\u001b[0;34m)\u001b[0m\u001b[0;34m:\u001b[0m\u001b[0;34m\u001b[0m\u001b[0;34m\u001b[0m\u001b[0m\n\u001b[0m\u001b[1;32m      2\u001b[0m     \u001b[0;32mraise\u001b[0m \u001b[0mValueError\u001b[0m\u001b[0;34m(\u001b[0m\u001b[0;34m'Predictions contain invalid values (NaN or inf)'\u001b[0m\u001b[0;34m)\u001b[0m\u001b[0;34m\u001b[0m\u001b[0;34m\u001b[0m\u001b[0m\n",
      "\u001b[0;31mNameError\u001b[0m: name 'preds_test' is not defined"
     ]
    }
   ],
   "source": [
    " \n",
    "\n",
    "if np.any(np.isnan(preds_test)) or np.any(np.isinf(preds_test)):\n",
    "    raise ValueError('Predictions contain invalid values (NaN or inf)')\n"
   ]
  },
  {
   "cell_type": "code",
   "execution_count": null,
   "metadata": {},
   "outputs": [
    {
     "name": "stdout",
     "output_type": "stream",
     "text": [
      "Number of rows with missing values: 0\n",
      "Please provide an imputation method\n",
      "Column Smoking has 11 missing values\n",
      "Column PrevalentDiabetes has 30 missing values\n",
      "Column PrevalentCHD has 30 missing values\n",
      "Column PrevalentHFAIL has 30 missing values\n",
      "Column Event has 30 missing values\n",
      "Column Event_time has 30 missing values\n",
      "Column SystolicBP has 1 missing values\n",
      "Column NonHDLcholesterol has 3 missing values\n",
      "Number of rows with missing values: 45\n",
      "Please provide an imputation method\n"
     ]
    },
    {
     "data": {
      "text/html": [
       "<div>\n",
       "<style scoped>\n",
       "    .dataframe tbody tr th:only-of-type {\n",
       "        vertical-align: middle;\n",
       "    }\n",
       "\n",
       "    .dataframe tbody tr th {\n",
       "        vertical-align: top;\n",
       "    }\n",
       "\n",
       "    .dataframe thead th {\n",
       "        text-align: right;\n",
       "    }\n",
       "</style>\n",
       "<table border=\"1\" class=\"dataframe\">\n",
       "  <thead>\n",
       "    <tr style=\"text-align: right;\">\n",
       "      <th></th>\n",
       "      <th>Unnamed: 0</th>\n",
       "      <th>Age</th>\n",
       "      <th>BodyMassIndex</th>\n",
       "      <th>Smoking</th>\n",
       "      <th>BPTreatment</th>\n",
       "      <th>PrevalentDiabetes</th>\n",
       "      <th>PrevalentCHD</th>\n",
       "      <th>PrevalentHFAIL</th>\n",
       "      <th>Event</th>\n",
       "      <th>Event_time</th>\n",
       "      <th>SystolicBP</th>\n",
       "      <th>NonHDLcholesterol</th>\n",
       "      <th>Sex</th>\n",
       "    </tr>\n",
       "  </thead>\n",
       "  <tbody>\n",
       "    <tr>\n",
       "      <th>0</th>\n",
       "      <td>Simulated_2211</td>\n",
       "      <td>73.860</td>\n",
       "      <td>30.140</td>\n",
       "      <td>1.0</td>\n",
       "      <td>1</td>\n",
       "      <td>0.0</td>\n",
       "      <td>0.0</td>\n",
       "      <td>0.0</td>\n",
       "      <td>0.0</td>\n",
       "      <td>15.910</td>\n",
       "      <td>154.046</td>\n",
       "      <td>5.010</td>\n",
       "      <td>0</td>\n",
       "    </tr>\n",
       "    <tr>\n",
       "      <th>1</th>\n",
       "      <td>Simulated_1629</td>\n",
       "      <td>48.070</td>\n",
       "      <td>18.252</td>\n",
       "      <td>1.0</td>\n",
       "      <td>0</td>\n",
       "      <td>0.0</td>\n",
       "      <td>0.0</td>\n",
       "      <td>0.0</td>\n",
       "      <td>0.0</td>\n",
       "      <td>11.189</td>\n",
       "      <td>184.064</td>\n",
       "      <td>3.922</td>\n",
       "      <td>0</td>\n",
       "    </tr>\n",
       "    <tr>\n",
       "      <th>2</th>\n",
       "      <td>Simulated_1690</td>\n",
       "      <td>49.060</td>\n",
       "      <td>25.911</td>\n",
       "      <td>0.0</td>\n",
       "      <td>0</td>\n",
       "      <td>0.0</td>\n",
       "      <td>0.0</td>\n",
       "      <td>0.0</td>\n",
       "      <td>1.0</td>\n",
       "      <td>15.832</td>\n",
       "      <td>126.922</td>\n",
       "      <td>5.119</td>\n",
       "      <td>1</td>\n",
       "    </tr>\n",
       "    <tr>\n",
       "      <th>3</th>\n",
       "      <td>Simulated_1367</td>\n",
       "      <td>58.499</td>\n",
       "      <td>25.739</td>\n",
       "      <td>0.0</td>\n",
       "      <td>0</td>\n",
       "      <td>0.0</td>\n",
       "      <td>0.0</td>\n",
       "      <td>0.0</td>\n",
       "      <td>0.0</td>\n",
       "      <td>15.818</td>\n",
       "      <td>141.003</td>\n",
       "      <td>3.890</td>\n",
       "      <td>1</td>\n",
       "    </tr>\n",
       "    <tr>\n",
       "      <th>4</th>\n",
       "      <td>Simulated_3387</td>\n",
       "      <td>47.242</td>\n",
       "      <td>29.227</td>\n",
       "      <td>0.0</td>\n",
       "      <td>0</td>\n",
       "      <td>0.0</td>\n",
       "      <td>0.0</td>\n",
       "      <td>0.0</td>\n",
       "      <td>0.0</td>\n",
       "      <td>15.782</td>\n",
       "      <td>143.021</td>\n",
       "      <td>3.611</td>\n",
       "      <td>1</td>\n",
       "    </tr>\n",
       "    <tr>\n",
       "      <th>...</th>\n",
       "      <td>...</td>\n",
       "      <td>...</td>\n",
       "      <td>...</td>\n",
       "      <td>...</td>\n",
       "      <td>...</td>\n",
       "      <td>...</td>\n",
       "      <td>...</td>\n",
       "      <td>...</td>\n",
       "      <td>...</td>\n",
       "      <td>...</td>\n",
       "      <td>...</td>\n",
       "      <td>...</td>\n",
       "      <td>...</td>\n",
       "    </tr>\n",
       "    <tr>\n",
       "      <th>1804</th>\n",
       "      <td>Simulated_1628</td>\n",
       "      <td>56.091</td>\n",
       "      <td>25.580</td>\n",
       "      <td>1.0</td>\n",
       "      <td>0</td>\n",
       "      <td>0.0</td>\n",
       "      <td>0.0</td>\n",
       "      <td>1.0</td>\n",
       "      <td>0.0</td>\n",
       "      <td>-10.830</td>\n",
       "      <td>169.903</td>\n",
       "      <td>4.480</td>\n",
       "      <td>1</td>\n",
       "    </tr>\n",
       "    <tr>\n",
       "      <th>1805</th>\n",
       "      <td>Simulated_3424</td>\n",
       "      <td>46.889</td>\n",
       "      <td>22.762</td>\n",
       "      <td>0.0</td>\n",
       "      <td>0</td>\n",
       "      <td>0.0</td>\n",
       "      <td>0.0</td>\n",
       "      <td>0.0</td>\n",
       "      <td>0.0</td>\n",
       "      <td>15.940</td>\n",
       "      <td>122.995</td>\n",
       "      <td>3.669</td>\n",
       "      <td>0</td>\n",
       "    </tr>\n",
       "    <tr>\n",
       "      <th>1806</th>\n",
       "      <td>Simulated_2215</td>\n",
       "      <td>70.841</td>\n",
       "      <td>24.808</td>\n",
       "      <td>0.0</td>\n",
       "      <td>0</td>\n",
       "      <td>0.0</td>\n",
       "      <td>0.0</td>\n",
       "      <td>0.0</td>\n",
       "      <td>0.0</td>\n",
       "      <td>3.542</td>\n",
       "      <td>190.934</td>\n",
       "      <td>6.069</td>\n",
       "      <td>1</td>\n",
       "    </tr>\n",
       "    <tr>\n",
       "      <th>1807</th>\n",
       "      <td>Simulated_3426</td>\n",
       "      <td>25.920</td>\n",
       "      <td>20.520</td>\n",
       "      <td>0.0</td>\n",
       "      <td>0</td>\n",
       "      <td>0.0</td>\n",
       "      <td>0.0</td>\n",
       "      <td>0.0</td>\n",
       "      <td>0.0</td>\n",
       "      <td>15.901</td>\n",
       "      <td>117.032</td>\n",
       "      <td>2.789</td>\n",
       "      <td>1</td>\n",
       "    </tr>\n",
       "    <tr>\n",
       "      <th>1808</th>\n",
       "      <td>Simulated_1679</td>\n",
       "      <td>62.679</td>\n",
       "      <td>36.798</td>\n",
       "      <td>0.0</td>\n",
       "      <td>0</td>\n",
       "      <td>0.0</td>\n",
       "      <td>0.0</td>\n",
       "      <td>0.0</td>\n",
       "      <td>0.0</td>\n",
       "      <td>15.801</td>\n",
       "      <td>167.922</td>\n",
       "      <td>4.511</td>\n",
       "      <td>0</td>\n",
       "    </tr>\n",
       "  </tbody>\n",
       "</table>\n",
       "<p>1809 rows × 13 columns</p>\n",
       "</div>"
      ],
      "text/plain": [
       "          Unnamed: 0     Age  BodyMassIndex  Smoking  BPTreatment  \\\n",
       "0     Simulated_2211  73.860         30.140      1.0            1   \n",
       "1     Simulated_1629  48.070         18.252      1.0            0   \n",
       "2     Simulated_1690  49.060         25.911      0.0            0   \n",
       "3     Simulated_1367  58.499         25.739      0.0            0   \n",
       "4     Simulated_3387  47.242         29.227      0.0            0   \n",
       "...              ...     ...            ...      ...          ...   \n",
       "1804  Simulated_1628  56.091         25.580      1.0            0   \n",
       "1805  Simulated_3424  46.889         22.762      0.0            0   \n",
       "1806  Simulated_2215  70.841         24.808      0.0            0   \n",
       "1807  Simulated_3426  25.920         20.520      0.0            0   \n",
       "1808  Simulated_1679  62.679         36.798      0.0            0   \n",
       "\n",
       "      PrevalentDiabetes  PrevalentCHD  PrevalentHFAIL  Event  Event_time  \\\n",
       "0                   0.0           0.0             0.0    0.0      15.910   \n",
       "1                   0.0           0.0             0.0    0.0      11.189   \n",
       "2                   0.0           0.0             0.0    1.0      15.832   \n",
       "3                   0.0           0.0             0.0    0.0      15.818   \n",
       "4                   0.0           0.0             0.0    0.0      15.782   \n",
       "...                 ...           ...             ...    ...         ...   \n",
       "1804                0.0           0.0             1.0    0.0     -10.830   \n",
       "1805                0.0           0.0             0.0    0.0      15.940   \n",
       "1806                0.0           0.0             0.0    0.0       3.542   \n",
       "1807                0.0           0.0             0.0    0.0      15.901   \n",
       "1808                0.0           0.0             0.0    0.0      15.801   \n",
       "\n",
       "      SystolicBP  NonHDLcholesterol  Sex  \n",
       "0        154.046              5.010    0  \n",
       "1        184.064              3.922    0  \n",
       "2        126.922              5.119    1  \n",
       "3        141.003              3.890    1  \n",
       "4        143.021              3.611    1  \n",
       "...          ...                ...  ...  \n",
       "1804     169.903              4.480    1  \n",
       "1805     122.995              3.669    0  \n",
       "1806     190.934              6.069    1  \n",
       "1807     117.032              2.789    1  \n",
       "1808     167.922              4.511    0  \n",
       "\n",
       "[1809 rows x 13 columns]"
      ]
     },
     "execution_count": 97,
     "metadata": {},
     "output_type": "execute_result"
    }
   ],
   "source": [
    " "
   ]
  },
  {
   "cell_type": "code",
   "execution_count": null,
   "metadata": {},
   "outputs": [],
   "source": []
  }
 ],
 "metadata": {
  "kernelspec": {
   "display_name": "Python 3.7.13 ('ml')",
   "language": "python",
   "name": "python3"
  },
  "language_info": {
   "codemirror_mode": {
    "name": "ipython",
    "version": 3
   },
   "file_extension": ".py",
   "mimetype": "text/x-python",
   "name": "python",
   "nbconvert_exporter": "python",
   "pygments_lexer": "ipython3",
   "version": "3.7.13"
  },
  "orig_nbformat": 4,
  "vscode": {
   "interpreter": {
    "hash": "10e2f20e579521ab8440449af66a589b7bed808e19e449c8ac839f4aee243b16"
   }
  }
 },
 "nbformat": 4,
 "nbformat_minor": 2
}
