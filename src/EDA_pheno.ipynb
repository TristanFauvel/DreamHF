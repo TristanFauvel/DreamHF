{
 "cells": [
  {
   "cell_type": "code",
   "execution_count": 1,
   "metadata": {},
   "outputs": [],
   "source": [
    "from preprocessing import readcounts_processing_pipeline, pheno_processing_pipeline\n",
    "import pandas as pd\n",
    "import matplotlib.pyplot as plt"
   ]
  },
  {
   "cell_type": "code",
   "execution_count": 2,
   "metadata": {},
   "outputs": [],
   "source": [
    "pheno_df_train = pd.read_csv('./train/pheno_training.csv')\n",
    "pheno_df_train.describe()\n",
    "\n",
    "pheno_df_test = pd.read_csv('./test/pheno_test.csv')\n"
   ]
  },
  {
   "cell_type": "markdown",
   "metadata": {},
   "source": [
    "- 2.6% of the patients in the cohort previously experienced HF.\n",
    "- 8.4% of the patients have experienced HF after baseline\n",
    "\n",
    "Note that the Event corresponds to HF after baseline (\"excluding those occur before baseline\" )"
   ]
  },
  {
   "cell_type": "markdown",
   "metadata": {},
   "source": [
    "### Check that all patients with PrevalentHFAIL = 1 indeed have Event_time <0"
   ]
  },
  {
   "cell_type": "code",
   "execution_count": 3,
   "metadata": {},
   "outputs": [
    {
     "data": {
      "text/plain": [
       "93"
      ]
     },
     "execution_count": 3,
     "metadata": {},
     "output_type": "execute_result"
    }
   ],
   "source": [
    "(pheno_df_train[\"PrevalentHFAIL\"] == 1).sum()"
   ]
  },
  {
   "cell_type": "markdown",
   "metadata": {},
   "source": [
    "93 patients experienced HF before the baseline"
   ]
  },
  {
   "cell_type": "code",
   "execution_count": 4,
   "metadata": {},
   "outputs": [
    {
     "data": {
      "text/plain": [
       "93"
      ]
     },
     "execution_count": 4,
     "metadata": {},
     "output_type": "execute_result"
    }
   ],
   "source": [
    "(pheno_df_train[\"Event_time\"] < 0).sum()"
   ]
  },
  {
   "cell_type": "code",
   "execution_count": 5,
   "metadata": {},
   "outputs": [
    {
     "data": {
      "text/plain": [
       "93"
      ]
     },
     "execution_count": 5,
     "metadata": {},
     "output_type": "execute_result"
    }
   ],
   "source": [
    "((pheno_df_train[\"Event_time\"] < 0) & (pheno_df_train[\"PrevalentHFAIL\"] == 1)).sum()  "
   ]
  },
  {
   "cell_type": "markdown",
   "metadata": {},
   "source": [
    "### Check that all patients with Event_time <0 (that is, PrevalentHFAIL == 1) have Event == 0"
   ]
  },
  {
   "cell_type": "code",
   "execution_count": 6,
   "metadata": {},
   "outputs": [
    {
     "data": {
      "text/plain": [
       "7"
      ]
     },
     "execution_count": 6,
     "metadata": {},
     "output_type": "execute_result"
    }
   ],
   "source": [
    "artifacts = (pheno_df_train[\"Event_time\"] < 0) & (pheno_df_train[\"Event\"] == 1) \n",
    "artifacts.sum() "
   ]
  },
  {
   "cell_type": "markdown",
   "metadata": {},
   "source": [
    "This is an artifact from the simulation (see discussion on the challenge page)"
   ]
  },
  {
   "cell_type": "code",
   "execution_count": 7,
   "metadata": {},
   "outputs": [
    {
     "data": {
      "text/html": [
       "<div>\n",
       "<style scoped>\n",
       "    .dataframe tbody tr th:only-of-type {\n",
       "        vertical-align: middle;\n",
       "    }\n",
       "\n",
       "    .dataframe tbody tr th {\n",
       "        vertical-align: top;\n",
       "    }\n",
       "\n",
       "    .dataframe thead th {\n",
       "        text-align: right;\n",
       "    }\n",
       "</style>\n",
       "<table border=\"1\" class=\"dataframe\">\n",
       "  <thead>\n",
       "    <tr style=\"text-align: right;\">\n",
       "      <th></th>\n",
       "      <th>Age</th>\n",
       "      <th>BodyMassIndex</th>\n",
       "      <th>Smoking=1</th>\n",
       "      <th>BPTreatment=1</th>\n",
       "      <th>PrevalentDiabetes=1</th>\n",
       "      <th>PrevalentCHD=1</th>\n",
       "      <th>Event</th>\n",
       "      <th>Event_time</th>\n",
       "      <th>SystolicBP</th>\n",
       "      <th>NonHDLcholesterol</th>\n",
       "      <th>Sex=1</th>\n",
       "    </tr>\n",
       "  </thead>\n",
       "  <tbody>\n",
       "    <tr>\n",
       "      <th>Simulated_328</th>\n",
       "      <td>53.618</td>\n",
       "      <td>24.127</td>\n",
       "      <td>0.0</td>\n",
       "      <td>0.0</td>\n",
       "      <td>0.0</td>\n",
       "      <td>0.0</td>\n",
       "      <td>False</td>\n",
       "      <td>15.75</td>\n",
       "      <td>133.077</td>\n",
       "      <td>3.02</td>\n",
       "      <td>0.0</td>\n",
       "    </tr>\n",
       "    <tr>\n",
       "      <th>Simulated_1644</th>\n",
       "      <td>36.811</td>\n",
       "      <td>27.992</td>\n",
       "      <td>0.0</td>\n",
       "      <td>0.0</td>\n",
       "      <td>0.0</td>\n",
       "      <td>0.0</td>\n",
       "      <td>False</td>\n",
       "      <td>15.881</td>\n",
       "      <td>108.914</td>\n",
       "      <td>5.48</td>\n",
       "      <td>0.0</td>\n",
       "    </tr>\n",
       "    <tr>\n",
       "      <th>Simulated_1710</th>\n",
       "      <td>49.429</td>\n",
       "      <td>23.664</td>\n",
       "      <td>0.0</td>\n",
       "      <td>0.0</td>\n",
       "      <td>0.0</td>\n",
       "      <td>0.0</td>\n",
       "      <td>False</td>\n",
       "      <td>15.891</td>\n",
       "      <td>110.064</td>\n",
       "      <td>4.388</td>\n",
       "      <td>1.0</td>\n",
       "    </tr>\n",
       "    <tr>\n",
       "      <th>Simulated_1732</th>\n",
       "      <td>48.842</td>\n",
       "      <td>26.804</td>\n",
       "      <td>0.0</td>\n",
       "      <td>0.0</td>\n",
       "      <td>0.0</td>\n",
       "      <td>0.0</td>\n",
       "      <td>False</td>\n",
       "      <td>15.918</td>\n",
       "      <td>128.059</td>\n",
       "      <td>5.119</td>\n",
       "      <td>0.0</td>\n",
       "    </tr>\n",
       "    <tr>\n",
       "      <th>Simulated_1727</th>\n",
       "      <td>60.738</td>\n",
       "      <td>29.862</td>\n",
       "      <td>0.0</td>\n",
       "      <td>0.0</td>\n",
       "      <td>0.0</td>\n",
       "      <td>0.0</td>\n",
       "      <td>False</td>\n",
       "      <td>15.841</td>\n",
       "      <td>169.913</td>\n",
       "      <td>5.74</td>\n",
       "      <td>1.0</td>\n",
       "    </tr>\n",
       "    <tr>\n",
       "      <th>...</th>\n",
       "      <td>...</td>\n",
       "      <td>...</td>\n",
       "      <td>...</td>\n",
       "      <td>...</td>\n",
       "      <td>...</td>\n",
       "      <td>...</td>\n",
       "      <td>...</td>\n",
       "      <td>...</td>\n",
       "      <td>...</td>\n",
       "      <td>...</td>\n",
       "      <td>...</td>\n",
       "    </tr>\n",
       "    <tr>\n",
       "      <th>Simulated_1783</th>\n",
       "      <td>33.802</td>\n",
       "      <td>37.049</td>\n",
       "      <td>0.0</td>\n",
       "      <td>0.0</td>\n",
       "      <td>0.0</td>\n",
       "      <td>0.0</td>\n",
       "      <td>False</td>\n",
       "      <td>15.942</td>\n",
       "      <td>109.08</td>\n",
       "      <td>3.141</td>\n",
       "      <td>0.0</td>\n",
       "    </tr>\n",
       "    <tr>\n",
       "      <th>Simulated_3425</th>\n",
       "      <td>69.249</td>\n",
       "      <td>36.8</td>\n",
       "      <td>0.0</td>\n",
       "      <td>0.0</td>\n",
       "      <td>1.0</td>\n",
       "      <td>0.0</td>\n",
       "      <td>False</td>\n",
       "      <td>15.781</td>\n",
       "      <td>145.953</td>\n",
       "      <td>5.478</td>\n",
       "      <td>1.0</td>\n",
       "    </tr>\n",
       "    <tr>\n",
       "      <th>Simulated_1789</th>\n",
       "      <td>28.561</td>\n",
       "      <td>26.463</td>\n",
       "      <td>0.0</td>\n",
       "      <td>0.0</td>\n",
       "      <td>0.0</td>\n",
       "      <td>0.0</td>\n",
       "      <td>False</td>\n",
       "      <td>12.198</td>\n",
       "      <td>124.091</td>\n",
       "      <td>4.87</td>\n",
       "      <td>1.0</td>\n",
       "    </tr>\n",
       "    <tr>\n",
       "      <th>Simulated_1592</th>\n",
       "      <td>70.278</td>\n",
       "      <td>31.945</td>\n",
       "      <td>0.0</td>\n",
       "      <td>1.0</td>\n",
       "      <td>0.0</td>\n",
       "      <td>0.0</td>\n",
       "      <td>False</td>\n",
       "      <td>15.609</td>\n",
       "      <td>142.038</td>\n",
       "      <td>2.492</td>\n",
       "      <td>0.0</td>\n",
       "    </tr>\n",
       "    <tr>\n",
       "      <th>Simulated_1731</th>\n",
       "      <td>38.799</td>\n",
       "      <td>25.928</td>\n",
       "      <td>0.0</td>\n",
       "      <td>0.0</td>\n",
       "      <td>0.0</td>\n",
       "      <td>0.0</td>\n",
       "      <td>False</td>\n",
       "      <td>15.739</td>\n",
       "      <td>176.939</td>\n",
       "      <td>4.19</td>\n",
       "      <td>0.0</td>\n",
       "    </tr>\n",
       "  </tbody>\n",
       "</table>\n",
       "<p>3533 rows × 11 columns</p>\n",
       "</div>"
      ],
      "text/plain": [
       "                   Age  BodyMassIndex  Smoking=1  BPTreatment=1  \\\n",
       "Simulated_328   53.618         24.127        0.0            0.0   \n",
       "Simulated_1644  36.811         27.992        0.0            0.0   \n",
       "Simulated_1710  49.429         23.664        0.0            0.0   \n",
       "Simulated_1732  48.842         26.804        0.0            0.0   \n",
       "Simulated_1727  60.738         29.862        0.0            0.0   \n",
       "...                ...            ...        ...            ...   \n",
       "Simulated_1783  33.802         37.049        0.0            0.0   \n",
       "Simulated_3425  69.249           36.8        0.0            0.0   \n",
       "Simulated_1789  28.561         26.463        0.0            0.0   \n",
       "Simulated_1592  70.278         31.945        0.0            1.0   \n",
       "Simulated_1731  38.799         25.928        0.0            0.0   \n",
       "\n",
       "                PrevalentDiabetes=1  PrevalentCHD=1  Event  Event_time  \\\n",
       "Simulated_328                   0.0             0.0  False       15.75   \n",
       "Simulated_1644                  0.0             0.0  False      15.881   \n",
       "Simulated_1710                  0.0             0.0  False      15.891   \n",
       "Simulated_1732                  0.0             0.0  False      15.918   \n",
       "Simulated_1727                  0.0             0.0  False      15.841   \n",
       "...                             ...             ...    ...         ...   \n",
       "Simulated_1783                  0.0             0.0  False      15.942   \n",
       "Simulated_3425                  1.0             0.0  False      15.781   \n",
       "Simulated_1789                  0.0             0.0  False      12.198   \n",
       "Simulated_1592                  0.0             0.0  False      15.609   \n",
       "Simulated_1731                  0.0             0.0  False      15.739   \n",
       "\n",
       "                SystolicBP  NonHDLcholesterol  Sex=1  \n",
       "Simulated_328      133.077               3.02    0.0  \n",
       "Simulated_1644     108.914               5.48    0.0  \n",
       "Simulated_1710     110.064              4.388    1.0  \n",
       "Simulated_1732     128.059              5.119    0.0  \n",
       "Simulated_1727     169.913               5.74    1.0  \n",
       "...                    ...                ...    ...  \n",
       "Simulated_1783      109.08              3.141    0.0  \n",
       "Simulated_3425     145.953              5.478    1.0  \n",
       "Simulated_1789     124.091               4.87    1.0  \n",
       "Simulated_1592     142.038              2.492    0.0  \n",
       "Simulated_1731     176.939               4.19    0.0  \n",
       "\n",
       "[3533 rows x 11 columns]"
      ]
     },
     "execution_count": 7,
     "metadata": {},
     "output_type": "execute_result"
    }
   ],
   "source": [
    "pheno_df_train = pheno_processing_pipeline(pheno_df_train)\n",
    "pheno_df_train"
   ]
  },
  {
   "cell_type": "markdown",
   "metadata": {},
   "source": [
    "- BPTreatment = Blood pressure treatment\n",
    "- Prevalent CHD = Prevalent coronary heart disease"
   ]
  },
  {
   "cell_type": "markdown",
   "metadata": {},
   "source": [
    "### Check that training set and test set do not intersect"
   ]
  },
  {
   "cell_type": "code",
   "execution_count": 8,
   "metadata": {},
   "outputs": [
    {
     "data": {
      "text/html": [
       "<div>\n",
       "<style scoped>\n",
       "    .dataframe tbody tr th:only-of-type {\n",
       "        vertical-align: middle;\n",
       "    }\n",
       "\n",
       "    .dataframe tbody tr th {\n",
       "        vertical-align: top;\n",
       "    }\n",
       "\n",
       "    .dataframe thead th {\n",
       "        text-align: right;\n",
       "    }\n",
       "</style>\n",
       "<table border=\"1\" class=\"dataframe\">\n",
       "  <thead>\n",
       "    <tr style=\"text-align: right;\">\n",
       "      <th></th>\n",
       "      <th>Age</th>\n",
       "      <th>BodyMassIndex</th>\n",
       "      <th>Smoking=1</th>\n",
       "      <th>BPTreatment=1</th>\n",
       "      <th>PrevalentDiabetes=1</th>\n",
       "      <th>PrevalentCHD=1</th>\n",
       "      <th>Event</th>\n",
       "      <th>Event_time</th>\n",
       "      <th>SystolicBP</th>\n",
       "      <th>NonHDLcholesterol</th>\n",
       "      <th>Sex=1</th>\n",
       "    </tr>\n",
       "  </thead>\n",
       "  <tbody>\n",
       "    <tr>\n",
       "      <th>Simulated_328</th>\n",
       "      <td>53.618</td>\n",
       "      <td>24.127</td>\n",
       "      <td>0.0</td>\n",
       "      <td>0.0</td>\n",
       "      <td>0.0</td>\n",
       "      <td>0.0</td>\n",
       "      <td>False</td>\n",
       "      <td>15.75</td>\n",
       "      <td>133.077</td>\n",
       "      <td>3.02</td>\n",
       "      <td>0.0</td>\n",
       "    </tr>\n",
       "    <tr>\n",
       "      <th>Simulated_1644</th>\n",
       "      <td>36.811</td>\n",
       "      <td>27.992</td>\n",
       "      <td>0.0</td>\n",
       "      <td>0.0</td>\n",
       "      <td>0.0</td>\n",
       "      <td>0.0</td>\n",
       "      <td>False</td>\n",
       "      <td>15.881</td>\n",
       "      <td>108.914</td>\n",
       "      <td>5.48</td>\n",
       "      <td>0.0</td>\n",
       "    </tr>\n",
       "    <tr>\n",
       "      <th>Simulated_1710</th>\n",
       "      <td>49.429</td>\n",
       "      <td>23.664</td>\n",
       "      <td>0.0</td>\n",
       "      <td>0.0</td>\n",
       "      <td>0.0</td>\n",
       "      <td>0.0</td>\n",
       "      <td>False</td>\n",
       "      <td>15.891</td>\n",
       "      <td>110.064</td>\n",
       "      <td>4.388</td>\n",
       "      <td>1.0</td>\n",
       "    </tr>\n",
       "    <tr>\n",
       "      <th>Simulated_1732</th>\n",
       "      <td>48.842</td>\n",
       "      <td>26.804</td>\n",
       "      <td>0.0</td>\n",
       "      <td>0.0</td>\n",
       "      <td>0.0</td>\n",
       "      <td>0.0</td>\n",
       "      <td>False</td>\n",
       "      <td>15.918</td>\n",
       "      <td>128.059</td>\n",
       "      <td>5.119</td>\n",
       "      <td>0.0</td>\n",
       "    </tr>\n",
       "    <tr>\n",
       "      <th>Simulated_1727</th>\n",
       "      <td>60.738</td>\n",
       "      <td>29.862</td>\n",
       "      <td>0.0</td>\n",
       "      <td>0.0</td>\n",
       "      <td>0.0</td>\n",
       "      <td>0.0</td>\n",
       "      <td>False</td>\n",
       "      <td>15.841</td>\n",
       "      <td>169.913</td>\n",
       "      <td>5.74</td>\n",
       "      <td>1.0</td>\n",
       "    </tr>\n",
       "    <tr>\n",
       "      <th>...</th>\n",
       "      <td>...</td>\n",
       "      <td>...</td>\n",
       "      <td>...</td>\n",
       "      <td>...</td>\n",
       "      <td>...</td>\n",
       "      <td>...</td>\n",
       "      <td>...</td>\n",
       "      <td>...</td>\n",
       "      <td>...</td>\n",
       "      <td>...</td>\n",
       "      <td>...</td>\n",
       "    </tr>\n",
       "    <tr>\n",
       "      <th>Simulated_1783</th>\n",
       "      <td>33.802</td>\n",
       "      <td>37.049</td>\n",
       "      <td>0.0</td>\n",
       "      <td>0.0</td>\n",
       "      <td>0.0</td>\n",
       "      <td>0.0</td>\n",
       "      <td>False</td>\n",
       "      <td>15.942</td>\n",
       "      <td>109.08</td>\n",
       "      <td>3.141</td>\n",
       "      <td>0.0</td>\n",
       "    </tr>\n",
       "    <tr>\n",
       "      <th>Simulated_3425</th>\n",
       "      <td>69.249</td>\n",
       "      <td>36.8</td>\n",
       "      <td>0.0</td>\n",
       "      <td>0.0</td>\n",
       "      <td>1.0</td>\n",
       "      <td>0.0</td>\n",
       "      <td>False</td>\n",
       "      <td>15.781</td>\n",
       "      <td>145.953</td>\n",
       "      <td>5.478</td>\n",
       "      <td>1.0</td>\n",
       "    </tr>\n",
       "    <tr>\n",
       "      <th>Simulated_1789</th>\n",
       "      <td>28.561</td>\n",
       "      <td>26.463</td>\n",
       "      <td>0.0</td>\n",
       "      <td>0.0</td>\n",
       "      <td>0.0</td>\n",
       "      <td>0.0</td>\n",
       "      <td>False</td>\n",
       "      <td>12.198</td>\n",
       "      <td>124.091</td>\n",
       "      <td>4.87</td>\n",
       "      <td>1.0</td>\n",
       "    </tr>\n",
       "    <tr>\n",
       "      <th>Simulated_1592</th>\n",
       "      <td>70.278</td>\n",
       "      <td>31.945</td>\n",
       "      <td>0.0</td>\n",
       "      <td>1.0</td>\n",
       "      <td>0.0</td>\n",
       "      <td>0.0</td>\n",
       "      <td>False</td>\n",
       "      <td>15.609</td>\n",
       "      <td>142.038</td>\n",
       "      <td>2.492</td>\n",
       "      <td>0.0</td>\n",
       "    </tr>\n",
       "    <tr>\n",
       "      <th>Simulated_1731</th>\n",
       "      <td>38.799</td>\n",
       "      <td>25.928</td>\n",
       "      <td>0.0</td>\n",
       "      <td>0.0</td>\n",
       "      <td>0.0</td>\n",
       "      <td>0.0</td>\n",
       "      <td>False</td>\n",
       "      <td>15.739</td>\n",
       "      <td>176.939</td>\n",
       "      <td>4.19</td>\n",
       "      <td>0.0</td>\n",
       "    </tr>\n",
       "  </tbody>\n",
       "</table>\n",
       "<p>3533 rows × 11 columns</p>\n",
       "</div>"
      ],
      "text/plain": [
       "                   Age  BodyMassIndex  Smoking=1  BPTreatment=1  \\\n",
       "Simulated_328   53.618         24.127        0.0            0.0   \n",
       "Simulated_1644  36.811         27.992        0.0            0.0   \n",
       "Simulated_1710  49.429         23.664        0.0            0.0   \n",
       "Simulated_1732  48.842         26.804        0.0            0.0   \n",
       "Simulated_1727  60.738         29.862        0.0            0.0   \n",
       "...                ...            ...        ...            ...   \n",
       "Simulated_1783  33.802         37.049        0.0            0.0   \n",
       "Simulated_3425  69.249           36.8        0.0            0.0   \n",
       "Simulated_1789  28.561         26.463        0.0            0.0   \n",
       "Simulated_1592  70.278         31.945        0.0            1.0   \n",
       "Simulated_1731  38.799         25.928        0.0            0.0   \n",
       "\n",
       "                PrevalentDiabetes=1  PrevalentCHD=1  Event  Event_time  \\\n",
       "Simulated_328                   0.0             0.0  False       15.75   \n",
       "Simulated_1644                  0.0             0.0  False      15.881   \n",
       "Simulated_1710                  0.0             0.0  False      15.891   \n",
       "Simulated_1732                  0.0             0.0  False      15.918   \n",
       "Simulated_1727                  0.0             0.0  False      15.841   \n",
       "...                             ...             ...    ...         ...   \n",
       "Simulated_1783                  0.0             0.0  False      15.942   \n",
       "Simulated_3425                  1.0             0.0  False      15.781   \n",
       "Simulated_1789                  0.0             0.0  False      12.198   \n",
       "Simulated_1592                  0.0             0.0  False      15.609   \n",
       "Simulated_1731                  0.0             0.0  False      15.739   \n",
       "\n",
       "                SystolicBP  NonHDLcholesterol  Sex=1  \n",
       "Simulated_328      133.077               3.02    0.0  \n",
       "Simulated_1644     108.914               5.48    0.0  \n",
       "Simulated_1710     110.064              4.388    1.0  \n",
       "Simulated_1732     128.059              5.119    0.0  \n",
       "Simulated_1727     169.913               5.74    1.0  \n",
       "...                    ...                ...    ...  \n",
       "Simulated_1783      109.08              3.141    0.0  \n",
       "Simulated_3425     145.953              5.478    1.0  \n",
       "Simulated_1789     124.091               4.87    1.0  \n",
       "Simulated_1592     142.038              2.492    0.0  \n",
       "Simulated_1731     176.939               4.19    0.0  \n",
       "\n",
       "[3533 rows x 11 columns]"
      ]
     },
     "execution_count": 8,
     "metadata": {},
     "output_type": "execute_result"
    }
   ],
   "source": [
    "pheno_df_train"
   ]
  },
  {
   "cell_type": "code",
   "execution_count": 9,
   "metadata": {},
   "outputs": [
    {
     "name": "stdout",
     "output_type": "stream",
     "text": [
      "Empty DataFrame\n",
      "Columns: [Age, BodyMassIndex, Smoking=1, BPTreatment=1, PrevalentDiabetes=1, PrevalentCHD=1, Event, Event_time, SystolicBP, NonHDLcholesterol, Sex=1, Unnamed: 0, Smoking, BPTreatment, PrevalentDiabetes, PrevalentCHD, PrevalentHFAIL, Sex]\n",
      "Index: []\n"
     ]
    }
   ],
   "source": [
    "# Calling merge() function\n",
    "int_df = pd.merge(pheno_df_train, pheno_df_test, how ='inner')\n",
    "print(int_df)"
   ]
  },
  {
   "cell_type": "code",
   "execution_count": 12,
   "metadata": {},
   "outputs": [
    {
     "data": {
      "text/html": [
       "<div>\n",
       "<style scoped>\n",
       "    .dataframe tbody tr th:only-of-type {\n",
       "        vertical-align: middle;\n",
       "    }\n",
       "\n",
       "    .dataframe tbody tr th {\n",
       "        vertical-align: top;\n",
       "    }\n",
       "\n",
       "    .dataframe thead th {\n",
       "        text-align: right;\n",
       "    }\n",
       "</style>\n",
       "<table border=\"1\" class=\"dataframe\">\n",
       "  <thead>\n",
       "    <tr style=\"text-align: right;\">\n",
       "      <th>Event</th>\n",
       "      <th>False</th>\n",
       "      <th>True</th>\n",
       "    </tr>\n",
       "    <tr>\n",
       "      <th>Smoking=1</th>\n",
       "      <th></th>\n",
       "      <th></th>\n",
       "    </tr>\n",
       "  </thead>\n",
       "  <tbody>\n",
       "    <tr>\n",
       "      <th>0.0</th>\n",
       "      <td>2406</td>\n",
       "      <td>237</td>\n",
       "    </tr>\n",
       "    <tr>\n",
       "      <th>1.0</th>\n",
       "      <td>751</td>\n",
       "      <td>54</td>\n",
       "    </tr>\n",
       "  </tbody>\n",
       "</table>\n",
       "</div>"
      ],
      "text/plain": [
       "Event      False  True\n",
       "Smoking=1             \n",
       "0.0         2406   237\n",
       "1.0          751    54"
      ]
     },
     "execution_count": 12,
     "metadata": {},
     "output_type": "execute_result"
    }
   ],
   "source": [
    "import scipy.stats  as stats\n",
    "crosstab = pd.crosstab(pheno_df_train['Smoking=1'], pheno_df_train['Event'])\n",
    "crosstab"
   ]
  },
  {
   "cell_type": "code",
   "execution_count": 13,
   "metadata": {},
   "outputs": [
    {
     "data": {
      "text/plain": [
       "(3.787912668503087,\n",
       " 0.051623988357987226,\n",
       " 1,\n",
       " array([[2419.93938515,  223.06061485],\n",
       "        [ 737.06061485,   67.93938515]]))"
      ]
     },
     "execution_count": 13,
     "metadata": {},
     "output_type": "execute_result"
    }
   ],
   "source": [
    "stats.chi2_contingency(crosstab)"
   ]
  },
  {
   "cell_type": "code",
   "execution_count": 14,
   "metadata": {},
   "outputs": [
    {
     "data": {
      "text/html": [
       "<div>\n",
       "<style scoped>\n",
       "    .dataframe tbody tr th:only-of-type {\n",
       "        vertical-align: middle;\n",
       "    }\n",
       "\n",
       "    .dataframe tbody tr th {\n",
       "        vertical-align: top;\n",
       "    }\n",
       "\n",
       "    .dataframe thead th {\n",
       "        text-align: right;\n",
       "    }\n",
       "</style>\n",
       "<table border=\"1\" class=\"dataframe\">\n",
       "  <thead>\n",
       "    <tr style=\"text-align: right;\">\n",
       "      <th>Event</th>\n",
       "      <th>False</th>\n",
       "      <th>True</th>\n",
       "    </tr>\n",
       "    <tr>\n",
       "      <th>BPTreatment=1</th>\n",
       "      <th></th>\n",
       "      <th></th>\n",
       "    </tr>\n",
       "  </thead>\n",
       "  <tbody>\n",
       "    <tr>\n",
       "      <th>0.0</th>\n",
       "      <td>2674</td>\n",
       "      <td>238</td>\n",
       "    </tr>\n",
       "    <tr>\n",
       "      <th>1.0</th>\n",
       "      <td>483</td>\n",
       "      <td>53</td>\n",
       "    </tr>\n",
       "  </tbody>\n",
       "</table>\n",
       "</div>"
      ],
      "text/plain": [
       "Event          False  True\n",
       "BPTreatment=1             \n",
       "0.0             2674   238\n",
       "1.0              483    53"
      ]
     },
     "execution_count": 14,
     "metadata": {},
     "output_type": "execute_result"
    }
   ],
   "source": [
    "crosstab = pd.crosstab(pheno_df_train['BPTreatment=1'], pheno_df_train['Event'])\n",
    "crosstab"
   ]
  },
  {
   "cell_type": "code",
   "execution_count": 15,
   "metadata": {},
   "outputs": [
    {
     "data": {
      "text/plain": [
       "(1.508172147740657,\n",
       " 0.21941821239553866,\n",
       " 1,\n",
       " array([[2666.23665893,  245.76334107],\n",
       "        [ 490.76334107,   45.23665893]]))"
      ]
     },
     "execution_count": 15,
     "metadata": {},
     "output_type": "execute_result"
    }
   ],
   "source": [
    "stats.chi2_contingency(crosstab)"
   ]
  },
  {
   "cell_type": "code",
   "execution_count": 16,
   "metadata": {},
   "outputs": [
    {
     "data": {
      "text/html": [
       "<div>\n",
       "<style scoped>\n",
       "    .dataframe tbody tr th:only-of-type {\n",
       "        vertical-align: middle;\n",
       "    }\n",
       "\n",
       "    .dataframe tbody tr th {\n",
       "        vertical-align: top;\n",
       "    }\n",
       "\n",
       "    .dataframe thead th {\n",
       "        text-align: right;\n",
       "    }\n",
       "</style>\n",
       "<table border=\"1\" class=\"dataframe\">\n",
       "  <thead>\n",
       "    <tr style=\"text-align: right;\">\n",
       "      <th>Event</th>\n",
       "      <th>False</th>\n",
       "      <th>True</th>\n",
       "    </tr>\n",
       "    <tr>\n",
       "      <th>PrevalentDiabetes=1</th>\n",
       "      <th></th>\n",
       "      <th></th>\n",
       "    </tr>\n",
       "  </thead>\n",
       "  <tbody>\n",
       "    <tr>\n",
       "      <th>0.0</th>\n",
       "      <td>2964</td>\n",
       "      <td>271</td>\n",
       "    </tr>\n",
       "    <tr>\n",
       "      <th>1.0</th>\n",
       "      <td>193</td>\n",
       "      <td>20</td>\n",
       "    </tr>\n",
       "  </tbody>\n",
       "</table>\n",
       "</div>"
      ],
      "text/plain": [
       "Event                False  True\n",
       "PrevalentDiabetes=1             \n",
       "0.0                   2964   271\n",
       "1.0                    193    20"
      ]
     },
     "execution_count": 16,
     "metadata": {},
     "output_type": "execute_result"
    }
   ],
   "source": [
    "crosstab = pd.crosstab(pheno_df_train['PrevalentDiabetes=1'], pheno_df_train['Event'])\n",
    "crosstab"
   ]
  },
  {
   "cell_type": "code",
   "execution_count": 17,
   "metadata": {},
   "outputs": [
    {
     "data": {
      "text/plain": [
       "(0.1503005602504273,\n",
       " 0.6982482975121406,\n",
       " 1,\n",
       " array([[2961.97650812,  273.02349188],\n",
       "        [ 195.02349188,   17.97650812]]))"
      ]
     },
     "execution_count": 17,
     "metadata": {},
     "output_type": "execute_result"
    }
   ],
   "source": [
    "stats.chi2_contingency(crosstab)"
   ]
  },
  {
   "cell_type": "code",
   "execution_count": 18,
   "metadata": {},
   "outputs": [
    {
     "data": {
      "text/html": [
       "<div>\n",
       "<style scoped>\n",
       "    .dataframe tbody tr th:only-of-type {\n",
       "        vertical-align: middle;\n",
       "    }\n",
       "\n",
       "    .dataframe tbody tr th {\n",
       "        vertical-align: top;\n",
       "    }\n",
       "\n",
       "    .dataframe thead th {\n",
       "        text-align: right;\n",
       "    }\n",
       "</style>\n",
       "<table border=\"1\" class=\"dataframe\">\n",
       "  <thead>\n",
       "    <tr style=\"text-align: right;\">\n",
       "      <th>Event</th>\n",
       "      <th>False</th>\n",
       "      <th>True</th>\n",
       "    </tr>\n",
       "    <tr>\n",
       "      <th>Sex=1</th>\n",
       "      <th></th>\n",
       "      <th></th>\n",
       "    </tr>\n",
       "  </thead>\n",
       "  <tbody>\n",
       "    <tr>\n",
       "      <th>0.0</th>\n",
       "      <td>1758</td>\n",
       "      <td>156</td>\n",
       "    </tr>\n",
       "    <tr>\n",
       "      <th>1.0</th>\n",
       "      <td>1399</td>\n",
       "      <td>135</td>\n",
       "    </tr>\n",
       "  </tbody>\n",
       "</table>\n",
       "</div>"
      ],
      "text/plain": [
       "Event  False  True\n",
       "Sex=1             \n",
       "0.0     1758   156\n",
       "1.0     1399   135"
      ]
     },
     "execution_count": 18,
     "metadata": {},
     "output_type": "execute_result"
    }
   ],
   "source": [
    "crosstab = pd.crosstab(pheno_df_train['Sex=1'], pheno_df_train['Event'])\n",
    "crosstab"
   ]
  },
  {
   "cell_type": "code",
   "execution_count": 19,
   "metadata": {},
   "outputs": [
    {
     "data": {
      "text/plain": [
       "(0.385329178859515,\n",
       " 0.5347648592328675,\n",
       " 1,\n",
       " array([[1752.46461717,  161.53538283],\n",
       "        [1404.53538283,  129.46461717]]))"
      ]
     },
     "execution_count": 19,
     "metadata": {},
     "output_type": "execute_result"
    }
   ],
   "source": [
    "stats.chi2_contingency(crosstab)"
   ]
  },
  {
   "cell_type": "code",
   "execution_count": 20,
   "metadata": {},
   "outputs": [
    {
     "data": {
      "text/html": [
       "<div>\n",
       "<style scoped>\n",
       "    .dataframe tbody tr th:only-of-type {\n",
       "        vertical-align: middle;\n",
       "    }\n",
       "\n",
       "    .dataframe tbody tr th {\n",
       "        vertical-align: top;\n",
       "    }\n",
       "\n",
       "    .dataframe thead th {\n",
       "        text-align: right;\n",
       "    }\n",
       "</style>\n",
       "<table border=\"1\" class=\"dataframe\">\n",
       "  <thead>\n",
       "    <tr style=\"text-align: right;\">\n",
       "      <th>Event</th>\n",
       "      <th>False</th>\n",
       "      <th>True</th>\n",
       "    </tr>\n",
       "    <tr>\n",
       "      <th>PrevalentCHD=1</th>\n",
       "      <th></th>\n",
       "      <th></th>\n",
       "    </tr>\n",
       "  </thead>\n",
       "  <tbody>\n",
       "    <tr>\n",
       "      <th>0.0</th>\n",
       "      <td>3063</td>\n",
       "      <td>274</td>\n",
       "    </tr>\n",
       "    <tr>\n",
       "      <th>1.0</th>\n",
       "      <td>94</td>\n",
       "      <td>17</td>\n",
       "    </tr>\n",
       "  </tbody>\n",
       "</table>\n",
       "</div>"
      ],
      "text/plain": [
       "Event           False  True\n",
       "PrevalentCHD=1             \n",
       "0.0              3063   274\n",
       "1.0                94    17"
      ]
     },
     "execution_count": 20,
     "metadata": {},
     "output_type": "execute_result"
    }
   ],
   "source": [
    "crosstab = pd.crosstab(pheno_df_train['PrevalentCHD=1'], pheno_df_train['Event'])\n",
    "crosstab"
   ]
  },
  {
   "cell_type": "code",
   "execution_count": 21,
   "metadata": {},
   "outputs": [
    {
     "data": {
      "text/plain": [
       "(6.127352710227614,\n",
       " 0.013310603158111651,\n",
       " 1,\n",
       " array([[3055.36803944,  281.63196056],\n",
       "        [ 101.63196056,    9.36803944]]))"
      ]
     },
     "execution_count": 21,
     "metadata": {},
     "output_type": "execute_result"
    }
   ],
   "source": [
    "stats.chi2_contingency(crosstab)"
   ]
  },
  {
   "cell_type": "code",
   "execution_count": 27,
   "metadata": {},
   "outputs": [],
   "source": [
    "from sklearn.linear_model import LogisticRegression\n",
    "\n",
    "lgc = LogisticRegression().fit(pheno_df_train['BodyMassIndex'].to_numpy().reshape(-1,1), pheno_df_train['Event'])\n",
    " "
   ]
  }
 ],
 "metadata": {
  "kernelspec": {
   "display_name": "Python 3.7.13 ('ml')",
   "language": "python",
   "name": "python3"
  },
  "language_info": {
   "codemirror_mode": {
    "name": "ipython",
    "version": 3
   },
   "file_extension": ".py",
   "mimetype": "text/x-python",
   "name": "python",
   "nbconvert_exporter": "python",
   "pygments_lexer": "ipython3",
   "version": "3.7.13"
  },
  "orig_nbformat": 4,
  "vscode": {
   "interpreter": {
    "hash": "10e2f20e579521ab8440449af66a589b7bed808e19e449c8ac839f4aee243b16"
   }
  }
 },
 "nbformat": 4,
 "nbformat_minor": 2
}
