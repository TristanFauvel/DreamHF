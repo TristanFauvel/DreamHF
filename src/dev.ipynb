{
 "cells": [
  {
   "cell_type": "code",
   "execution_count": 1,
   "metadata": {},
   "outputs": [],
   "source": [
    "%reload_ext autoreload\n",
    "%autoreload 2"
   ]
  },
  {
   "cell_type": "code",
   "execution_count": 2,
   "metadata": {},
   "outputs": [
    {
     "name": "stderr",
     "output_type": "stream",
     "text": [
      "/home/tristan/anaconda3/envs/DreamChallenge/lib/python3.10/site-packages/tqdm/auto.py:22: TqdmWarning: IProgress not found. Please update jupyter and ipywidgets. See https://ipywidgets.readthedocs.io/en/stable/user_install.html\n",
      "  from .autonotebook import tqdm as notebook_tqdm\n",
      "<frozen importlib._bootstrap>:241: RuntimeWarning: sklearn.tree._criterion.Criterion size changed, may indicate binary incompatibility. Expected 328 from C header, got 528 from PyObject\n",
      "<frozen importlib._bootstrap>:241: RuntimeWarning: sklearn.tree._splitter.Splitter size changed, may indicate binary incompatibility. Expected 1160 from C header, got 1360 from PyObject\n",
      "<frozen importlib._bootstrap>:241: RuntimeWarning: sklearn.tree._criterion.ClassificationCriterion size changed, may indicate binary incompatibility. Expected 1168 from C header, got 1368 from PyObject\n",
      "<frozen importlib._bootstrap>:241: RuntimeWarning: sklearn.tree._criterion.RegressionCriterion size changed, may indicate binary incompatibility. Expected 960 from C header, got 1160 from PyObject\n"
     ]
    },
    {
     "name": "stdout",
     "output_type": "stream",
     "text": [
      "Loading the data...\n"
     ]
    }
   ],
   "source": [
    "import random\n",
    "import sys\n",
    "from types import MethodType\n",
    "from pipeline import experiment_pipeline\n",
    "from preprocessing import load_data\n",
    "\n",
    "random.seed(10)\n",
    "\n",
    "arguments = sys.argv\n",
    "\n",
    "arguments = [0, '/home/tristan/Desktop/Repos/DreamHF']\n",
    "ROOT = arguments[1]\n",
    "\n",
    "print(\"Loading the data...\")\n",
    "pheno_df_train, pheno_df_test, readcounts_df_train, readcounts_df_test = load_data(\n",
    "    ROOT)\n"
   ]
  },
  {
   "cell_type": "code",
   "execution_count": 3,
   "metadata": {},
   "outputs": [],
   "source": [
    "import os\n",
    "import pathlib\n",
    "\n",
    "import numpy as np\n",
    "import pandas as pd\n",
    "import sklearn\n",
    "from sksurv.metrics import concordance_index_censored\n",
    "sklearn.set_config(transform_output=\"pandas\")\n",
    "\n",
    "import wandb\n",
    "from model_evaluation import evaluate_model\n",
    "from preprocessing import CLINICAL_COVARIATES, Salosensaari_processing, clr_processing\n",
    "\n",
    "sklearn.set_config(transform_output=\"pandas\")"
   ]
  },
  {
   "cell_type": "code",
   "execution_count": 4,
   "metadata": {},
   "outputs": [],
   "source": [
    "processing = 'MI_clr'\n",
    "clinical_covariates = ['Age',\n",
    "                       'BodyMassIndex',\n",
    "                       'Smoking',\n",
    "                       'BPTreatment',\n",
    "                       'PrevalentDiabetes',\n",
    "                       'PrevalentCHD',\n",
    "                       #'PrevalentHFAIL',\n",
    "                       'SystolicBP',\n",
    "                       'NonHDLcholesterol',\n",
    "                       'Sex']  # CLINICAL_COVARIATES\n",
    "\n",
    "\n",
    "#clinical_covariates= CLINICAL_COVARIATES\n",
    "n_taxa = 0\n",
    "\n",
    "if processing == 'Salosensaari':\n",
    "    X_train, X_test, y_train, y_test, test_sample_ids, train_sample_ids = Salosensaari_processing(\n",
    "        pheno_df_train, pheno_df_test, readcounts_df_train, readcounts_df_test, clinical_covariates\n",
    "    )\n",
    "elif processing == 'MI_clr':\n",
    "    ## Feature selection\n",
    "    X_train, X_test, y_train, y_test, test_sample_ids, train_sample_ids = clr_processing(\n",
    "        pheno_df_train, pheno_df_test, readcounts_df_train, readcounts_df_test, clinical_covariates,  n_taxa)\n"
   ]
  },
  {
   "cell_type": "code",
   "execution_count": 6,
   "metadata": {},
   "outputs": [
    {
     "data": {
      "text/html": [
       "<div>\n",
       "<style scoped>\n",
       "    .dataframe tbody tr th:only-of-type {\n",
       "        vertical-align: middle;\n",
       "    }\n",
       "\n",
       "    .dataframe tbody tr th {\n",
       "        vertical-align: top;\n",
       "    }\n",
       "\n",
       "    .dataframe thead th {\n",
       "        text-align: right;\n",
       "    }\n",
       "</style>\n",
       "<table border=\"1\" class=\"dataframe\">\n",
       "  <thead>\n",
       "    <tr style=\"text-align: right;\">\n",
       "      <th>Unnamed: 0</th>\n",
       "      <th>Age</th>\n",
       "      <th>PrevalentCHD</th>\n",
       "      <th>adiv</th>\n",
       "    </tr>\n",
       "  </thead>\n",
       "  <tbody>\n",
       "    <tr>\n",
       "      <th>Simulated_328</th>\n",
       "      <td>53.618</td>\n",
       "      <td>0</td>\n",
       "      <td>2078.0</td>\n",
       "    </tr>\n",
       "    <tr>\n",
       "      <th>Simulated_1644</th>\n",
       "      <td>36.811</td>\n",
       "      <td>0</td>\n",
       "      <td>771.0</td>\n",
       "    </tr>\n",
       "    <tr>\n",
       "      <th>Simulated_1710</th>\n",
       "      <td>49.429</td>\n",
       "      <td>0</td>\n",
       "      <td>1680.0</td>\n",
       "    </tr>\n",
       "    <tr>\n",
       "      <th>Simulated_1732</th>\n",
       "      <td>48.842</td>\n",
       "      <td>0</td>\n",
       "      <td>2039.0</td>\n",
       "    </tr>\n",
       "    <tr>\n",
       "      <th>Simulated_1727</th>\n",
       "      <td>60.738</td>\n",
       "      <td>0</td>\n",
       "      <td>1822.0</td>\n",
       "    </tr>\n",
       "    <tr>\n",
       "      <th>...</th>\n",
       "      <td>...</td>\n",
       "      <td>...</td>\n",
       "      <td>...</td>\n",
       "    </tr>\n",
       "    <tr>\n",
       "      <th>Simulated_1783</th>\n",
       "      <td>33.802</td>\n",
       "      <td>0</td>\n",
       "      <td>2299.0</td>\n",
       "    </tr>\n",
       "    <tr>\n",
       "      <th>Simulated_3425</th>\n",
       "      <td>69.249</td>\n",
       "      <td>0</td>\n",
       "      <td>1823.0</td>\n",
       "    </tr>\n",
       "    <tr>\n",
       "      <th>Simulated_1789</th>\n",
       "      <td>28.561</td>\n",
       "      <td>0</td>\n",
       "      <td>1468.0</td>\n",
       "    </tr>\n",
       "    <tr>\n",
       "      <th>Simulated_1592</th>\n",
       "      <td>70.278</td>\n",
       "      <td>0</td>\n",
       "      <td>1638.0</td>\n",
       "    </tr>\n",
       "    <tr>\n",
       "      <th>Simulated_1731</th>\n",
       "      <td>38.799</td>\n",
       "      <td>0</td>\n",
       "      <td>2260.0</td>\n",
       "    </tr>\n",
       "  </tbody>\n",
       "</table>\n",
       "<p>3557 rows × 3 columns</p>\n",
       "</div>"
      ],
      "text/plain": [
       "Unnamed: 0         Age  PrevalentCHD    adiv\n",
       "Simulated_328   53.618             0  2078.0\n",
       "Simulated_1644  36.811             0   771.0\n",
       "Simulated_1710  49.429             0  1680.0\n",
       "Simulated_1732  48.842             0  2039.0\n",
       "Simulated_1727  60.738             0  1822.0\n",
       "...                ...           ...     ...\n",
       "Simulated_1783  33.802             0  2299.0\n",
       "Simulated_3425  69.249             0  1823.0\n",
       "Simulated_1789  28.561             0  1468.0\n",
       "Simulated_1592  70.278             0  1638.0\n",
       "Simulated_1731  38.799             0  2260.0\n",
       "\n",
       "[3557 rows x 3 columns]"
      ]
     },
     "execution_count": 6,
     "metadata": {},
     "output_type": "execute_result"
    }
   ],
   "source": [
    "X_train"
   ]
  },
  {
   "cell_type": "code",
   "execution_count": 9,
   "metadata": {},
   "outputs": [
    {
     "name": "stdout",
     "output_type": "stream",
     "text": [
      "       Harrell C\n",
      "train   0.716123\n"
     ]
    }
   ],
   "source": [
    "root = ROOT\n",
    "outdir = root + \"/output/\"\n",
    "risk_scores_train = pd.read_csv(outdir + \"scores_train.csv\")\n",
    "risk_scores_train = risk_scores_train.set_index('SampleID')\n",
    "harrell_C_training = concordance_index_censored(\n",
    "    y_train['Event'], y_train['Event_time'], risk_scores_train.Score)[0]\n",
    "\n",
    "result = {\n",
    "    \"Harrell C\": [harrell_C_training]\n",
    "}\n",
    "\n",
    "print(pd.DataFrame(result, index=[\"train\"]))\n",
    "\n",
    "\n",
    "risk_scores = pd.read_csv(outdir + \"scores.csv\")\n",
    "risk_scores = risk_scores.set_index('SampleID')"
   ]
  },
  {
   "cell_type": "code",
   "execution_count": 25,
   "metadata": {},
   "outputs": [
    {
     "data": {
      "text/plain": [
       "False"
      ]
     },
     "execution_count": 25,
     "metadata": {},
     "output_type": "execute_result"
    }
   ],
   "source": [
    "any(risk_scores.isna().Score)"
   ]
  },
  {
   "cell_type": "code",
   "execution_count": 26,
   "metadata": {},
   "outputs": [
    {
     "data": {
      "text/plain": [
       "True"
      ]
     },
     "execution_count": 26,
     "metadata": {},
     "output_type": "execute_result"
    }
   ],
   "source": [
    "any(risk_scores.isna())"
   ]
  },
  {
   "cell_type": "code",
   "execution_count": 15,
   "metadata": {},
   "outputs": [
    {
     "data": {
      "text/plain": [
       "True"
      ]
     },
     "execution_count": 15,
     "metadata": {},
     "output_type": "execute_result"
    }
   ],
   "source": [
    "any(risk_scores.isna())\n"
   ]
  },
  {
   "cell_type": "code",
   "execution_count": 27,
   "metadata": {},
   "outputs": [
    {
     "data": {
      "text/plain": [
       "False"
      ]
     },
     "execution_count": 27,
     "metadata": {},
     "output_type": "execute_result"
    }
   ],
   "source": [
    "any(risk_scores.Score < 0) or any(risk_scores.Score >1) or any(risk_scores.isna().Score)"
   ]
  },
  {
   "cell_type": "code",
   "execution_count": 24,
   "metadata": {},
   "outputs": [],
   "source": [
    "from sklearn.feature_selection import RFECV\n",
    "from survival_models import CoxPH, sksurv_gbt\n",
    "from sklearn.model_selection import RepeatedKFold\n",
    "min_features_to_select = 1  # Minimum number of features to consider    \n",
    "model = CoxPH(0)\n",
    "cv = RepeatedKFold(n_splits = 2, n_repeats = 1)\n",
    "\n",
    "features = np.intersect1d(clinical_covariates, X_train.columns)\n",
    "other_features = np.setxor1d(clinical_covariates, X_train.columns)\n",
    "rfecv = RFECV(\n",
    "    estimator=model.pipeline[1],\n",
    "    step=1,\n",
    "    cv=cv,\n",
    "    min_features_to_select=min_features_to_select,\n",
    "    n_jobs=-1,\n",
    "    verbose = 0\n",
    ")\n",
    "rfecv.fit(model.pipeline[0].fit_transform(X_train.loc[:,features], y_train), y_train)\n",
    "features = [el.rsplit('__')[1] for el in rfecv.get_feature_names_out()]\n",
    "output = np.union1d(features, other_features)"
   ]
  },
  {
   "cell_type": "code",
   "execution_count": 25,
   "metadata": {},
   "outputs": [
    {
     "data": {
      "text/plain": [
       "array(['Age', 'PrevalentCHD', 'adiv', 'shannon'], dtype=object)"
      ]
     },
     "execution_count": 25,
     "metadata": {},
     "output_type": "execute_result"
    }
   ],
   "source": [
    "output"
   ]
  },
  {
   "cell_type": "code",
   "execution_count": 19,
   "metadata": {},
   "outputs": [
    {
     "data": {
      "text/plain": [
       "Index(['Age', 'BodyMassIndex', 'Smoking', 'BPTreatment', 'PrevalentDiabetes',\n",
       "       'PrevalentCHD', 'SystolicBP', 'NonHDLcholesterol', 'Sex', 'adiv',\n",
       "       'shannon'],\n",
       "      dtype='object', name='Unnamed: 0')"
      ]
     },
     "execution_count": 19,
     "metadata": {},
     "output_type": "execute_result"
    }
   ],
   "source": [
    "X_train.columns\n"
   ]
  },
  {
   "cell_type": "code",
   "execution_count": 18,
   "metadata": {},
   "outputs": [
    {
     "data": {
      "text/plain": [
       "['Age',\n",
       " 'BodyMassIndex',\n",
       " 'Smoking',\n",
       " 'BPTreatment',\n",
       " 'PrevalentDiabetes',\n",
       " 'PrevalentCHD',\n",
       " 'SystolicBP',\n",
       " 'NonHDLcholesterol',\n",
       " 'Sex']"
      ]
     },
     "execution_count": 18,
     "metadata": {},
     "output_type": "execute_result"
    }
   ],
   "source": [
    "clinical_covariates"
   ]
  },
  {
   "cell_type": "code",
   "execution_count": 22,
   "metadata": {},
   "outputs": [],
   "source": [
    "other_features = np.setxor1d(clinical_covariates, X_train.columns)"
   ]
  },
  {
   "cell_type": "code",
   "execution_count": 23,
   "metadata": {},
   "outputs": [
    {
     "data": {
      "text/plain": [
       "array(['adiv', 'shannon'], dtype=object)"
      ]
     },
     "execution_count": 23,
     "metadata": {},
     "output_type": "execute_result"
    }
   ],
   "source": [
    "other_features\n"
   ]
  },
  {
   "cell_type": "code",
   "execution_count": 17,
   "metadata": {},
   "outputs": [
    {
     "data": {
      "text/plain": [
       "['Age', 'PrevalentCHD', 'Smoking']"
      ]
     },
     "execution_count": 17,
     "metadata": {},
     "output_type": "execute_result"
    }
   ],
   "source": [
    "features\n"
   ]
  },
  {
   "cell_type": "code",
   "execution_count": 10,
   "metadata": {},
   "outputs": [
    {
     "data": {
      "text/plain": [
       "['Age', 'PrevalentCHD']"
      ]
     },
     "execution_count": 10,
     "metadata": {},
     "output_type": "execute_result"
    }
   ],
   "source": [
    "features"
   ]
  },
  {
   "cell_type": "code",
   "execution_count": 9,
   "metadata": {},
   "outputs": [
    {
     "data": {
      "text/html": [
       "<div>\n",
       "<style scoped>\n",
       "    .dataframe tbody tr th:only-of-type {\n",
       "        vertical-align: middle;\n",
       "    }\n",
       "\n",
       "    .dataframe tbody tr th {\n",
       "        vertical-align: top;\n",
       "    }\n",
       "\n",
       "    .dataframe thead th {\n",
       "        text-align: right;\n",
       "    }\n",
       "</style>\n",
       "<table border=\"1\" class=\"dataframe\">\n",
       "  <thead>\n",
       "    <tr style=\"text-align: right;\">\n",
       "      <th>Unnamed: 0</th>\n",
       "      <th>Age</th>\n",
       "      <th>BodyMassIndex</th>\n",
       "      <th>Smoking</th>\n",
       "      <th>BPTreatment</th>\n",
       "      <th>PrevalentDiabetes</th>\n",
       "      <th>PrevalentCHD</th>\n",
       "      <th>SystolicBP</th>\n",
       "      <th>NonHDLcholesterol</th>\n",
       "      <th>Sex</th>\n",
       "      <th>adiv</th>\n",
       "      <th>shannon</th>\n",
       "    </tr>\n",
       "  </thead>\n",
       "  <tbody>\n",
       "    <tr>\n",
       "      <th>Simulated_328</th>\n",
       "      <td>53.618</td>\n",
       "      <td>24.127</td>\n",
       "      <td>0</td>\n",
       "      <td>0</td>\n",
       "      <td>0</td>\n",
       "      <td>0</td>\n",
       "      <td>133.077</td>\n",
       "      <td>3.02</td>\n",
       "      <td>0</td>\n",
       "      <td>2078.0</td>\n",
       "      <td>5.281002</td>\n",
       "    </tr>\n",
       "    <tr>\n",
       "      <th>Simulated_1644</th>\n",
       "      <td>36.811</td>\n",
       "      <td>27.992</td>\n",
       "      <td>0</td>\n",
       "      <td>0</td>\n",
       "      <td>0</td>\n",
       "      <td>0</td>\n",
       "      <td>108.914</td>\n",
       "      <td>5.48</td>\n",
       "      <td>0</td>\n",
       "      <td>771.0</td>\n",
       "      <td>2.838381</td>\n",
       "    </tr>\n",
       "    <tr>\n",
       "      <th>Simulated_1710</th>\n",
       "      <td>49.429</td>\n",
       "      <td>23.664</td>\n",
       "      <td>0</td>\n",
       "      <td>0</td>\n",
       "      <td>0</td>\n",
       "      <td>0</td>\n",
       "      <td>110.064</td>\n",
       "      <td>4.388</td>\n",
       "      <td>1</td>\n",
       "      <td>1680.0</td>\n",
       "      <td>3.884434</td>\n",
       "    </tr>\n",
       "    <tr>\n",
       "      <th>Simulated_1732</th>\n",
       "      <td>48.842</td>\n",
       "      <td>26.804</td>\n",
       "      <td>0</td>\n",
       "      <td>0</td>\n",
       "      <td>0</td>\n",
       "      <td>0</td>\n",
       "      <td>128.059</td>\n",
       "      <td>5.119</td>\n",
       "      <td>0</td>\n",
       "      <td>2039.0</td>\n",
       "      <td>4.964998</td>\n",
       "    </tr>\n",
       "    <tr>\n",
       "      <th>Simulated_1727</th>\n",
       "      <td>60.738</td>\n",
       "      <td>29.862</td>\n",
       "      <td>0</td>\n",
       "      <td>0</td>\n",
       "      <td>0</td>\n",
       "      <td>0</td>\n",
       "      <td>169.913</td>\n",
       "      <td>5.74</td>\n",
       "      <td>1</td>\n",
       "      <td>1822.0</td>\n",
       "      <td>5.505621</td>\n",
       "    </tr>\n",
       "    <tr>\n",
       "      <th>...</th>\n",
       "      <td>...</td>\n",
       "      <td>...</td>\n",
       "      <td>...</td>\n",
       "      <td>...</td>\n",
       "      <td>...</td>\n",
       "      <td>...</td>\n",
       "      <td>...</td>\n",
       "      <td>...</td>\n",
       "      <td>...</td>\n",
       "      <td>...</td>\n",
       "      <td>...</td>\n",
       "    </tr>\n",
       "    <tr>\n",
       "      <th>Simulated_1783</th>\n",
       "      <td>33.802</td>\n",
       "      <td>37.049</td>\n",
       "      <td>0</td>\n",
       "      <td>0</td>\n",
       "      <td>0</td>\n",
       "      <td>0</td>\n",
       "      <td>109.08</td>\n",
       "      <td>3.141</td>\n",
       "      <td>0</td>\n",
       "      <td>2299.0</td>\n",
       "      <td>5.140628</td>\n",
       "    </tr>\n",
       "    <tr>\n",
       "      <th>Simulated_3425</th>\n",
       "      <td>69.249</td>\n",
       "      <td>36.8</td>\n",
       "      <td>0</td>\n",
       "      <td>0</td>\n",
       "      <td>1</td>\n",
       "      <td>0</td>\n",
       "      <td>145.953</td>\n",
       "      <td>5.478</td>\n",
       "      <td>1</td>\n",
       "      <td>1823.0</td>\n",
       "      <td>5.738824</td>\n",
       "    </tr>\n",
       "    <tr>\n",
       "      <th>Simulated_1789</th>\n",
       "      <td>28.561</td>\n",
       "      <td>26.463</td>\n",
       "      <td>0</td>\n",
       "      <td>0</td>\n",
       "      <td>0</td>\n",
       "      <td>0</td>\n",
       "      <td>124.091</td>\n",
       "      <td>4.87</td>\n",
       "      <td>1</td>\n",
       "      <td>1468.0</td>\n",
       "      <td>5.318359</td>\n",
       "    </tr>\n",
       "    <tr>\n",
       "      <th>Simulated_1592</th>\n",
       "      <td>70.278</td>\n",
       "      <td>31.945</td>\n",
       "      <td>0</td>\n",
       "      <td>1</td>\n",
       "      <td>0</td>\n",
       "      <td>0</td>\n",
       "      <td>142.038</td>\n",
       "      <td>2.492</td>\n",
       "      <td>0</td>\n",
       "      <td>1638.0</td>\n",
       "      <td>5.306464</td>\n",
       "    </tr>\n",
       "    <tr>\n",
       "      <th>Simulated_1731</th>\n",
       "      <td>38.799</td>\n",
       "      <td>25.928</td>\n",
       "      <td>0</td>\n",
       "      <td>0</td>\n",
       "      <td>0</td>\n",
       "      <td>0</td>\n",
       "      <td>176.939</td>\n",
       "      <td>4.19</td>\n",
       "      <td>0</td>\n",
       "      <td>2260.0</td>\n",
       "      <td>5.492856</td>\n",
       "    </tr>\n",
       "  </tbody>\n",
       "</table>\n",
       "<p>3557 rows × 11 columns</p>\n",
       "</div>"
      ],
      "text/plain": [
       "Unnamed: 0         Age  BodyMassIndex  Smoking  BPTreatment  \\\n",
       "Simulated_328   53.618         24.127        0            0   \n",
       "Simulated_1644  36.811         27.992        0            0   \n",
       "Simulated_1710  49.429         23.664        0            0   \n",
       "Simulated_1732  48.842         26.804        0            0   \n",
       "Simulated_1727  60.738         29.862        0            0   \n",
       "...                ...            ...      ...          ...   \n",
       "Simulated_1783  33.802         37.049        0            0   \n",
       "Simulated_3425  69.249           36.8        0            0   \n",
       "Simulated_1789  28.561         26.463        0            0   \n",
       "Simulated_1592  70.278         31.945        0            1   \n",
       "Simulated_1731  38.799         25.928        0            0   \n",
       "\n",
       "Unnamed: 0      PrevalentDiabetes  PrevalentCHD  SystolicBP  \\\n",
       "Simulated_328                   0             0     133.077   \n",
       "Simulated_1644                  0             0     108.914   \n",
       "Simulated_1710                  0             0     110.064   \n",
       "Simulated_1732                  0             0     128.059   \n",
       "Simulated_1727                  0             0     169.913   \n",
       "...                           ...           ...         ...   \n",
       "Simulated_1783                  0             0      109.08   \n",
       "Simulated_3425                  1             0     145.953   \n",
       "Simulated_1789                  0             0     124.091   \n",
       "Simulated_1592                  0             0     142.038   \n",
       "Simulated_1731                  0             0     176.939   \n",
       "\n",
       "Unnamed: 0      NonHDLcholesterol  Sex    adiv   shannon  \n",
       "Simulated_328                3.02    0  2078.0  5.281002  \n",
       "Simulated_1644               5.48    0   771.0  2.838381  \n",
       "Simulated_1710              4.388    1  1680.0  3.884434  \n",
       "Simulated_1732              5.119    0  2039.0  4.964998  \n",
       "Simulated_1727               5.74    1  1822.0  5.505621  \n",
       "...                           ...  ...     ...       ...  \n",
       "Simulated_1783              3.141    0  2299.0  5.140628  \n",
       "Simulated_3425              5.478    1  1823.0  5.738824  \n",
       "Simulated_1789               4.87    1  1468.0  5.318359  \n",
       "Simulated_1592              2.492    0  1638.0  5.306464  \n",
       "Simulated_1731               4.19    0  2260.0  5.492856  \n",
       "\n",
       "[3557 rows x 11 columns]"
      ]
     },
     "execution_count": 9,
     "metadata": {},
     "output_type": "execute_result"
    }
   ],
   "source": [
    "X_train\n"
   ]
  },
  {
   "attachments": {},
   "cell_type": "markdown",
   "metadata": {},
   "source": [
    "## RFECV"
   ]
  },
  {
   "cell_type": "code",
   "execution_count": 7,
   "metadata": {},
   "outputs": [
    {
     "name": "stdout",
     "output_type": "stream",
     "text": [
      "Fitting estimator with 9 features.\n",
      "Fitting estimator with 9 features.\n",
      "Fitting estimator with 9 features.\n",
      "Fitting estimator with 9 features.\n",
      "Fitting estimator with 9 features.\n",
      "Fitting estimator with 8 features.\n",
      "Fitting estimator with 8 features.\n",
      "Fitting estimator with 8 features.\n",
      "Fitting estimator with 8 features.\n",
      "Fitting estimator with 7 features.\n",
      "Fitting estimator with 7 features.\n",
      "Fitting estimator with 6 features.\n",
      "Fitting estimator with 7 features.\n",
      "Fitting estimator with 7 features.\n",
      "Fitting estimator with 6 features.\n",
      "Fitting estimator with 8 features.\n",
      "Fitting estimator with 5 features.\n",
      "Fitting estimator with 5 features.\n",
      "Fitting estimator with 6 features.\n",
      "Fitting estimator with 4 features.\n",
      "Fitting estimator with 6 features.\n",
      "Fitting estimator with 4 features.\n",
      "Fitting estimator with 5 features.\n",
      "Fitting estimator with 7 features.\n",
      "Fitting estimator with 3 features.\n",
      "Fitting estimator with 3 features.\n",
      "Fitting estimator with 5 features.\n",
      "Fitting estimator with 4 features.\n",
      "Fitting estimator with 2 features.\n",
      "Fitting estimator with 2 features.\n",
      "Fitting estimator with 3 features.\n",
      "Fitting estimator with 6 features.\n",
      "Fitting estimator with 4 features.\n",
      "Fitting estimator with 2 features.\n",
      "Fitting estimator with 3 features.\n",
      "Fitting estimator with 5 features.\n",
      "Fitting estimator with 2 features.\n",
      "Fitting estimator with 4 features.\n",
      "Fitting estimator with 3 features.\n",
      "Fitting estimator with 2 features.\n",
      "Fitting estimator with 9 features.\n",
      "Fitting estimator with 8 features.\n",
      "Fitting estimator with 7 features.\n",
      "Fitting estimator with 6 features.\n",
      "Fitting estimator with 5 features.\n",
      "Fitting estimator with 4 features.\n",
      "Fitting estimator with 3 features.\n",
      "Optimal number of features: 2\n"
     ]
    }
   ],
   "source": [
    "from sklearn.feature_selection import RFECV\n",
    "from survival_models import CoxPH, sksurv_gbt\n",
    "from sklearn.model_selection import RepeatedKFold\n",
    "min_features_to_select = 1  # Minimum number of features to consider\n",
    " \n",
    "model = CoxPH(0)\n",
    "cv = RepeatedKFold(n_splits = 5, n_repeats = 1)\n",
    "\n",
    "rfecv = RFECV(\n",
    "    estimator=model.pipeline[1],\n",
    "    step=1,\n",
    "    cv=cv,\n",
    "    min_features_to_select=min_features_to_select,\n",
    "    n_jobs=-1,\n",
    "    verbose = 10\n",
    ")\n",
    "rfecv.fit(model.pipeline[0].fit_transform(X_train.loc[:,clinical_covariates], y_train), y_train)\n",
    "\n",
    "print(f\"Optimal number of features: {rfecv.n_features_}\")"
   ]
  },
  {
   "cell_type": "code",
   "execution_count": 8,
   "metadata": {},
   "outputs": [
    {
     "data": {
      "text/plain": [
       "array(['num__Age', 'cat__PrevalentCHD'], dtype=object)"
      ]
     },
     "execution_count": 8,
     "metadata": {},
     "output_type": "execute_result"
    }
   ],
   "source": [
    "rfecv.get_feature_names_out()"
   ]
  },
  {
   "cell_type": "code",
   "execution_count": 12,
   "metadata": {},
   "outputs": [
    {
     "data": {
      "text/plain": [
       "['Age', 'PrevalentCHD']"
      ]
     },
     "execution_count": 12,
     "metadata": {},
     "output_type": "execute_result"
    }
   ],
   "source": [
    "sentence = 'b a hello b Hi'\n",
    "[el.rsplit('__')[1] for el in rfecv.get_feature_names_out()]"
   ]
  },
  {
   "cell_type": "code",
   "execution_count": 73,
   "metadata": {},
   "outputs": [
    {
     "data": {
      "image/png": "[encoded data removed]",
      "text/plain": [
       "<Figure size 640x480 with 1 Axes>"
      ]
     },
     "metadata": {},
     "output_type": "display_data"
    }
   ],
   "source": [
    "import matplotlib.pyplot as plt\n",
    "\n",
    "n_scores = len(rfecv.cv_results_[\"mean_test_score\"])\n",
    "plt.figure()\n",
    "plt.xlabel(\"Number of features selected\")\n",
    "plt.ylabel(\"Mean test accuracy\")\n",
    "plt.errorbar(\n",
    "    range(min_features_to_select, n_scores + min_features_to_select),\n",
    "    rfecv.cv_results_[\"mean_test_score\"],\n",
    "    yerr=rfecv.cv_results_[\"std_test_score\"],\n",
    ")\n",
    "plt.title(\"Recursive Feature Elimination \\nwith correlated features\")\n",
    "plt.show()\n"
   ]
  },
  {
   "attachments": {},
   "cell_type": "markdown",
   "metadata": {},
   "source": [
    "## Genomic features selection"
   ]
  },
  {
   "cell_type": "code",
   "execution_count": 58,
   "metadata": {},
   "outputs": [
    {
     "name": "stderr",
     "output_type": "stream",
     "text": [
      "[autoreload of pipeline failed: Traceback (most recent call last):\n",
      "  File \"/home/tristan/anaconda3/envs/DreamChallenge/lib/python3.10/site-packages/IPython/extensions/autoreload.py\", line 261, in check\n",
      "    superreload(m, reload, self.old_objects)\n",
      "  File \"/home/tristan/anaconda3/envs/DreamChallenge/lib/python3.10/site-packages/IPython/extensions/autoreload.py\", line 459, in superreload\n",
      "    module = reload(module)\n",
      "  File \"/home/tristan/anaconda3/envs/DreamChallenge/lib/python3.10/importlib/__init__.py\", line 169, in reload\n",
      "    _bootstrap._exec(spec, module)\n",
      "  File \"<frozen importlib._bootstrap>\", line 619, in _exec\n",
      "  File \"<frozen importlib._bootstrap_external>\", line 879, in exec_module\n",
      "  File \"<frozen importlib._bootstrap_external>\", line 1017, in get_code\n",
      "  File \"<frozen importlib._bootstrap_external>\", line 947, in source_to_code\n",
      "  File \"<frozen importlib._bootstrap>\", line 241, in _call_with_frames_removed\n",
      "  File \"/home/tristan/Desktop/Repos/DreamHF/src/pipeline.py\", line 40\n",
      "    def test_output_csv()\n",
      "                         ^\n",
      "SyntaxError: expected ':'\n",
      "]\n",
      "[autoreload of pipeline failed: Traceback (most recent call last):\n",
      "  File \"/home/tristan/anaconda3/envs/DreamChallenge/lib/python3.10/site-packages/IPython/extensions/autoreload.py\", line 261, in check\n",
      "    superreload(m, reload, self.old_objects)\n",
      "  File \"/home/tristan/anaconda3/envs/DreamChallenge/lib/python3.10/site-packages/IPython/extensions/autoreload.py\", line 459, in superreload\n",
      "    module = reload(module)\n",
      "  File \"/home/tristan/anaconda3/envs/DreamChallenge/lib/python3.10/importlib/__init__.py\", line 169, in reload\n",
      "    _bootstrap._exec(spec, module)\n",
      "  File \"<frozen importlib._bootstrap>\", line 619, in _exec\n",
      "  File \"<frozen importlib._bootstrap_external>\", line 879, in exec_module\n",
      "  File \"<frozen importlib._bootstrap_external>\", line 1017, in get_code\n",
      "  File \"<frozen importlib._bootstrap_external>\", line 947, in source_to_code\n",
      "  File \"<frozen importlib._bootstrap>\", line 241, in _call_with_frames_removed\n",
      "  File \"/home/tristan/Desktop/Repos/DreamHF/src/pipeline.py\", line 40\n",
      "    def test_output_csv()\n",
      "                         ^\n",
      "SyntaxError: expected ':'\n",
      "]\n",
      "[autoreload of pipeline failed: Traceback (most recent call last):\n",
      "  File \"/home/tristan/anaconda3/envs/DreamChallenge/lib/python3.10/site-packages/IPython/extensions/autoreload.py\", line 261, in check\n",
      "    superreload(m, reload, self.old_objects)\n",
      "  File \"/home/tristan/anaconda3/envs/DreamChallenge/lib/python3.10/site-packages/IPython/extensions/autoreload.py\", line 459, in superreload\n",
      "    module = reload(module)\n",
      "  File \"/home/tristan/anaconda3/envs/DreamChallenge/lib/python3.10/importlib/__init__.py\", line 169, in reload\n",
      "    _bootstrap._exec(spec, module)\n",
      "  File \"<frozen importlib._bootstrap>\", line 619, in _exec\n",
      "  File \"<frozen importlib._bootstrap_external>\", line 879, in exec_module\n",
      "  File \"<frozen importlib._bootstrap_external>\", line 1017, in get_code\n",
      "  File \"<frozen importlib._bootstrap_external>\", line 947, in source_to_code\n",
      "  File \"<frozen importlib._bootstrap>\", line 241, in _call_with_frames_removed\n",
      "  File \"/home/tristan/Desktop/Repos/DreamHF/src/pipeline.py\", line 40\n",
      "    def test_output_csv()\n",
      "                         ^\n",
      "SyntaxError: expected ':'\n",
      "]\n"
     ]
    },
    {
     "data": {
      "text/plain": [
       "array(['k__Archaea;p__Euryarchaeota;c__Halobacteria;o__Haloferacales;f__Halorubraceae;g__Halopenitus;s__Halopenitus_sp._DYS4',\n",
       "       'k__Bacteria;p__Acidobacteria;c__Holophagae;o__Holophagales;f__Holophagaceae;g__Holophaga;s__Holophaga_foetida',\n",
       "       'k__Bacteria;p__Actinobacteria;c__Actinobacteria;o__Actinomycetales;f__Actinomycetaceae;g__Varibaculum;s__Varibaculum_cambriense',\n",
       "       'k__Bacteria;p__Actinobacteria;c__Actinobacteria;o__Corynebacteriales;f__Gordoniaceae;g__Gordonia;s__Gordonia_aichiensis',\n",
       "       'k__Bacteria;p__Actinobacteria;c__Actinobacteria;o__Micrococcales;f__Dermabacteraceae;g__Brachybacterium;s__Brachybacterium_faecium',\n",
       "       'k__Bacteria;p__Actinobacteria;c__Actinobacteria;o__Micrococcales;f__Intrasporangiaceae;g__Tetrasphaera;s__Tetrasphaera_australiensis',\n",
       "       'k__Bacteria;p__Actinobacteria;c__Actinobacteria;o__Micrococcales;f__Microbacteriaceae;g__Microbacterium;s__Microbacterium_azadirachtae',\n",
       "       'k__Bacteria;p__Actinobacteria;c__Actinobacteria;o__Micrococcales;f__Micrococcaceae;g__Kocuria;s__Kocuria_sp._ZOR0020',\n",
       "       'k__Bacteria;p__Actinobacteria;c__Actinobacteria;o__Propionibacteriales;f__Nocardioidaceae;g__Kribbella;s__Kribbella_flavida',\n",
       "       'k__Bacteria;p__Actinobacteria;c__Actinobacteria;o__Streptomycetales;f__Streptomycetaceae;g__Kitasatospora;s__Kitasatospora_sp._Root187',\n",
       "       'k__Bacteria;p__Actinobacteria;c__Actinobacteria;o__Streptomycetales;f__Streptomycetaceae;g__Streptomyces;s__Streptomyces_sp._WMMB_714',\n",
       "       'k__Bacteria;p__Actinobacteria;c__Actinobacteria;o__Streptosporangiales;f__Nocardiopsaceae;g__Nocardiopsis;s__Nocardiopsis_xinjiangensis',\n",
       "       'k__Bacteria;p__Actinobacteria;c__Coriobacteriia;o__Coriobacteriales;f__Coriobacteriaceae;g__Enorma;s__Enorma_massiliensis',\n",
       "       'k__Bacteria;p__Bacteroidetes;c__Bacteroidia;o__Bacteroidales;f__Prevotellaceae;g__Prevotella;s__Prevotella_aurantiaca',\n",
       "       'k__Bacteria;p__Bacteroidetes;c__Bacteroidia;o__Bacteroidales;f__Rikenellaceae;g__Alistipes;s__Alistipes_finegoldii',\n",
       "       'k__Bacteria;p__Bacteroidetes;c__Flavobacteriia;o__Flavobacteriales;f__Flavobacteriaceae;g__Flavobacterium;s__Flavobacterium_indicum',\n",
       "       'k__Bacteria;p__Firmicutes;c__Bacilli;o__Bacillales;f__Paenibacillaceae;g__Paenibacillus;s__Paenibacillus_alvei',\n",
       "       'k__Bacteria;p__Firmicutes;c__Bacilli;o__Bacillales;f__Paenibacillaceae;g__Paenibacillus;s__Paenibacillus_stellifer',\n",
       "       'k__Bacteria;p__Firmicutes;c__Bacilli;o__Bacillales;f__Sporolactobacillaceae;g__Sporolactobacillus;s__Sporolactobacillus_terrae',\n",
       "       'k__Bacteria;p__Firmicutes;c__Bacilli;o__Lactobacillales;f__Enterococcaceae;g__Enterococcus;s__Enterococcus_faecalis',\n",
       "       'k__Bacteria;p__Firmicutes;c__Bacilli;o__Lactobacillales;f__Streptococcaceae;g__Streptococcus;s__Streptococcus_sp._X13SY08',\n",
       "       'k__Bacteria;p__Firmicutes;c__Negativicutes;o__Acidaminococcales;f__Acidaminococcaceae;g__Acidaminococcus;s__Acidaminococcus_intestini',\n",
       "       'k__Bacteria;p__Firmicutes;c__Negativicutes;o__Selenomonadales;f__Selenomonadaceae;g__Megamonas;s__',\n",
       "       'k__Bacteria;p__Firmicutes;c__Tissierellia;o__Tissierellales;f__Peptoniphilaceae;g__Peptoniphilus;s__Peptoniphilus_rhinitidis',\n",
       "       'k__Bacteria;p__Planctomycetes;c__Planctomycetia;o__Planctomycetales;f__Planctomycetaceae;g__Planctopirus;s__Planctopirus_limnophila',\n",
       "       'k__Bacteria;p__Proteobacteria;c__Acidithiobacillia;o__Acidithiobacillales;f__Acidithiobacillaceae;g__Acidithiobacillus;s__Acidithiobacillus_ferrooxidans',\n",
       "       'k__Bacteria;p__Proteobacteria;c__Alphaproteobacteria;o__Rhizobiales;f__Aurantimonadaceae;g__Fulvimarina;s__Fulvimarina_pelagi',\n",
       "       'k__Bacteria;p__Proteobacteria;c__Alphaproteobacteria;o__Rhizobiales;f__Bradyrhizobiaceae;g__Rhodopseudomonas;s__Rhodopseudomonas_sp._AAP120',\n",
       "       'k__Bacteria;p__Proteobacteria;c__Alphaproteobacteria;o__Rhizobiales;f__Methylobacteriaceae;g__Microvirga;s__Microvirga_lotononidis',\n",
       "       'k__Bacteria;p__Proteobacteria;c__Alphaproteobacteria;o__Rhodobacterales;f__Rhodobacteraceae;g__Loktanella;s__Loktanella_sp._3ANDIMAR09',\n",
       "       'k__Bacteria;p__Proteobacteria;c__Alphaproteobacteria;o__Rhodobacterales;f__Rhodobacteraceae;g__Phaeobacter;s__Phaeobacter_gallaeciensis',\n",
       "       'k__Bacteria;p__Proteobacteria;c__Alphaproteobacteria;o__Rhodobacterales;f__Rhodobacteraceae;g__Planktomarina;s__Planktomarina_temperata',\n",
       "       'k__Bacteria;p__Proteobacteria;c__Alphaproteobacteria;o__Rhodobacterales;f__Rhodobacteraceae;g__Ruegeria;s__',\n",
       "       'k__Bacteria;p__Proteobacteria;c__Alphaproteobacteria;o__Rickettsiales;f__Anaplasmataceae;g__Neorickettsia;s__Neorickettsia_risticii',\n",
       "       'k__Bacteria;p__Proteobacteria;c__Alphaproteobacteria;o__Rickettsiales;f__Anaplasmataceae;g__Wolbachia;s__Wolbachia_endosymbiont_of_Brugia_malayi',\n",
       "       'k__Bacteria;p__Proteobacteria;c__Alphaproteobacteria;o__Sphingomonadales;f__Sphingomonadaceae;g__Sphingomonas;s__Sphingomonas_melonis',\n",
       "       'k__Bacteria;p__Proteobacteria;c__Betaproteobacteria;o__Burkholderiales;f__Comamonadaceae;g__Acidovorax;s__Acidovorax_sp._Root217',\n",
       "       'k__Bacteria;p__Proteobacteria;c__Deltaproteobacteria;o__Desulfovibrionales;f__Desulfomicrobiaceae;g__Desulfomicrobium;s__',\n",
       "       'k__Bacteria;p__Proteobacteria;c__Deltaproteobacteria;o__Desulfuromonadales;f__Geobacteraceae;g__Geobacter;s__Geobacter_daltonii',\n",
       "       'k__Bacteria;p__Proteobacteria;c__Epsilonproteobacteria;o__Campylobacterales;f__Helicobacteraceae;g__Helicobacter;s__Helicobacter_canis',\n",
       "       'k__Bacteria;p__Proteobacteria;c__Gammaproteobacteria;o__Alteromonadales;f__Psychromonadaceae;g__Psychromonas;s__Psychromonas_hadalis',\n",
       "       'k__Bacteria;p__Proteobacteria;c__Gammaproteobacteria;o__Alteromonadales;f__Shewanellaceae;g__Shewanella;s__Shewanella_denitrificans',\n",
       "       'k__Bacteria;p__Proteobacteria;c__Gammaproteobacteria;o__Pseudomonadales;f__Moraxellaceae;g__Alkanindiges;s__Alkanindiges_illinoisensis',\n",
       "       'k__Bacteria;p__Proteobacteria;c__Gammaproteobacteria;o__Pseudomonadales;f__Moraxellaceae;g__Moraxella;s__Moraxella_caprae',\n",
       "       'k__Bacteria;p__Proteobacteria;c__Gammaproteobacteria;o__Pseudomonadales;f__Moraxellaceae;g__Psychrobacter;s__Psychrobacter_sp._TB15',\n",
       "       'k__Bacteria;p__Spirochaetes;c__Spirochaetia;o__Spirochaetales;f__Spirochaetaceae;g__Treponema;s__Treponema_succinifaciens',\n",
       "       'k__Bacteria;p__Tenericutes;c__Mollicutes;o__Acholeplasmatales;f__Acholeplasmataceae;g__Acholeplasma;s__Acholeplasma_multilocale',\n",
       "       'k__BacteriaPlasmid;p__Deinococcus-Thermus;c__Deinococci;o__Thermales;f__Thermaceae;g__Thermus;s__Thermus_brockianus',\n",
       "       'k__BacteriaPlasmid;p__Proteobacteria;c__Gammaproteobacteria;o__Enterobacterales;f__Erwiniaceae;g__Buchnera;s__Buchnera_aphidicola',\n",
       "       'k__Viruses;p__unclassified_bacterial_viruses;c__Streptococcus_phage_phiARI0004;o__;f__;g__;s__'],\n",
       "      dtype=object)"
      ]
     },
     "execution_count": 58,
     "metadata": {},
     "output_type": "execute_result"
    }
   ],
   "source": [
    "from preprocessing import relative_abundance\n",
    "from sklearn.feature_selection import SelectKBest\n",
    "event_df = pheno_df_train['Event']\n",
    "threshold = 1e-5\n",
    "proportions_df=relative_abundance(readcounts_df_train)\n",
    "presence_df=proportions_df >= threshold\n",
    "\n",
    "kbest = SelectKBest(\n",
    "    sklearn.feature_selection.mutual_info_classif, k=n_taxa)\n",
    "\n",
    "kbest.fit(presence_df, event_df)\n",
    "kbest.get_feature_names_out()"
   ]
  },
  {
   "cell_type": "code",
   "execution_count": 59,
   "metadata": {},
   "outputs": [
    {
     "data": {
      "text/plain": [
       "array([0.        , 0.        , 0.        , ..., 0.01428262, 0.01465857,\n",
       "       0.0187662 ])"
      ]
     },
     "execution_count": 59,
     "metadata": {},
     "output_type": "execute_result"
    }
   ],
   "source": [
    "kbest.scores_.sort()\n",
    "kbest.scores_\n"
   ]
  },
  {
   "cell_type": "code",
   "execution_count": null,
   "metadata": {},
   "outputs": [],
   "source": [
    "\n",
    "from sklearn.pipeline import Pipeline\n",
    "from sklearn.preprocessing import FunctionTransformer, MinMaxScaler, StandardScaler\n",
    "from sklearn.impute import SimpleImputer\n",
    "from sklearn.compose import ColumnTransformer\n",
    "from sklearn.compose import make_column_selector as selector\n",
    "\n",
    "numeric_transformer = Pipeline(\n",
    "    steps=[\n",
    "        (\"mean_imputer\", SimpleImputer(strategy=\"mean\"))\n",
    "    ]\n",
    ")\n",
    "\n",
    "categorical_transformer = Pipeline(\n",
    "    steps=[\n",
    "        (\"frequent_imputer\", SimpleImputer(strategy=\"most_frequent\")),\n",
    "    ]\n",
    ")\n",
    "\n",
    "preprocessor = ColumnTransformer(\n",
    "    transformers=[\n",
    "        (\"num\", numeric_transformer, selector(\n",
    "            dtype_exclude=[\"bool\", \"category\", \"Int64\"])),\n",
    "        (\"cat\", categorical_transformer, selector(\n",
    "            dtype_include=[\"bool\", \"category\", \"Int64\"])),\n",
    "    ]\n",
    ")\n",
    "X = preprocessor.fit_transform(X_train, y_train)"
   ]
  },
  {
   "cell_type": "code",
   "execution_count": 63,
   "metadata": {},
   "outputs": [
    {
     "data": {
      "text/html": [
       "<div>\n",
       "<style scoped>\n",
       "    .dataframe tbody tr th:only-of-type {\n",
       "        vertical-align: middle;\n",
       "    }\n",
       "\n",
       "    .dataframe tbody tr th {\n",
       "        vertical-align: top;\n",
       "    }\n",
       "\n",
       "    .dataframe thead th {\n",
       "        text-align: right;\n",
       "    }\n",
       "</style>\n",
       "<table border=\"1\" class=\"dataframe\">\n",
       "  <thead>\n",
       "    <tr style=\"text-align: right;\">\n",
       "      <th></th>\n",
       "      <th>feature</th>\n",
       "      <th>MI</th>\n",
       "      <th>chi2</th>\n",
       "    </tr>\n",
       "  </thead>\n",
       "  <tbody>\n",
       "    <tr>\n",
       "      <th>1</th>\n",
       "      <td>num__BodyMassIndex</td>\n",
       "      <td>0.000000</td>\n",
       "      <td>9.977070</td>\n",
       "    </tr>\n",
       "    <tr>\n",
       "      <th>3</th>\n",
       "      <td>num__NonHDLcholesterol</td>\n",
       "      <td>0.000000</td>\n",
       "      <td>0.914585</td>\n",
       "    </tr>\n",
       "    <tr>\n",
       "      <th>4</th>\n",
       "      <td>num__adiv</td>\n",
       "      <td>0.000000</td>\n",
       "      <td>38.662926</td>\n",
       "    </tr>\n",
       "    <tr>\n",
       "      <th>5</th>\n",
       "      <td>num__shannon</td>\n",
       "      <td>0.000000</td>\n",
       "      <td>0.002278</td>\n",
       "    </tr>\n",
       "    <tr>\n",
       "      <th>6</th>\n",
       "      <td>cat__Smoking</td>\n",
       "      <td>0.000000</td>\n",
       "      <td>3.291167</td>\n",
       "    </tr>\n",
       "    <tr>\n",
       "      <th>8</th>\n",
       "      <td>cat__PrevalentDiabetes</td>\n",
       "      <td>0.000000</td>\n",
       "      <td>0.212086</td>\n",
       "    </tr>\n",
       "    <tr>\n",
       "      <th>9</th>\n",
       "      <td>cat__PrevalentCHD</td>\n",
       "      <td>0.000000</td>\n",
       "      <td>6.129161</td>\n",
       "    </tr>\n",
       "    <tr>\n",
       "      <th>11</th>\n",
       "      <td>cat__Sex</td>\n",
       "      <td>0.000000</td>\n",
       "      <td>0.286651</td>\n",
       "    </tr>\n",
       "    <tr>\n",
       "      <th>2</th>\n",
       "      <td>num__SystolicBP</td>\n",
       "      <td>0.002702</td>\n",
       "      <td>45.235397</td>\n",
       "    </tr>\n",
       "    <tr>\n",
       "      <th>7</th>\n",
       "      <td>cat__BPTreatment</td>\n",
       "      <td>0.004158</td>\n",
       "      <td>1.295513</td>\n",
       "    </tr>\n",
       "    <tr>\n",
       "      <th>10</th>\n",
       "      <td>cat__PrevalentHFAIL</td>\n",
       "      <td>0.006584</td>\n",
       "      <td>7.719975</td>\n",
       "    </tr>\n",
       "    <tr>\n",
       "      <th>0</th>\n",
       "      <td>num__Age</td>\n",
       "      <td>0.011849</td>\n",
       "      <td>229.625618</td>\n",
       "    </tr>\n",
       "  </tbody>\n",
       "</table>\n",
       "</div>"
      ],
      "text/plain": [
       "                   feature        MI        chi2\n",
       "1       num__BodyMassIndex  0.000000    9.977070\n",
       "3   num__NonHDLcholesterol  0.000000    0.914585\n",
       "4                num__adiv  0.000000   38.662926\n",
       "5             num__shannon  0.000000    0.002278\n",
       "6             cat__Smoking  0.000000    3.291167\n",
       "8   cat__PrevalentDiabetes  0.000000    0.212086\n",
       "9        cat__PrevalentCHD  0.000000    6.129161\n",
       "11                cat__Sex  0.000000    0.286651\n",
       "2          num__SystolicBP  0.002702   45.235397\n",
       "7         cat__BPTreatment  0.004158    1.295513\n",
       "10     cat__PrevalentHFAIL  0.006584    7.719975\n",
       "0                 num__Age  0.011849  229.625618"
      ]
     },
     "execution_count": 63,
     "metadata": {},
     "output_type": "execute_result"
    }
   ],
   "source": [
    "X = preprocessor.fit_transform(X_train, y_train)\n",
    "\n",
    "\n",
    "kbest_covariates = SelectKBest(\n",
    "    sklearn.feature_selection.mutual_info_classif, k ='all')\n",
    "kbest_covariates.fit(X, event_df)\n",
    "MI= kbest_covariates.scores_\n",
    "\n",
    "\n",
    "\n",
    "kbest_covariates = SelectKBest(\n",
    "    sklearn.feature_selection.chi2, k='all')\n",
    "kbest_covariates.fit(X, event_df)\n",
    "chi_2_val = kbest_covariates.scores_\n",
    "\n",
    "df = pd.DataFrame({'feature': kbest_covariates.get_feature_names_out(),\n",
    "                   'MI': MI, 'chi2': chi_2_val})\n",
    "\n",
    "df.sort_values(by = 'MI')\n"
   ]
  },
  {
   "cell_type": "code",
   "execution_count": 68,
   "metadata": {},
   "outputs": [
    {
     "data": {
      "text/plain": [
       "<matplotlib.collections.PathCollection at 0x7f2ce6efb4c0>"
      ]
     },
     "execution_count": 68,
     "metadata": {},
     "output_type": "execute_result"
    },
    {
     "data": {
      "image/png": "[encoded data removed]",
      "text/plain": [
       "<Figure size 640x480 with 1 Axes>"
      ]
     },
     "metadata": {},
     "output_type": "display_data"
    }
   ],
   "source": [
    "import matplotlib.pyplot as plt\n",
    "\n",
    "scaler = MinMaxScaler()\n",
    "\n",
    "MI_scaled = scaler.fit_transform(MI.reshape(-1,1))\n",
    "chi_2_val_scaled = scaler.fit_transform(chi_2_val.reshape(-1,1))\n",
    "\n",
    "plt.scatter(MI_scaled, chi_2_val_scaled)"
   ]
  },
  {
   "cell_type": "code",
   "execution_count": null,
   "metadata": {},
   "outputs": [],
   "source": [
    "MI_scaled, chi_2_val_scaled"
   ]
  },
  {
   "cell_type": "code",
   "execution_count": null,
   "metadata": {},
   "outputs": [
    {
     "data": {
      "text/plain": [
       "(array([2.29625618e+02, 9.97706962e+00, 4.52353967e+01, 9.14584790e-01,\n",
       "        3.86629258e+01, 2.27751821e-03, 3.29116675e+00, 1.29551336e+00,\n",
       "        2.86650548e-01]),\n",
       " array([7.19431302e-52, 1.58501736e-03, 1.74718495e-11, 3.38900858e-01,\n",
       "        5.03685915e-10, 9.61936724e-01, 6.96535100e-02, 2.55034390e-01,\n",
       "        5.92374976e-01]))"
      ]
     },
     "execution_count": 45,
     "metadata": {},
     "output_type": "execute_result"
    }
   ],
   "source": [
    "from sklearn.feature_selection import SequentialFeatureSelector\n",
    "\n",
    "tic_fwd = time()\n",
    "sfs_forward = SequentialFeatureSelector(\n",
    "    ridge, n_features_to_select=2, direction=\"forward\"\n",
    ").fit(X, y)\n",
    "toc_fwd = time()\n",
    "\n",
    "tic_bwd = time()\n",
    "sfs_backward = SequentialFeatureSelector(\n",
    "    ridge, n_features_to_select=2, direction=\"backward\"\n",
    ").fit(X, y)\n",
    "toc_bwd = time()\n",
    "\n",
    "print(\n",
    "    \"Features selected by forward sequential selection: \"\n",
    "    f\"{feature_names[sfs_forward.get_support()]}\"\n",
    ")\n",
    "print(f\"Done in {toc_fwd - tic_fwd:.3f}s\")\n",
    "print(\n",
    "    \"Features selected by backward sequential selection: \"\n",
    "    f\"{feature_names[sfs_backward.get_support()]}\"\n",
    ")\n",
    "print(f\"Done in {toc_bwd - tic_bwd:.3f}s\")\n"
   ]
  },
  {
   "cell_type": "code",
   "execution_count": 70,
   "metadata": {},
   "outputs": [
    {
     "name": "stderr",
     "output_type": "stream",
     "text": [
      "[autoreload of pipeline failed: Traceback (most recent call last):\n",
      "  File \"/home/tristan/anaconda3/envs/DreamChallenge/lib/python3.10/site-packages/IPython/extensions/autoreload.py\", line 261, in check\n",
      "    superreload(m, reload, self.old_objects)\n",
      "  File \"/home/tristan/anaconda3/envs/DreamChallenge/lib/python3.10/site-packages/IPython/extensions/autoreload.py\", line 459, in superreload\n",
      "    module = reload(module)\n",
      "  File \"/home/tristan/anaconda3/envs/DreamChallenge/lib/python3.10/importlib/__init__.py\", line 169, in reload\n",
      "    _bootstrap._exec(spec, module)\n",
      "  File \"<frozen importlib._bootstrap>\", line 619, in _exec\n",
      "  File \"<frozen importlib._bootstrap_external>\", line 879, in exec_module\n",
      "  File \"<frozen importlib._bootstrap_external>\", line 1017, in get_code\n",
      "  File \"<frozen importlib._bootstrap_external>\", line 947, in source_to_code\n",
      "  File \"<frozen importlib._bootstrap>\", line 241, in _call_with_frames_removed\n",
      "  File \"/home/tristan/Desktop/Repos/DreamHF/src/pipeline.py\", line 40\n",
      "    def test_output_csv()\n",
      "                         ^\n",
      "SyntaxError: expected ':'\n",
      "]\n",
      "[autoreload of pipeline failed: Traceback (most recent call last):\n",
      "  File \"/home/tristan/anaconda3/envs/DreamChallenge/lib/python3.10/site-packages/IPython/extensions/autoreload.py\", line 261, in check\n",
      "    superreload(m, reload, self.old_objects)\n",
      "  File \"/home/tristan/anaconda3/envs/DreamChallenge/lib/python3.10/site-packages/IPython/extensions/autoreload.py\", line 459, in superreload\n",
      "    module = reload(module)\n",
      "  File \"/home/tristan/anaconda3/envs/DreamChallenge/lib/python3.10/importlib/__init__.py\", line 169, in reload\n",
      "    _bootstrap._exec(spec, module)\n",
      "  File \"<frozen importlib._bootstrap>\", line 619, in _exec\n",
      "  File \"<frozen importlib._bootstrap_external>\", line 879, in exec_module\n",
      "  File \"<frozen importlib._bootstrap_external>\", line 1017, in get_code\n",
      "  File \"<frozen importlib._bootstrap_external>\", line 947, in source_to_code\n",
      "  File \"<frozen importlib._bootstrap>\", line 241, in _call_with_frames_removed\n",
      "  File \"/home/tristan/Desktop/Repos/DreamHF/src/pipeline.py\", line 40\n",
      "    def test_output_csv()\n",
      "                         ^\n",
      "SyntaxError: expected ':'\n",
      "]\n",
      "[autoreload of pipeline failed: Traceback (most recent call last):\n",
      "  File \"/home/tristan/anaconda3/envs/DreamChallenge/lib/python3.10/site-packages/IPython/extensions/autoreload.py\", line 261, in check\n",
      "    superreload(m, reload, self.old_objects)\n",
      "  File \"/home/tristan/anaconda3/envs/DreamChallenge/lib/python3.10/site-packages/IPython/extensions/autoreload.py\", line 459, in superreload\n",
      "    module = reload(module)\n",
      "  File \"/home/tristan/anaconda3/envs/DreamChallenge/lib/python3.10/importlib/__init__.py\", line 169, in reload\n",
      "    _bootstrap._exec(spec, module)\n",
      "  File \"<frozen importlib._bootstrap>\", line 619, in _exec\n",
      "  File \"<frozen importlib._bootstrap_external>\", line 879, in exec_module\n",
      "  File \"<frozen importlib._bootstrap_external>\", line 1017, in get_code\n",
      "  File \"<frozen importlib._bootstrap_external>\", line 947, in source_to_code\n",
      "  File \"<frozen importlib._bootstrap>\", line 241, in _call_with_frames_removed\n",
      "  File \"/home/tristan/Desktop/Repos/DreamHF/src/pipeline.py\", line 40\n",
      "    def test_output_csv()\n",
      "                         ^\n",
      "SyntaxError: expected ':'\n",
      "]\n"
     ]
    },
    {
     "ename": "FileNotFoundError",
     "evalue": "[Errno 2] No such file or directory: '/home/tristan/Desktop/Repos/DreamHF/output/scores_train.csv'",
     "output_type": "error",
     "traceback": [
      "\u001b[0;31m---------------------------------------------------------------------------\u001b[0m",
      "\u001b[0;31mFileNotFoundError\u001b[0m                         Traceback (most recent call last)",
      "Cell \u001b[0;32mIn[70], line 5\u001b[0m\n\u001b[1;32m      2\u001b[0m root \u001b[39m=\u001b[39m arguments[\u001b[39m1\u001b[39m]\n\u001b[1;32m      4\u001b[0m outdir \u001b[39m=\u001b[39m root \u001b[39m+\u001b[39m \u001b[39m\"\u001b[39m\u001b[39m/output/\u001b[39m\u001b[39m\"\u001b[39m\n\u001b[0;32m----> 5\u001b[0m risk_scores_train \u001b[39m=\u001b[39m pd\u001b[39m.\u001b[39;49mread_csv(outdir \u001b[39m+\u001b[39;49m \u001b[39m\"\u001b[39;49m\u001b[39mscores_train.csv\u001b[39;49m\u001b[39m\"\u001b[39;49m)\n\u001b[1;32m      7\u001b[0m harrell_C_training \u001b[39m=\u001b[39m concordance_index_censored(\n\u001b[1;32m      8\u001b[0m             y_train[\u001b[39m'\u001b[39m\u001b[39mEvent\u001b[39m\u001b[39m'\u001b[39m], y_train[\u001b[39m'\u001b[39m\u001b[39mEvent_time\u001b[39m\u001b[39m'\u001b[39m], risk_scores_train)\n\u001b[1;32m     10\u001b[0m result \u001b[39m=\u001b[39m {\n\u001b[1;32m     11\u001b[0m     \u001b[39m\"\u001b[39m\u001b[39mHarrell C\u001b[39m\u001b[39m\"\u001b[39m: [harrell_C_training]\n\u001b[1;32m     12\u001b[0m }\n",
      "File \u001b[0;32m~/.local/lib/python3.10/site-packages/pandas/util/_decorators.py:211\u001b[0m, in \u001b[0;36mdeprecate_kwarg.<locals>._deprecate_kwarg.<locals>.wrapper\u001b[0;34m(*args, **kwargs)\u001b[0m\n\u001b[1;32m    209\u001b[0m     \u001b[39melse\u001b[39;00m:\n\u001b[1;32m    210\u001b[0m         kwargs[new_arg_name] \u001b[39m=\u001b[39m new_arg_value\n\u001b[0;32m--> 211\u001b[0m \u001b[39mreturn\u001b[39;00m func(\u001b[39m*\u001b[39;49margs, \u001b[39m*\u001b[39;49m\u001b[39m*\u001b[39;49mkwargs)\n",
      "File \u001b[0;32m~/.local/lib/python3.10/site-packages/pandas/util/_decorators.py:331\u001b[0m, in \u001b[0;36mdeprecate_nonkeyword_arguments.<locals>.decorate.<locals>.wrapper\u001b[0;34m(*args, **kwargs)\u001b[0m\n\u001b[1;32m    325\u001b[0m \u001b[39mif\u001b[39;00m \u001b[39mlen\u001b[39m(args) \u001b[39m>\u001b[39m num_allow_args:\n\u001b[1;32m    326\u001b[0m     warnings\u001b[39m.\u001b[39mwarn(\n\u001b[1;32m    327\u001b[0m         msg\u001b[39m.\u001b[39mformat(arguments\u001b[39m=\u001b[39m_format_argument_list(allow_args)),\n\u001b[1;32m    328\u001b[0m         \u001b[39mFutureWarning\u001b[39;00m,\n\u001b[1;32m    329\u001b[0m         stacklevel\u001b[39m=\u001b[39mfind_stack_level(),\n\u001b[1;32m    330\u001b[0m     )\n\u001b[0;32m--> 331\u001b[0m \u001b[39mreturn\u001b[39;00m func(\u001b[39m*\u001b[39;49margs, \u001b[39m*\u001b[39;49m\u001b[39m*\u001b[39;49mkwargs)\n",
      "File \u001b[0;32m~/.local/lib/python3.10/site-packages/pandas/io/parsers/readers.py:950\u001b[0m, in \u001b[0;36mread_csv\u001b[0;34m(filepath_or_buffer, sep, delimiter, header, names, index_col, usecols, squeeze, prefix, mangle_dupe_cols, dtype, engine, converters, true_values, false_values, skipinitialspace, skiprows, skipfooter, nrows, na_values, keep_default_na, na_filter, verbose, skip_blank_lines, parse_dates, infer_datetime_format, keep_date_col, date_parser, dayfirst, cache_dates, iterator, chunksize, compression, thousands, decimal, lineterminator, quotechar, quoting, doublequote, escapechar, comment, encoding, encoding_errors, dialect, error_bad_lines, warn_bad_lines, on_bad_lines, delim_whitespace, low_memory, memory_map, float_precision, storage_options)\u001b[0m\n\u001b[1;32m    935\u001b[0m kwds_defaults \u001b[39m=\u001b[39m _refine_defaults_read(\n\u001b[1;32m    936\u001b[0m     dialect,\n\u001b[1;32m    937\u001b[0m     delimiter,\n\u001b[0;32m   (...)\u001b[0m\n\u001b[1;32m    946\u001b[0m     defaults\u001b[39m=\u001b[39m{\u001b[39m\"\u001b[39m\u001b[39mdelimiter\u001b[39m\u001b[39m\"\u001b[39m: \u001b[39m\"\u001b[39m\u001b[39m,\u001b[39m\u001b[39m\"\u001b[39m},\n\u001b[1;32m    947\u001b[0m )\n\u001b[1;32m    948\u001b[0m kwds\u001b[39m.\u001b[39mupdate(kwds_defaults)\n\u001b[0;32m--> 950\u001b[0m \u001b[39mreturn\u001b[39;00m _read(filepath_or_buffer, kwds)\n",
      "File \u001b[0;32m~/.local/lib/python3.10/site-packages/pandas/io/parsers/readers.py:605\u001b[0m, in \u001b[0;36m_read\u001b[0;34m(filepath_or_buffer, kwds)\u001b[0m\n\u001b[1;32m    602\u001b[0m _validate_names(kwds\u001b[39m.\u001b[39mget(\u001b[39m\"\u001b[39m\u001b[39mnames\u001b[39m\u001b[39m\"\u001b[39m, \u001b[39mNone\u001b[39;00m))\n\u001b[1;32m    604\u001b[0m \u001b[39m# Create the parser.\u001b[39;00m\n\u001b[0;32m--> 605\u001b[0m parser \u001b[39m=\u001b[39m TextFileReader(filepath_or_buffer, \u001b[39m*\u001b[39;49m\u001b[39m*\u001b[39;49mkwds)\n\u001b[1;32m    607\u001b[0m \u001b[39mif\u001b[39;00m chunksize \u001b[39mor\u001b[39;00m iterator:\n\u001b[1;32m    608\u001b[0m     \u001b[39mreturn\u001b[39;00m parser\n",
      "File \u001b[0;32m~/.local/lib/python3.10/site-packages/pandas/io/parsers/readers.py:1442\u001b[0m, in \u001b[0;36mTextFileReader.__init__\u001b[0;34m(self, f, engine, **kwds)\u001b[0m\n\u001b[1;32m   1439\u001b[0m     \u001b[39mself\u001b[39m\u001b[39m.\u001b[39moptions[\u001b[39m\"\u001b[39m\u001b[39mhas_index_names\u001b[39m\u001b[39m\"\u001b[39m] \u001b[39m=\u001b[39m kwds[\u001b[39m\"\u001b[39m\u001b[39mhas_index_names\u001b[39m\u001b[39m\"\u001b[39m]\n\u001b[1;32m   1441\u001b[0m \u001b[39mself\u001b[39m\u001b[39m.\u001b[39mhandles: IOHandles \u001b[39m|\u001b[39m \u001b[39mNone\u001b[39;00m \u001b[39m=\u001b[39m \u001b[39mNone\u001b[39;00m\n\u001b[0;32m-> 1442\u001b[0m \u001b[39mself\u001b[39m\u001b[39m.\u001b[39m_engine \u001b[39m=\u001b[39m \u001b[39mself\u001b[39;49m\u001b[39m.\u001b[39;49m_make_engine(f, \u001b[39mself\u001b[39;49m\u001b[39m.\u001b[39;49mengine)\n",
      "File \u001b[0;32m~/.local/lib/python3.10/site-packages/pandas/io/parsers/readers.py:1735\u001b[0m, in \u001b[0;36mTextFileReader._make_engine\u001b[0;34m(self, f, engine)\u001b[0m\n\u001b[1;32m   1733\u001b[0m     \u001b[39mif\u001b[39;00m \u001b[39m\"\u001b[39m\u001b[39mb\u001b[39m\u001b[39m\"\u001b[39m \u001b[39mnot\u001b[39;00m \u001b[39min\u001b[39;00m mode:\n\u001b[1;32m   1734\u001b[0m         mode \u001b[39m+\u001b[39m\u001b[39m=\u001b[39m \u001b[39m\"\u001b[39m\u001b[39mb\u001b[39m\u001b[39m\"\u001b[39m\n\u001b[0;32m-> 1735\u001b[0m \u001b[39mself\u001b[39m\u001b[39m.\u001b[39mhandles \u001b[39m=\u001b[39m get_handle(\n\u001b[1;32m   1736\u001b[0m     f,\n\u001b[1;32m   1737\u001b[0m     mode,\n\u001b[1;32m   1738\u001b[0m     encoding\u001b[39m=\u001b[39;49m\u001b[39mself\u001b[39;49m\u001b[39m.\u001b[39;49moptions\u001b[39m.\u001b[39;49mget(\u001b[39m\"\u001b[39;49m\u001b[39mencoding\u001b[39;49m\u001b[39m\"\u001b[39;49m, \u001b[39mNone\u001b[39;49;00m),\n\u001b[1;32m   1739\u001b[0m     compression\u001b[39m=\u001b[39;49m\u001b[39mself\u001b[39;49m\u001b[39m.\u001b[39;49moptions\u001b[39m.\u001b[39;49mget(\u001b[39m\"\u001b[39;49m\u001b[39mcompression\u001b[39;49m\u001b[39m\"\u001b[39;49m, \u001b[39mNone\u001b[39;49;00m),\n\u001b[1;32m   1740\u001b[0m     memory_map\u001b[39m=\u001b[39;49m\u001b[39mself\u001b[39;49m\u001b[39m.\u001b[39;49moptions\u001b[39m.\u001b[39;49mget(\u001b[39m\"\u001b[39;49m\u001b[39mmemory_map\u001b[39;49m\u001b[39m\"\u001b[39;49m, \u001b[39mFalse\u001b[39;49;00m),\n\u001b[1;32m   1741\u001b[0m     is_text\u001b[39m=\u001b[39;49mis_text,\n\u001b[1;32m   1742\u001b[0m     errors\u001b[39m=\u001b[39;49m\u001b[39mself\u001b[39;49m\u001b[39m.\u001b[39;49moptions\u001b[39m.\u001b[39;49mget(\u001b[39m\"\u001b[39;49m\u001b[39mencoding_errors\u001b[39;49m\u001b[39m\"\u001b[39;49m, \u001b[39m\"\u001b[39;49m\u001b[39mstrict\u001b[39;49m\u001b[39m\"\u001b[39;49m),\n\u001b[1;32m   1743\u001b[0m     storage_options\u001b[39m=\u001b[39;49m\u001b[39mself\u001b[39;49m\u001b[39m.\u001b[39;49moptions\u001b[39m.\u001b[39;49mget(\u001b[39m\"\u001b[39;49m\u001b[39mstorage_options\u001b[39;49m\u001b[39m\"\u001b[39;49m, \u001b[39mNone\u001b[39;49;00m),\n\u001b[1;32m   1744\u001b[0m )\n\u001b[1;32m   1745\u001b[0m \u001b[39massert\u001b[39;00m \u001b[39mself\u001b[39m\u001b[39m.\u001b[39mhandles \u001b[39mis\u001b[39;00m \u001b[39mnot\u001b[39;00m \u001b[39mNone\u001b[39;00m\n\u001b[1;32m   1746\u001b[0m f \u001b[39m=\u001b[39m \u001b[39mself\u001b[39m\u001b[39m.\u001b[39mhandles\u001b[39m.\u001b[39mhandle\n",
      "File \u001b[0;32m~/.local/lib/python3.10/site-packages/pandas/io/common.py:856\u001b[0m, in \u001b[0;36mget_handle\u001b[0;34m(path_or_buf, mode, encoding, compression, memory_map, is_text, errors, storage_options)\u001b[0m\n\u001b[1;32m    851\u001b[0m \u001b[39melif\u001b[39;00m \u001b[39misinstance\u001b[39m(handle, \u001b[39mstr\u001b[39m):\n\u001b[1;32m    852\u001b[0m     \u001b[39m# Check whether the filename is to be opened in binary mode.\u001b[39;00m\n\u001b[1;32m    853\u001b[0m     \u001b[39m# Binary mode does not support 'encoding' and 'newline'.\u001b[39;00m\n\u001b[1;32m    854\u001b[0m     \u001b[39mif\u001b[39;00m ioargs\u001b[39m.\u001b[39mencoding \u001b[39mand\u001b[39;00m \u001b[39m\"\u001b[39m\u001b[39mb\u001b[39m\u001b[39m\"\u001b[39m \u001b[39mnot\u001b[39;00m \u001b[39min\u001b[39;00m ioargs\u001b[39m.\u001b[39mmode:\n\u001b[1;32m    855\u001b[0m         \u001b[39m# Encoding\u001b[39;00m\n\u001b[0;32m--> 856\u001b[0m         handle \u001b[39m=\u001b[39m \u001b[39mopen\u001b[39;49m(\n\u001b[1;32m    857\u001b[0m             handle,\n\u001b[1;32m    858\u001b[0m             ioargs\u001b[39m.\u001b[39;49mmode,\n\u001b[1;32m    859\u001b[0m             encoding\u001b[39m=\u001b[39;49mioargs\u001b[39m.\u001b[39;49mencoding,\n\u001b[1;32m    860\u001b[0m             errors\u001b[39m=\u001b[39;49merrors,\n\u001b[1;32m    861\u001b[0m             newline\u001b[39m=\u001b[39;49m\u001b[39m\"\u001b[39;49m\u001b[39m\"\u001b[39;49m,\n\u001b[1;32m    862\u001b[0m         )\n\u001b[1;32m    863\u001b[0m     \u001b[39melse\u001b[39;00m:\n\u001b[1;32m    864\u001b[0m         \u001b[39m# Binary mode\u001b[39;00m\n\u001b[1;32m    865\u001b[0m         handle \u001b[39m=\u001b[39m \u001b[39mopen\u001b[39m(handle, ioargs\u001b[39m.\u001b[39mmode)\n",
      "\u001b[0;31mFileNotFoundError\u001b[0m: [Errno 2] No such file or directory: '/home/tristan/Desktop/Repos/DreamHF/output/scores_train.csv'"
     ]
    }
   ],
   "source": [
    "arguments = [0, '/home/tristan/Desktop/Repos/DreamHF']\n",
    "root = arguments[1]\n",
    "\n",
    "outdir = root + \"/output/\"\n",
    "risk_scores_train = pd.read_csv(outdir + \"scores_train.csv\")\n",
    "\n",
    "harrell_C_training = concordance_index_censored(\n",
    "            y_train['Event'], y_train['Event_time'], risk_scores_train)\n",
    "\n",
    "result = {\n",
    "    \"Harrell C\": [harrell_C_training]\n",
    "}\n",
    "\n",
    "print(pd.DataFrame(result, index=[\"train\"]))\n"
   ]
  },
  {
   "cell_type": "code",
   "execution_count": 7,
   "metadata": {},
   "outputs": [],
   "source": [
    "# importing metrics\n",
    "import numpy as np\n",
    "from optuna import create_study\n",
    "from optuna.samplers import TPESampler\n",
    "from scipy.stats import randint, uniform\n",
    "from sklearn.compose import ColumnTransformer\n",
    "from sklearn.compose import make_column_selector as selector\n",
    "from sklearn.decomposition import PCA\n",
    "from sklearn.feature_selection import SelectKBest\n",
    "from sklearn.impute import SimpleImputer\n",
    "from sklearn.metrics import make_scorer\n",
    "from sklearn.model_selection import RandomizedSearchCV, RepeatedKFold\n",
    "from sklearn.pipeline import Pipeline\n",
    "from sklearn.preprocessing import FunctionTransformer, MinMaxScaler, StandardScaler\n",
    "from sklearn.utils import estimator_html_repr\n",
    "from sklearn.utils.validation import check_is_fitted\n",
    "from sksurv.ensemble import GradientBoostingSurvivalAnalysis\n",
    "from sksurv.linear_model import CoxnetSurvivalAnalysis, CoxPHSurvivalAnalysis, IPCRidge\n",
    "from sksurv.metrics import concordance_index_censored\n",
    "from xgbse import XGBSEStackedWeibull\n",
    "from xgbse.converters import convert_y\n",
    "from xgbse.metrics import concordance_index\n",
    "\n",
    "from xgboost_wrapper import XGBSurvival\n",
    "from survival_models import EarlyStoppingMonitor\n",
    " "
   ]
  },
  {
   "cell_type": "code",
   "execution_count": 8,
   "metadata": {},
   "outputs": [
    {
     "name": "stdout",
     "output_type": "stream",
     "text": [
      "Fitting 5 folds for each of 10 candidates, totalling 50 fits\n",
      "[CV 1/5; 1/10] START estimator__alpha=0.5488135039273248, estimator__n_iter=197, pca_transformer__reduce_dim=passthrough\n",
      "[CV 1/5; 1/10] END estimator__alpha=0.5488135039273248, estimator__n_iter=197, pca_transformer__reduce_dim=passthrough;, score=0.666 total time=   0.5s\n",
      "[CV 2/5; 1/10] START estimator__alpha=0.5488135039273248, estimator__n_iter=197, pca_transformer__reduce_dim=passthrough\n",
      "[CV 2/5; 1/10] END estimator__alpha=0.5488135039273248, estimator__n_iter=197, pca_transformer__reduce_dim=passthrough;, score=0.653 total time=   0.4s\n",
      "[CV 3/5; 1/10] START estimator__alpha=0.5488135039273248, estimator__n_iter=197, pca_transformer__reduce_dim=passthrough\n",
      "[CV 3/5; 1/10] END estimator__alpha=0.5488135039273248, estimator__n_iter=197, pca_transformer__reduce_dim=passthrough;, score=0.700 total time=   0.4s\n",
      "[CV 4/5; 1/10] START estimator__alpha=0.5488135039273248, estimator__n_iter=197, pca_transformer__reduce_dim=passthrough\n",
      "[CV 4/5; 1/10] END estimator__alpha=0.5488135039273248, estimator__n_iter=197, pca_transformer__reduce_dim=passthrough;, score=0.623 total time=   0.4s\n",
      "[CV 5/5; 1/10] START estimator__alpha=0.5488135039273248, estimator__n_iter=197, pca_transformer__reduce_dim=passthrough\n",
      "[CV 5/5; 1/10] END estimator__alpha=0.5488135039273248, estimator__n_iter=197, pca_transformer__reduce_dim=passthrough;, score=0.688 total time=   0.4s\n",
      "[CV 1/5; 2/10] START estimator__alpha=0.6027633760716439, estimator__n_iter=147, pca_transformer__reduce_dim=PCA(n_components=0.95)\n",
      "[CV 1/5; 2/10] END estimator__alpha=0.6027633760716439, estimator__n_iter=147, pca_transformer__reduce_dim=PCA(n_components=0.95);, score=0.667 total time=   0.4s\n",
      "[CV 2/5; 2/10] START estimator__alpha=0.6027633760716439, estimator__n_iter=147, pca_transformer__reduce_dim=PCA(n_components=0.95)\n",
      "[CV 2/5; 2/10] END estimator__alpha=0.6027633760716439, estimator__n_iter=147, pca_transformer__reduce_dim=PCA(n_components=0.95);, score=0.668 total time=   0.4s\n",
      "[CV 3/5; 2/10] START estimator__alpha=0.6027633760716439, estimator__n_iter=147, pca_transformer__reduce_dim=PCA(n_components=0.95)\n",
      "[CV 3/5; 2/10] END estimator__alpha=0.6027633760716439, estimator__n_iter=147, pca_transformer__reduce_dim=PCA(n_components=0.95);, score=0.694 total time=   0.3s\n",
      "[CV 4/5; 2/10] START estimator__alpha=0.6027633760716439, estimator__n_iter=147, pca_transformer__reduce_dim=PCA(n_components=0.95)\n",
      "[CV 4/5; 2/10] END estimator__alpha=0.6027633760716439, estimator__n_iter=147, pca_transformer__reduce_dim=PCA(n_components=0.95);, score=0.614 total time=   0.3s\n",
      "[CV 5/5; 2/10] START estimator__alpha=0.6027633760716439, estimator__n_iter=147, pca_transformer__reduce_dim=PCA(n_components=0.95)\n",
      "[CV 5/5; 2/10] END estimator__alpha=0.6027633760716439, estimator__n_iter=147, pca_transformer__reduce_dim=PCA(n_components=0.95);, score=0.689 total time=   0.3s\n",
      "[CV 1/5; 3/10] START estimator__alpha=0.6235636967859723, estimator__n_iter=194, pca_transformer__reduce_dim=passthrough\n",
      "[CV 1/5; 3/10] END estimator__alpha=0.6235636967859723, estimator__n_iter=194, pca_transformer__reduce_dim=passthrough;, score=0.666 total time=   0.5s\n",
      "[CV 2/5; 3/10] START estimator__alpha=0.6235636967859723, estimator__n_iter=194, pca_transformer__reduce_dim=passthrough\n",
      "[CV 2/5; 3/10] END estimator__alpha=0.6235636967859723, estimator__n_iter=194, pca_transformer__reduce_dim=passthrough;, score=0.653 total time=   0.4s\n",
      "[CV 3/5; 3/10] START estimator__alpha=0.6235636967859723, estimator__n_iter=194, pca_transformer__reduce_dim=passthrough\n",
      "[CV 3/5; 3/10] END estimator__alpha=0.6235636967859723, estimator__n_iter=194, pca_transformer__reduce_dim=passthrough;, score=0.700 total time=   0.4s\n",
      "[CV 4/5; 3/10] START estimator__alpha=0.6235636967859723, estimator__n_iter=194, pca_transformer__reduce_dim=passthrough\n",
      "[CV 4/5; 3/10] END estimator__alpha=0.6235636967859723, estimator__n_iter=194, pca_transformer__reduce_dim=passthrough;, score=0.623 total time=   0.4s\n",
      "[CV 5/5; 3/10] START estimator__alpha=0.6235636967859723, estimator__n_iter=194, pca_transformer__reduce_dim=passthrough\n",
      "[CV 5/5; 3/10] END estimator__alpha=0.6235636967859723, estimator__n_iter=194, pca_transformer__reduce_dim=passthrough;, score=0.688 total time=   0.5s\n",
      "[CV 1/5; 4/10] START estimator__alpha=0.2975346065444723, estimator__n_iter=168, pca_transformer__reduce_dim=passthrough\n",
      "[CV 1/5; 4/10] END estimator__alpha=0.2975346065444723, estimator__n_iter=168, pca_transformer__reduce_dim=passthrough;, score=0.666 total time=   0.7s\n",
      "[CV 2/5; 4/10] START estimator__alpha=0.2975346065444723, estimator__n_iter=168, pca_transformer__reduce_dim=passthrough\n",
      "[CV 2/5; 4/10] END estimator__alpha=0.2975346065444723, estimator__n_iter=168, pca_transformer__reduce_dim=passthrough;, score=0.653 total time=   0.4s\n",
      "[CV 3/5; 4/10] START estimator__alpha=0.2975346065444723, estimator__n_iter=168, pca_transformer__reduce_dim=passthrough\n",
      "[CV 3/5; 4/10] END estimator__alpha=0.2975346065444723, estimator__n_iter=168, pca_transformer__reduce_dim=passthrough;, score=0.700 total time=   0.5s\n",
      "[CV 4/5; 4/10] START estimator__alpha=0.2975346065444723, estimator__n_iter=168, pca_transformer__reduce_dim=passthrough\n",
      "[CV 4/5; 4/10] END estimator__alpha=0.2975346065444723, estimator__n_iter=168, pca_transformer__reduce_dim=passthrough;, score=0.623 total time=   0.5s\n",
      "[CV 5/5; 4/10] START estimator__alpha=0.2975346065444723, estimator__n_iter=168, pca_transformer__reduce_dim=passthrough\n",
      "[CV 5/5; 4/10] END estimator__alpha=0.2975346065444723, estimator__n_iter=168, pca_transformer__reduce_dim=passthrough;, score=0.688 total time=   0.4s\n",
      "[CV 1/5; 5/10] START estimator__alpha=0.2726562945801132, estimator__n_iter=145, pca_transformer__reduce_dim=PCA(n_components=0.98)\n",
      "[CV 1/5; 5/10] END estimator__alpha=0.2726562945801132, estimator__n_iter=145, pca_transformer__reduce_dim=PCA(n_components=0.98);, score=0.667 total time=   0.5s\n",
      "[CV 2/5; 5/10] START estimator__alpha=0.2726562945801132, estimator__n_iter=145, pca_transformer__reduce_dim=PCA(n_components=0.98)\n",
      "[CV 2/5; 5/10] END estimator__alpha=0.2726562945801132, estimator__n_iter=145, pca_transformer__reduce_dim=PCA(n_components=0.98);, score=0.666 total time=   0.4s\n",
      "[CV 3/5; 5/10] START estimator__alpha=0.2726562945801132, estimator__n_iter=145, pca_transformer__reduce_dim=PCA(n_components=0.98)\n",
      "[CV 3/5; 5/10] END estimator__alpha=0.2726562945801132, estimator__n_iter=145, pca_transformer__reduce_dim=PCA(n_components=0.98);, score=0.703 total time=   0.3s\n",
      "[CV 4/5; 5/10] START estimator__alpha=0.2726562945801132, estimator__n_iter=145, pca_transformer__reduce_dim=PCA(n_components=0.98)\n",
      "[CV 4/5; 5/10] END estimator__alpha=0.2726562945801132, estimator__n_iter=145, pca_transformer__reduce_dim=PCA(n_components=0.98);, score=0.620 total time=   0.4s\n",
      "[CV 5/5; 5/10] START estimator__alpha=0.2726562945801132, estimator__n_iter=145, pca_transformer__reduce_dim=PCA(n_components=0.98)\n",
      "[CV 5/5; 5/10] END estimator__alpha=0.2726562945801132, estimator__n_iter=145, pca_transformer__reduce_dim=PCA(n_components=0.98);, score=0.690 total time=   0.4s\n",
      "[CV 1/5; 6/10] START estimator__alpha=0.8121687287754932, estimator__n_iter=126, pca_transformer__reduce_dim=passthrough\n",
      "[CV 1/5; 6/10] END estimator__alpha=0.8121687287754932, estimator__n_iter=126, pca_transformer__reduce_dim=passthrough;, score=0.666 total time=   0.5s\n",
      "[CV 2/5; 6/10] START estimator__alpha=0.8121687287754932, estimator__n_iter=126, pca_transformer__reduce_dim=passthrough\n",
      "[CV 2/5; 6/10] END estimator__alpha=0.8121687287754932, estimator__n_iter=126, pca_transformer__reduce_dim=passthrough;, score=0.653 total time=   0.4s\n",
      "[CV 3/5; 6/10] START estimator__alpha=0.8121687287754932, estimator__n_iter=126, pca_transformer__reduce_dim=passthrough\n",
      "[CV 3/5; 6/10] END estimator__alpha=0.8121687287754932, estimator__n_iter=126, pca_transformer__reduce_dim=passthrough;, score=0.701 total time=   0.5s\n",
      "[CV 4/5; 6/10] START estimator__alpha=0.8121687287754932, estimator__n_iter=126, pca_transformer__reduce_dim=passthrough\n",
      "[CV 4/5; 6/10] END estimator__alpha=0.8121687287754932, estimator__n_iter=126, pca_transformer__reduce_dim=passthrough;, score=0.623 total time=   0.4s\n",
      "[CV 5/5; 6/10] START estimator__alpha=0.8121687287754932, estimator__n_iter=126, pca_transformer__reduce_dim=passthrough\n",
      "[CV 5/5; 6/10] END estimator__alpha=0.8121687287754932, estimator__n_iter=126, pca_transformer__reduce_dim=passthrough;, score=0.688 total time=   0.4s\n",
      "[CV 1/5; 7/10] START estimator__alpha=0.3927847961008297, estimator__n_iter=105, pca_transformer__reduce_dim=PCA(n_components=0.95)\n",
      "[CV 1/5; 7/10] END estimator__alpha=0.3927847961008297, estimator__n_iter=105, pca_transformer__reduce_dim=PCA(n_components=0.95);, score=0.667 total time=   0.4s\n",
      "[CV 2/5; 7/10] START estimator__alpha=0.3927847961008297, estimator__n_iter=105, pca_transformer__reduce_dim=PCA(n_components=0.95)\n",
      "[CV 2/5; 7/10] END estimator__alpha=0.3927847961008297, estimator__n_iter=105, pca_transformer__reduce_dim=PCA(n_components=0.95);, score=0.668 total time=   0.3s\n",
      "[CV 3/5; 7/10] START estimator__alpha=0.3927847961008297, estimator__n_iter=105, pca_transformer__reduce_dim=PCA(n_components=0.95)\n",
      "[CV 3/5; 7/10] END estimator__alpha=0.3927847961008297, estimator__n_iter=105, pca_transformer__reduce_dim=PCA(n_components=0.95);, score=0.694 total time=   0.3s\n",
      "[CV 4/5; 7/10] START estimator__alpha=0.3927847961008297, estimator__n_iter=105, pca_transformer__reduce_dim=PCA(n_components=0.95)\n",
      "[CV 4/5; 7/10] END estimator__alpha=0.3927847961008297, estimator__n_iter=105, pca_transformer__reduce_dim=PCA(n_components=0.95);, score=0.614 total time=   0.3s\n",
      "[CV 5/5; 7/10] START estimator__alpha=0.3927847961008297, estimator__n_iter=105, pca_transformer__reduce_dim=PCA(n_components=0.95)\n",
      "[CV 5/5; 7/10] END estimator__alpha=0.3927847961008297, estimator__n_iter=105, pca_transformer__reduce_dim=PCA(n_components=0.95);, score=0.689 total time=   0.3s\n",
      "[CV 1/5; 8/10] START estimator__alpha=0.3373961604172684, estimator__n_iter=100, pca_transformer__reduce_dim=passthrough\n",
      "[CV 1/5; 8/10] END estimator__alpha=0.3373961604172684, estimator__n_iter=100, pca_transformer__reduce_dim=passthrough;, score=0.666 total time=   0.5s\n",
      "[CV 2/5; 8/10] START estimator__alpha=0.3373961604172684, estimator__n_iter=100, pca_transformer__reduce_dim=passthrough\n",
      "[CV 2/5; 8/10] END estimator__alpha=0.3373961604172684, estimator__n_iter=100, pca_transformer__reduce_dim=passthrough;, score=0.653 total time=   0.4s\n",
      "[CV 3/5; 8/10] START estimator__alpha=0.3373961604172684, estimator__n_iter=100, pca_transformer__reduce_dim=passthrough\n",
      "[CV 3/5; 8/10] END estimator__alpha=0.3373961604172684, estimator__n_iter=100, pca_transformer__reduce_dim=passthrough;, score=0.700 total time=   0.4s\n",
      "[CV 4/5; 8/10] START estimator__alpha=0.3373961604172684, estimator__n_iter=100, pca_transformer__reduce_dim=passthrough\n",
      "[CV 4/5; 8/10] END estimator__alpha=0.3373961604172684, estimator__n_iter=100, pca_transformer__reduce_dim=passthrough;, score=0.623 total time=   0.5s\n",
      "[CV 5/5; 8/10] START estimator__alpha=0.3373961604172684, estimator__n_iter=100, pca_transformer__reduce_dim=passthrough\n",
      "[CV 5/5; 8/10] END estimator__alpha=0.3373961604172684, estimator__n_iter=100, pca_transformer__reduce_dim=passthrough;, score=0.688 total time=   0.4s\n",
      "[CV 1/5; 9/10] START estimator__alpha=0.832619845547938, estimator__n_iter=159, pca_transformer__reduce_dim=passthrough\n",
      "[CV 1/5; 9/10] END estimator__alpha=0.832619845547938, estimator__n_iter=159, pca_transformer__reduce_dim=passthrough;, score=0.666 total time=   0.5s\n",
      "[CV 2/5; 9/10] START estimator__alpha=0.832619845547938, estimator__n_iter=159, pca_transformer__reduce_dim=passthrough\n",
      "[CV 2/5; 9/10] END estimator__alpha=0.832619845547938, estimator__n_iter=159, pca_transformer__reduce_dim=passthrough;, score=0.653 total time=   0.4s\n",
      "[CV 3/5; 9/10] START estimator__alpha=0.832619845547938, estimator__n_iter=159, pca_transformer__reduce_dim=passthrough\n",
      "[CV 3/5; 9/10] END estimator__alpha=0.832619845547938, estimator__n_iter=159, pca_transformer__reduce_dim=passthrough;, score=0.701 total time=   0.4s\n",
      "[CV 4/5; 9/10] START estimator__alpha=0.832619845547938, estimator__n_iter=159, pca_transformer__reduce_dim=passthrough\n",
      "[CV 4/5; 9/10] END estimator__alpha=0.832619845547938, estimator__n_iter=159, pca_transformer__reduce_dim=passthrough;, score=0.623 total time=   0.4s\n",
      "[CV 5/5; 9/10] START estimator__alpha=0.832619845547938, estimator__n_iter=159, pca_transformer__reduce_dim=passthrough\n",
      "[CV 5/5; 9/10] END estimator__alpha=0.832619845547938, estimator__n_iter=159, pca_transformer__reduce_dim=passthrough;, score=0.688 total time=   0.4s\n",
      "[CV 1/5; 10/10] START estimator__alpha=0.978618342232764, estimator__n_iter=168, pca_transformer__reduce_dim=PCA(n_components=0.95)\n",
      "[CV 1/5; 10/10] END estimator__alpha=0.978618342232764, estimator__n_iter=168, pca_transformer__reduce_dim=PCA(n_components=0.95);, score=0.667 total time=   0.4s\n",
      "[CV 2/5; 10/10] START estimator__alpha=0.978618342232764, estimator__n_iter=168, pca_transformer__reduce_dim=PCA(n_components=0.95)\n",
      "[CV 2/5; 10/10] END estimator__alpha=0.978618342232764, estimator__n_iter=168, pca_transformer__reduce_dim=PCA(n_components=0.95);, score=0.669 total time=   0.3s\n",
      "[CV 3/5; 10/10] START estimator__alpha=0.978618342232764, estimator__n_iter=168, pca_transformer__reduce_dim=PCA(n_components=0.95)\n",
      "[CV 3/5; 10/10] END estimator__alpha=0.978618342232764, estimator__n_iter=168, pca_transformer__reduce_dim=PCA(n_components=0.95);, score=0.694 total time=   0.3s\n",
      "[CV 4/5; 10/10] START estimator__alpha=0.978618342232764, estimator__n_iter=168, pca_transformer__reduce_dim=PCA(n_components=0.95)\n",
      "[CV 4/5; 10/10] END estimator__alpha=0.978618342232764, estimator__n_iter=168, pca_transformer__reduce_dim=PCA(n_components=0.95);, score=0.614 total time=   0.3s\n",
      "[CV 5/5; 10/10] START estimator__alpha=0.978618342232764, estimator__n_iter=168, pca_transformer__reduce_dim=PCA(n_components=0.95)\n",
      "[CV 5/5; 10/10] END estimator__alpha=0.978618342232764, estimator__n_iter=168, pca_transformer__reduce_dim=PCA(n_components=0.95);, score=0.689 total time=   0.3s\n"
     ]
    }
   ],
   "source": [
    "from survival_models import CoxPH\n",
    "\n",
    "model = CoxPH(n_taxa)\n",
    "model.pipeline.fit(X_train, y_train)\n",
    "\n",
    "model = model.cross_validation(X_train, y_train, 10)"
   ]
  },
  {
   "cell_type": "code",
   "execution_count": 9,
   "metadata": {},
   "outputs": [
    {
     "name": "stdout",
     "output_type": "stream",
     "text": [
      "       Harrell C\n",
      "train   0.731255\n",
      "test    0.694139\n"
     ]
    },
    {
     "data": {
      "text/plain": [
       "<survival_models.CoxPH at 0x7f2cf713f880>"
      ]
     },
     "execution_count": 9,
     "metadata": {},
     "output_type": "execute_result"
    }
   ],
   "source": [
    "model.evaluate(X_train, X_test, y_train, y_test)\n"
   ]
  },
  {
   "cell_type": "code",
   "execution_count": 10,
   "metadata": {},
   "outputs": [
    {
     "ename": "TypeError",
     "evalue": "sksurv_gbt.__init__() missing 1 required positional argument: 'n_taxa'",
     "output_type": "error",
     "traceback": [
      "\u001b[0;31m---------------------------------------------------------------------------\u001b[0m",
      "\u001b[0;31mTypeError\u001b[0m                                 Traceback (most recent call last)",
      "Cell \u001b[0;32mIn[10], line 2\u001b[0m\n\u001b[1;32m      1\u001b[0m \u001b[39mfrom\u001b[39;00m \u001b[39msurvival_models\u001b[39;00m \u001b[39mimport\u001b[39;00m sksurv_gbt \n\u001b[0;32m----> 2\u001b[0m model \u001b[39m=\u001b[39m sksurv_gbt()\n\u001b[1;32m      4\u001b[0m model \u001b[39m=\u001b[39m model\u001b[39m.\u001b[39mcross_validation(X_train, y_train, \u001b[39m3\u001b[39m)\n\u001b[1;32m      5\u001b[0m model\u001b[39m.\u001b[39mevaluate(X_train, X_test, y_train, y_test)\n",
      "\u001b[0;31mTypeError\u001b[0m: sksurv_gbt.__init__() missing 1 required positional argument: 'n_taxa'"
     ]
    }
   ],
   "source": [
    "from survival_models import sksurv_gbt \n",
    "model = sksurv_gbt()\n",
    "\n",
    "model = model.cross_validation(X_train, y_train, 3)\n",
    "model.evaluate(X_train, X_test, y_train, y_test)\n"
   ]
  },
  {
   "cell_type": "code",
   "execution_count": 11,
   "metadata": {},
   "outputs": [
    {
     "data": {
      "text/html": [
       "<style>#sk-container-id-2 {color: black;background-color: white;}#sk-container-id-2 pre{padding: 0;}#sk-container-id-2 div.sk-toggleable {background-color: white;}#sk-container-id-2 label.sk-toggleable__label {cursor: pointer;display: block;width: 100%;margin-bottom: 0;padding: 0.3em;box-sizing: border-box;text-align: center;}#sk-container-id-2 label.sk-toggleable__label-arrow:before {content: \"▸\";float: left;margin-right: 0.25em;color: #696969;}#sk-container-id-2 label.sk-toggleable__label-arrow:hover:before {color: black;}#sk-container-id-2 div.sk-estimator:hover label.sk-toggleable__label-arrow:before {color: black;}#sk-container-id-2 div.sk-toggleable__content {max-height: 0;max-width: 0;overflow: hidden;text-align: left;background-color: #f0f8ff;}#sk-container-id-2 div.sk-toggleable__content pre {margin: 0.2em;color: black;border-radius: 0.25em;background-color: #f0f8ff;}#sk-container-id-2 input.sk-toggleable__control:checked~div.sk-toggleable__content {max-height: 200px;max-width: 100%;overflow: auto;}#sk-container-id-2 input.sk-toggleable__control:checked~label.sk-toggleable__label-arrow:before {content: \"▾\";}#sk-container-id-2 div.sk-estimator input.sk-toggleable__control:checked~label.sk-toggleable__label {background-color: #d4ebff;}#sk-container-id-2 div.sk-label input.sk-toggleable__control:checked~label.sk-toggleable__label {background-color: #d4ebff;}#sk-container-id-2 input.sk-hidden--visually {border: 0;clip: rect(1px 1px 1px 1px);clip: rect(1px, 1px, 1px, 1px);height: 1px;margin: -1px;overflow: hidden;padding: 0;position: absolute;width: 1px;}#sk-container-id-2 div.sk-estimator {font-family: monospace;background-color: #f0f8ff;border: 1px dotted black;border-radius: 0.25em;box-sizing: border-box;margin-bottom: 0.5em;}#sk-container-id-2 div.sk-estimator:hover {background-color: #d4ebff;}#sk-container-id-2 div.sk-parallel-item::after {content: \"\";width: 100%;border-bottom: 1px solid gray;flex-grow: 1;}#sk-container-id-2 div.sk-label:hover label.sk-toggleable__label {background-color: #d4ebff;}#sk-container-id-2 div.sk-serial::before {content: \"\";position: absolute;border-left: 1px solid gray;box-sizing: border-box;top: 0;bottom: 0;left: 50%;z-index: 0;}#sk-container-id-2 div.sk-serial {display: flex;flex-direction: column;align-items: center;background-color: white;padding-right: 0.2em;padding-left: 0.2em;position: relative;}#sk-container-id-2 div.sk-item {position: relative;z-index: 1;}#sk-container-id-2 div.sk-parallel {display: flex;align-items: stretch;justify-content: center;background-color: white;position: relative;}#sk-container-id-2 div.sk-item::before, #sk-container-id-2 div.sk-parallel-item::before {content: \"\";position: absolute;border-left: 1px solid gray;box-sizing: border-box;top: 0;bottom: 0;left: 50%;z-index: -1;}#sk-container-id-2 div.sk-parallel-item {display: flex;flex-direction: column;z-index: 1;position: relative;background-color: white;}#sk-container-id-2 div.sk-parallel-item:first-child::after {align-self: flex-end;width: 50%;}#sk-container-id-2 div.sk-parallel-item:last-child::after {align-self: flex-start;width: 50%;}#sk-container-id-2 div.sk-parallel-item:only-child::after {width: 0;}#sk-container-id-2 div.sk-dashed-wrapped {border: 1px dashed gray;margin: 0 0.4em 0.5em 0.4em;box-sizing: border-box;padding-bottom: 0.4em;background-color: white;}#sk-container-id-2 div.sk-label label {font-family: monospace;font-weight: bold;display: inline-block;line-height: 1.2em;}#sk-container-id-2 div.sk-label-container {text-align: center;}#sk-container-id-2 div.sk-container {/* jupyter's `normalize.less` sets `[hidden] { display: none; }` but bootstrap.min.css set `[hidden] { display: none !important; }` so we also need the `!important` here to be able to override the default hidden behavior on the sphinx rendered scikit-learn.org. See: https://github.com/scikit-learn/scikit-learn/issues/21755 */display: inline-block !important;position: relative;}#sk-container-id-2 div.sk-text-repr-fallback {display: none;}</style><div id=\"sk-container-id-2\" class=\"sk-top-container\"><div class=\"sk-text-repr-fallback\"><pre>Pipeline(steps=[(&#x27;preprocessor&#x27;,\n",
       "                 ColumnTransformer(transformers=[(&#x27;num&#x27;,\n",
       "                                                  Pipeline(steps=[(&#x27;mean_imputer&#x27;,\n",
       "                                                                   SimpleImputer()),\n",
       "                                                                  (&#x27;scaler&#x27;,\n",
       "                                                                   StandardScaler())]),\n",
       "                                                  &lt;sklearn.compose._column_transformer.make_column_selector object at 0x7f8b484077f0&gt;),\n",
       "                                                 (&#x27;cat&#x27;,\n",
       "                                                  Pipeline(steps=[(&#x27;frequent_imputer&#x27;,\n",
       "                                                                   SimpleImputer(strategy=&#x27;most_frequent&#x27;))]),\n",
       "                                                  &lt;sklearn.compose._column_transformer.make_column_selector object at 0x7f8b48405210&gt;)])),\n",
       "                (&#x27;pca_transformer&#x27;,\n",
       "                 ColumnTransformer(remainder=&#x27;passthrough&#x27;,\n",
       "                                   transformers=[(&#x27;reduce_dim&#x27;, PCA(),\n",
       "                                                  &lt;sklearn.compose._column_transformer.make_column_selector object at 0x7f8b48404a00&gt;)])),\n",
       "                (&#x27;estimator&#x27;, CoxPHSurvivalAnalysis()),\n",
       "                (&#x27;risk_scaler&#x27;, MinMaxScaler())])</pre><b>In a Jupyter environment, please rerun this cell to show the HTML representation or trust the notebook. <br />On GitHub, the HTML representation is unable to render, please try loading this page with nbviewer.org.</b></div><div class=\"sk-container\" hidden><div class=\"sk-item sk-dashed-wrapped\"><div class=\"sk-label-container\"><div class=\"sk-label sk-toggleable\"><input class=\"sk-toggleable__control sk-hidden--visually\" id=\"sk-estimator-id-15\" type=\"checkbox\" ><label for=\"sk-estimator-id-15\" class=\"sk-toggleable__label sk-toggleable__label-arrow\">Pipeline</label><div class=\"sk-toggleable__content\"><pre>Pipeline(steps=[(&#x27;preprocessor&#x27;,\n",
       "                 ColumnTransformer(transformers=[(&#x27;num&#x27;,\n",
       "                                                  Pipeline(steps=[(&#x27;mean_imputer&#x27;,\n",
       "                                                                   SimpleImputer()),\n",
       "                                                                  (&#x27;scaler&#x27;,\n",
       "                                                                   StandardScaler())]),\n",
       "                                                  &lt;sklearn.compose._column_transformer.make_column_selector object at 0x7f8b484077f0&gt;),\n",
       "                                                 (&#x27;cat&#x27;,\n",
       "                                                  Pipeline(steps=[(&#x27;frequent_imputer&#x27;,\n",
       "                                                                   SimpleImputer(strategy=&#x27;most_frequent&#x27;))]),\n",
       "                                                  &lt;sklearn.compose._column_transformer.make_column_selector object at 0x7f8b48405210&gt;)])),\n",
       "                (&#x27;pca_transformer&#x27;,\n",
       "                 ColumnTransformer(remainder=&#x27;passthrough&#x27;,\n",
       "                                   transformers=[(&#x27;reduce_dim&#x27;, PCA(),\n",
       "                                                  &lt;sklearn.compose._column_transformer.make_column_selector object at 0x7f8b48404a00&gt;)])),\n",
       "                (&#x27;estimator&#x27;, CoxPHSurvivalAnalysis()),\n",
       "                (&#x27;risk_scaler&#x27;, MinMaxScaler())])</pre></div></div></div><div class=\"sk-serial\"><div class=\"sk-item sk-dashed-wrapped\"><div class=\"sk-label-container\"><div class=\"sk-label sk-toggleable\"><input class=\"sk-toggleable__control sk-hidden--visually\" id=\"sk-estimator-id-16\" type=\"checkbox\" ><label for=\"sk-estimator-id-16\" class=\"sk-toggleable__label sk-toggleable__label-arrow\">preprocessor: ColumnTransformer</label><div class=\"sk-toggleable__content\"><pre>ColumnTransformer(transformers=[(&#x27;num&#x27;,\n",
       "                                 Pipeline(steps=[(&#x27;mean_imputer&#x27;,\n",
       "                                                  SimpleImputer()),\n",
       "                                                 (&#x27;scaler&#x27;, StandardScaler())]),\n",
       "                                 &lt;sklearn.compose._column_transformer.make_column_selector object at 0x7f8b484077f0&gt;),\n",
       "                                (&#x27;cat&#x27;,\n",
       "                                 Pipeline(steps=[(&#x27;frequent_imputer&#x27;,\n",
       "                                                  SimpleImputer(strategy=&#x27;most_frequent&#x27;))]),\n",
       "                                 &lt;sklearn.compose._column_transformer.make_column_selector object at 0x7f8b48405210&gt;)])</pre></div></div></div><div class=\"sk-parallel\"><div class=\"sk-parallel-item\"><div class=\"sk-item\"><div class=\"sk-label-container\"><div class=\"sk-label sk-toggleable\"><input class=\"sk-toggleable__control sk-hidden--visually\" id=\"sk-estimator-id-17\" type=\"checkbox\" ><label for=\"sk-estimator-id-17\" class=\"sk-toggleable__label sk-toggleable__label-arrow\">num</label><div class=\"sk-toggleable__content\"><pre>&lt;sklearn.compose._column_transformer.make_column_selector object at 0x7f8b484077f0&gt;</pre></div></div></div><div class=\"sk-serial\"><div class=\"sk-item\"><div class=\"sk-serial\"><div class=\"sk-item\"><div class=\"sk-estimator sk-toggleable\"><input class=\"sk-toggleable__control sk-hidden--visually\" id=\"sk-estimator-id-18\" type=\"checkbox\" ><label for=\"sk-estimator-id-18\" class=\"sk-toggleable__label sk-toggleable__label-arrow\">SimpleImputer</label><div class=\"sk-toggleable__content\"><pre>SimpleImputer()</pre></div></div></div><div class=\"sk-item\"><div class=\"sk-estimator sk-toggleable\"><input class=\"sk-toggleable__control sk-hidden--visually\" id=\"sk-estimator-id-19\" type=\"checkbox\" ><label for=\"sk-estimator-id-19\" class=\"sk-toggleable__label sk-toggleable__label-arrow\">StandardScaler</label><div class=\"sk-toggleable__content\"><pre>StandardScaler()</pre></div></div></div></div></div></div></div></div><div class=\"sk-parallel-item\"><div class=\"sk-item\"><div class=\"sk-label-container\"><div class=\"sk-label sk-toggleable\"><input class=\"sk-toggleable__control sk-hidden--visually\" id=\"sk-estimator-id-20\" type=\"checkbox\" ><label for=\"sk-estimator-id-20\" class=\"sk-toggleable__label sk-toggleable__label-arrow\">cat</label><div class=\"sk-toggleable__content\"><pre>&lt;sklearn.compose._column_transformer.make_column_selector object at 0x7f8b48405210&gt;</pre></div></div></div><div class=\"sk-serial\"><div class=\"sk-item\"><div class=\"sk-serial\"><div class=\"sk-item\"><div class=\"sk-estimator sk-toggleable\"><input class=\"sk-toggleable__control sk-hidden--visually\" id=\"sk-estimator-id-21\" type=\"checkbox\" ><label for=\"sk-estimator-id-21\" class=\"sk-toggleable__label sk-toggleable__label-arrow\">SimpleImputer</label><div class=\"sk-toggleable__content\"><pre>SimpleImputer(strategy=&#x27;most_frequent&#x27;)</pre></div></div></div></div></div></div></div></div></div></div><div class=\"sk-item sk-dashed-wrapped\"><div class=\"sk-label-container\"><div class=\"sk-label sk-toggleable\"><input class=\"sk-toggleable__control sk-hidden--visually\" id=\"sk-estimator-id-22\" type=\"checkbox\" ><label for=\"sk-estimator-id-22\" class=\"sk-toggleable__label sk-toggleable__label-arrow\">pca_transformer: ColumnTransformer</label><div class=\"sk-toggleable__content\"><pre>ColumnTransformer(remainder=&#x27;passthrough&#x27;,\n",
       "                  transformers=[(&#x27;reduce_dim&#x27;, PCA(),\n",
       "                                 &lt;sklearn.compose._column_transformer.make_column_selector object at 0x7f8b48404a00&gt;)])</pre></div></div></div><div class=\"sk-parallel\"><div class=\"sk-parallel-item\"><div class=\"sk-item\"><div class=\"sk-label-container\"><div class=\"sk-label sk-toggleable\"><input class=\"sk-toggleable__control sk-hidden--visually\" id=\"sk-estimator-id-23\" type=\"checkbox\" ><label for=\"sk-estimator-id-23\" class=\"sk-toggleable__label sk-toggleable__label-arrow\">reduce_dim</label><div class=\"sk-toggleable__content\"><pre>&lt;sklearn.compose._column_transformer.make_column_selector object at 0x7f8b48404a00&gt;</pre></div></div></div><div class=\"sk-serial\"><div class=\"sk-item\"><div class=\"sk-estimator sk-toggleable\"><input class=\"sk-toggleable__control sk-hidden--visually\" id=\"sk-estimator-id-24\" type=\"checkbox\" ><label for=\"sk-estimator-id-24\" class=\"sk-toggleable__label sk-toggleable__label-arrow\">PCA</label><div class=\"sk-toggleable__content\"><pre>PCA()</pre></div></div></div></div></div></div><div class=\"sk-parallel-item\"><div class=\"sk-item\"><div class=\"sk-label-container\"><div class=\"sk-label sk-toggleable\"><input class=\"sk-toggleable__control sk-hidden--visually\" id=\"sk-estimator-id-25\" type=\"checkbox\" ><label for=\"sk-estimator-id-25\" class=\"sk-toggleable__label sk-toggleable__label-arrow\">remainder</label><div class=\"sk-toggleable__content\"><pre></pre></div></div></div><div class=\"sk-serial\"><div class=\"sk-item\"><div class=\"sk-estimator sk-toggleable\"><input class=\"sk-toggleable__control sk-hidden--visually\" id=\"sk-estimator-id-26\" type=\"checkbox\" ><label for=\"sk-estimator-id-26\" class=\"sk-toggleable__label sk-toggleable__label-arrow\">passthrough</label><div class=\"sk-toggleable__content\"><pre>passthrough</pre></div></div></div></div></div></div></div></div><div class=\"sk-item\"><div class=\"sk-estimator sk-toggleable\"><input class=\"sk-toggleable__control sk-hidden--visually\" id=\"sk-estimator-id-27\" type=\"checkbox\" ><label for=\"sk-estimator-id-27\" class=\"sk-toggleable__label sk-toggleable__label-arrow\">CoxPHSurvivalAnalysis</label><div class=\"sk-toggleable__content\"><pre>CoxPHSurvivalAnalysis()</pre></div></div></div><div class=\"sk-item\"><div class=\"sk-estimator sk-toggleable\"><input class=\"sk-toggleable__control sk-hidden--visually\" id=\"sk-estimator-id-28\" type=\"checkbox\" ><label for=\"sk-estimator-id-28\" class=\"sk-toggleable__label sk-toggleable__label-arrow\">MinMaxScaler</label><div class=\"sk-toggleable__content\"><pre>MinMaxScaler()</pre></div></div></div></div></div></div></div>"
      ],
      "text/plain": [
       "Pipeline(steps=[('preprocessor',\n",
       "                 ColumnTransformer(transformers=[('num',\n",
       "                                                  Pipeline(steps=[('mean_imputer',\n",
       "                                                                   SimpleImputer()),\n",
       "                                                                  ('scaler',\n",
       "                                                                   StandardScaler())]),\n",
       "                                                  <sklearn.compose._column_transformer.make_column_selector object at 0x7f8b484077f0>),\n",
       "                                                 ('cat',\n",
       "                                                  Pipeline(steps=[('frequent_imputer',\n",
       "                                                                   SimpleImputer(strategy='most_frequent'))]),\n",
       "                                                  <sklearn.compose._column_transformer.make_column_selector object at 0x7f8b48405210>)])),\n",
       "                ('pca_transformer',\n",
       "                 ColumnTransformer(remainder='passthrough',\n",
       "                                   transformers=[('reduce_dim', PCA(),\n",
       "                                                  <sklearn.compose._column_transformer.make_column_selector object at 0x7f8b48404a00>)])),\n",
       "                ('estimator', CoxPHSurvivalAnalysis()),\n",
       "                ('risk_scaler', MinMaxScaler())])"
      ]
     },
     "execution_count": 11,
     "metadata": {},
     "output_type": "execute_result"
    }
   ],
   "source": [
    "model.pipeline\n"
   ]
  },
  {
   "cell_type": "code",
   "execution_count": null,
   "metadata": {},
   "outputs": [
    {
     "data": {
      "text/html": [
       "<style>#sk-container-id-9 {color: black;background-color: white;}#sk-container-id-9 pre{padding: 0;}#sk-container-id-9 div.sk-toggleable {background-color: white;}#sk-container-id-9 label.sk-toggleable__label {cursor: pointer;display: block;width: 100%;margin-bottom: 0;padding: 0.3em;box-sizing: border-box;text-align: center;}#sk-container-id-9 label.sk-toggleable__label-arrow:before {content: \"▸\";float: left;margin-right: 0.25em;color: #696969;}#sk-container-id-9 label.sk-toggleable__label-arrow:hover:before {color: black;}#sk-container-id-9 div.sk-estimator:hover label.sk-toggleable__label-arrow:before {color: black;}#sk-container-id-9 div.sk-toggleable__content {max-height: 0;max-width: 0;overflow: hidden;text-align: left;background-color: #f0f8ff;}#sk-container-id-9 div.sk-toggleable__content pre {margin: 0.2em;color: black;border-radius: 0.25em;background-color: #f0f8ff;}#sk-container-id-9 input.sk-toggleable__control:checked~div.sk-toggleable__content {max-height: 200px;max-width: 100%;overflow: auto;}#sk-container-id-9 input.sk-toggleable__control:checked~label.sk-toggleable__label-arrow:before {content: \"▾\";}#sk-container-id-9 div.sk-estimator input.sk-toggleable__control:checked~label.sk-toggleable__label {background-color: #d4ebff;}#sk-container-id-9 div.sk-label input.sk-toggleable__control:checked~label.sk-toggleable__label {background-color: #d4ebff;}#sk-container-id-9 input.sk-hidden--visually {border: 0;clip: rect(1px 1px 1px 1px);clip: rect(1px, 1px, 1px, 1px);height: 1px;margin: -1px;overflow: hidden;padding: 0;position: absolute;width: 1px;}#sk-container-id-9 div.sk-estimator {font-family: monospace;background-color: #f0f8ff;border: 1px dotted black;border-radius: 0.25em;box-sizing: border-box;margin-bottom: 0.5em;}#sk-container-id-9 div.sk-estimator:hover {background-color: #d4ebff;}#sk-container-id-9 div.sk-parallel-item::after {content: \"\";width: 100%;border-bottom: 1px solid gray;flex-grow: 1;}#sk-container-id-9 div.sk-label:hover label.sk-toggleable__label {background-color: #d4ebff;}#sk-container-id-9 div.sk-serial::before {content: \"\";position: absolute;border-left: 1px solid gray;box-sizing: border-box;top: 0;bottom: 0;left: 50%;z-index: 0;}#sk-container-id-9 div.sk-serial {display: flex;flex-direction: column;align-items: center;background-color: white;padding-right: 0.2em;padding-left: 0.2em;position: relative;}#sk-container-id-9 div.sk-item {position: relative;z-index: 1;}#sk-container-id-9 div.sk-parallel {display: flex;align-items: stretch;justify-content: center;background-color: white;position: relative;}#sk-container-id-9 div.sk-item::before, #sk-container-id-9 div.sk-parallel-item::before {content: \"\";position: absolute;border-left: 1px solid gray;box-sizing: border-box;top: 0;bottom: 0;left: 50%;z-index: -1;}#sk-container-id-9 div.sk-parallel-item {display: flex;flex-direction: column;z-index: 1;position: relative;background-color: white;}#sk-container-id-9 div.sk-parallel-item:first-child::after {align-self: flex-end;width: 50%;}#sk-container-id-9 div.sk-parallel-item:last-child::after {align-self: flex-start;width: 50%;}#sk-container-id-9 div.sk-parallel-item:only-child::after {width: 0;}#sk-container-id-9 div.sk-dashed-wrapped {border: 1px dashed gray;margin: 0 0.4em 0.5em 0.4em;box-sizing: border-box;padding-bottom: 0.4em;background-color: white;}#sk-container-id-9 div.sk-label label {font-family: monospace;font-weight: bold;display: inline-block;line-height: 1.2em;}#sk-container-id-9 div.sk-label-container {text-align: center;}#sk-container-id-9 div.sk-container {/* jupyter's `normalize.less` sets `[hidden] { display: none; }` but bootstrap.min.css set `[hidden] { display: none !important; }` so we also need the `!important` here to be able to override the default hidden behavior on the sphinx rendered scikit-learn.org. See: https://github.com/scikit-learn/scikit-learn/issues/21755 */display: inline-block !important;position: relative;}#sk-container-id-9 div.sk-text-repr-fallback {display: none;}</style><div id=\"sk-container-id-9\" class=\"sk-top-container\"><div class=\"sk-text-repr-fallback\"><pre>Pipeline(steps=[(&#x27;preprocessor&#x27;,\n",
       "                 ColumnTransformer(transformers=[(&#x27;num&#x27;,\n",
       "                                                  Pipeline(steps=[(&#x27;mean_imputer&#x27;,\n",
       "                                                                   SimpleImputer()),\n",
       "                                                                  (&#x27;scaler&#x27;,\n",
       "                                                                   StandardScaler())]),\n",
       "                                                  &lt;sklearn.compose._column_transformer.make_column_selector object at 0x7f70a44fe200&gt;),\n",
       "                                                 (&#x27;cat&#x27;,\n",
       "                                                  Pipeline(steps=[(&#x27;frequent_imputer&#x27;,\n",
       "                                                                   SimpleImputer(strategy=&#x27;most_frequent&#x27;))]),\n",
       "                                                  &lt;sklearn.compose._column_transformer.make_column_selector object at 0x7f70a44fe3b0&gt;)])),\n",
       "                (&#x27;pca_transformer&#x27;,\n",
       "                 ColumnTransformer(remainder=&#x27;passthrough&#x27;,\n",
       "                                   transformers=[(&#x27;reduce_dim&#x27;, PCA(),\n",
       "                                                  &lt;sklearn.compose._column_transformer.make_column_selector object at 0x7f70a44fe320&gt;)]))])</pre><b>In a Jupyter environment, please rerun this cell to show the HTML representation or trust the notebook. <br />On GitHub, the HTML representation is unable to render, please try loading this page with nbviewer.org.</b></div><div class=\"sk-container\" hidden><div class=\"sk-item sk-dashed-wrapped\"><div class=\"sk-label-container\"><div class=\"sk-label sk-toggleable\"><input class=\"sk-toggleable__control sk-hidden--visually\" id=\"sk-estimator-id-96\" type=\"checkbox\" ><label for=\"sk-estimator-id-96\" class=\"sk-toggleable__label sk-toggleable__label-arrow\">Pipeline</label><div class=\"sk-toggleable__content\"><pre>Pipeline(steps=[(&#x27;preprocessor&#x27;,\n",
       "                 ColumnTransformer(transformers=[(&#x27;num&#x27;,\n",
       "                                                  Pipeline(steps=[(&#x27;mean_imputer&#x27;,\n",
       "                                                                   SimpleImputer()),\n",
       "                                                                  (&#x27;scaler&#x27;,\n",
       "                                                                   StandardScaler())]),\n",
       "                                                  &lt;sklearn.compose._column_transformer.make_column_selector object at 0x7f70a44fe200&gt;),\n",
       "                                                 (&#x27;cat&#x27;,\n",
       "                                                  Pipeline(steps=[(&#x27;frequent_imputer&#x27;,\n",
       "                                                                   SimpleImputer(strategy=&#x27;most_frequent&#x27;))]),\n",
       "                                                  &lt;sklearn.compose._column_transformer.make_column_selector object at 0x7f70a44fe3b0&gt;)])),\n",
       "                (&#x27;pca_transformer&#x27;,\n",
       "                 ColumnTransformer(remainder=&#x27;passthrough&#x27;,\n",
       "                                   transformers=[(&#x27;reduce_dim&#x27;, PCA(),\n",
       "                                                  &lt;sklearn.compose._column_transformer.make_column_selector object at 0x7f70a44fe320&gt;)]))])</pre></div></div></div><div class=\"sk-serial\"><div class=\"sk-item sk-dashed-wrapped\"><div class=\"sk-label-container\"><div class=\"sk-label sk-toggleable\"><input class=\"sk-toggleable__control sk-hidden--visually\" id=\"sk-estimator-id-97\" type=\"checkbox\" ><label for=\"sk-estimator-id-97\" class=\"sk-toggleable__label sk-toggleable__label-arrow\">preprocessor: ColumnTransformer</label><div class=\"sk-toggleable__content\"><pre>ColumnTransformer(transformers=[(&#x27;num&#x27;,\n",
       "                                 Pipeline(steps=[(&#x27;mean_imputer&#x27;,\n",
       "                                                  SimpleImputer()),\n",
       "                                                 (&#x27;scaler&#x27;, StandardScaler())]),\n",
       "                                 &lt;sklearn.compose._column_transformer.make_column_selector object at 0x7f70a44fe200&gt;),\n",
       "                                (&#x27;cat&#x27;,\n",
       "                                 Pipeline(steps=[(&#x27;frequent_imputer&#x27;,\n",
       "                                                  SimpleImputer(strategy=&#x27;most_frequent&#x27;))]),\n",
       "                                 &lt;sklearn.compose._column_transformer.make_column_selector object at 0x7f70a44fe3b0&gt;)])</pre></div></div></div><div class=\"sk-parallel\"><div class=\"sk-parallel-item\"><div class=\"sk-item\"><div class=\"sk-label-container\"><div class=\"sk-label sk-toggleable\"><input class=\"sk-toggleable__control sk-hidden--visually\" id=\"sk-estimator-id-98\" type=\"checkbox\" ><label for=\"sk-estimator-id-98\" class=\"sk-toggleable__label sk-toggleable__label-arrow\">num</label><div class=\"sk-toggleable__content\"><pre>&lt;sklearn.compose._column_transformer.make_column_selector object at 0x7f70a44fe200&gt;</pre></div></div></div><div class=\"sk-serial\"><div class=\"sk-item\"><div class=\"sk-serial\"><div class=\"sk-item\"><div class=\"sk-estimator sk-toggleable\"><input class=\"sk-toggleable__control sk-hidden--visually\" id=\"sk-estimator-id-99\" type=\"checkbox\" ><label for=\"sk-estimator-id-99\" class=\"sk-toggleable__label sk-toggleable__label-arrow\">SimpleImputer</label><div class=\"sk-toggleable__content\"><pre>SimpleImputer()</pre></div></div></div><div class=\"sk-item\"><div class=\"sk-estimator sk-toggleable\"><input class=\"sk-toggleable__control sk-hidden--visually\" id=\"sk-estimator-id-100\" type=\"checkbox\" ><label for=\"sk-estimator-id-100\" class=\"sk-toggleable__label sk-toggleable__label-arrow\">StandardScaler</label><div class=\"sk-toggleable__content\"><pre>StandardScaler()</pre></div></div></div></div></div></div></div></div><div class=\"sk-parallel-item\"><div class=\"sk-item\"><div class=\"sk-label-container\"><div class=\"sk-label sk-toggleable\"><input class=\"sk-toggleable__control sk-hidden--visually\" id=\"sk-estimator-id-101\" type=\"checkbox\" ><label for=\"sk-estimator-id-101\" class=\"sk-toggleable__label sk-toggleable__label-arrow\">cat</label><div class=\"sk-toggleable__content\"><pre>&lt;sklearn.compose._column_transformer.make_column_selector object at 0x7f70a44fe3b0&gt;</pre></div></div></div><div class=\"sk-serial\"><div class=\"sk-item\"><div class=\"sk-serial\"><div class=\"sk-item\"><div class=\"sk-estimator sk-toggleable\"><input class=\"sk-toggleable__control sk-hidden--visually\" id=\"sk-estimator-id-102\" type=\"checkbox\" ><label for=\"sk-estimator-id-102\" class=\"sk-toggleable__label sk-toggleable__label-arrow\">SimpleImputer</label><div class=\"sk-toggleable__content\"><pre>SimpleImputer(strategy=&#x27;most_frequent&#x27;)</pre></div></div></div></div></div></div></div></div></div></div><div class=\"sk-item sk-dashed-wrapped\"><div class=\"sk-label-container\"><div class=\"sk-label sk-toggleable\"><input class=\"sk-toggleable__control sk-hidden--visually\" id=\"sk-estimator-id-103\" type=\"checkbox\" ><label for=\"sk-estimator-id-103\" class=\"sk-toggleable__label sk-toggleable__label-arrow\">pca_transformer: ColumnTransformer</label><div class=\"sk-toggleable__content\"><pre>ColumnTransformer(remainder=&#x27;passthrough&#x27;,\n",
       "                  transformers=[(&#x27;reduce_dim&#x27;, PCA(),\n",
       "                                 &lt;sklearn.compose._column_transformer.make_column_selector object at 0x7f70a44fe320&gt;)])</pre></div></div></div><div class=\"sk-parallel\"><div class=\"sk-parallel-item\"><div class=\"sk-item\"><div class=\"sk-label-container\"><div class=\"sk-label sk-toggleable\"><input class=\"sk-toggleable__control sk-hidden--visually\" id=\"sk-estimator-id-104\" type=\"checkbox\" ><label for=\"sk-estimator-id-104\" class=\"sk-toggleable__label sk-toggleable__label-arrow\">reduce_dim</label><div class=\"sk-toggleable__content\"><pre>&lt;sklearn.compose._column_transformer.make_column_selector object at 0x7f70a44fe320&gt;</pre></div></div></div><div class=\"sk-serial\"><div class=\"sk-item\"><div class=\"sk-estimator sk-toggleable\"><input class=\"sk-toggleable__control sk-hidden--visually\" id=\"sk-estimator-id-105\" type=\"checkbox\" ><label for=\"sk-estimator-id-105\" class=\"sk-toggleable__label sk-toggleable__label-arrow\">PCA</label><div class=\"sk-toggleable__content\"><pre>PCA()</pre></div></div></div></div></div></div><div class=\"sk-parallel-item\"><div class=\"sk-item\"><div class=\"sk-label-container\"><div class=\"sk-label sk-toggleable\"><input class=\"sk-toggleable__control sk-hidden--visually\" id=\"sk-estimator-id-106\" type=\"checkbox\" ><label for=\"sk-estimator-id-106\" class=\"sk-toggleable__label sk-toggleable__label-arrow\">remainder</label><div class=\"sk-toggleable__content\"><pre>[&#x27;num__Age&#x27;, &#x27;num__BodyMassIndex&#x27;, &#x27;num__SystolicBP&#x27;, &#x27;num__NonHDLcholesterol&#x27;, &#x27;cat__Smoking&#x27;, &#x27;cat__BPTreatment&#x27;, &#x27;cat__PrevalentDiabetes&#x27;, &#x27;cat__PrevalentCHD&#x27;, &#x27;cat__PrevalentHFAIL&#x27;, &#x27;cat__Sex&#x27;]</pre></div></div></div><div class=\"sk-serial\"><div class=\"sk-item\"><div class=\"sk-estimator sk-toggleable\"><input class=\"sk-toggleable__control sk-hidden--visually\" id=\"sk-estimator-id-107\" type=\"checkbox\" ><label for=\"sk-estimator-id-107\" class=\"sk-toggleable__label sk-toggleable__label-arrow\">passthrough</label><div class=\"sk-toggleable__content\"><pre>passthrough</pre></div></div></div></div></div></div></div></div></div></div></div></div>"
      ],
      "text/plain": [
       "Pipeline(steps=[('preprocessor',\n",
       "                 ColumnTransformer(transformers=[('num',\n",
       "                                                  Pipeline(steps=[('mean_imputer',\n",
       "                                                                   SimpleImputer()),\n",
       "                                                                  ('scaler',\n",
       "                                                                   StandardScaler())]),\n",
       "                                                  <sklearn.compose._column_transformer.make_column_selector object at 0x7f70a44fe200>),\n",
       "                                                 ('cat',\n",
       "                                                  Pipeline(steps=[('frequent_imputer',\n",
       "                                                                   SimpleImputer(strategy='most_frequent'))]),\n",
       "                                                  <sklearn.compose._column_transformer.make_column_selector object at 0x7f70a44fe3b0>)])),\n",
       "                ('pca_transformer',\n",
       "                 ColumnTransformer(remainder='passthrough',\n",
       "                                   transformers=[('reduce_dim', PCA(),\n",
       "                                                  <sklearn.compose._column_transformer.make_column_selector object at 0x7f70a44fe320>)]))])"
      ]
     },
     "execution_count": 40,
     "metadata": {},
     "output_type": "execute_result"
    }
   ],
   "source": [
    "model.pipeline[:-1]"
   ]
  },
  {
   "cell_type": "code",
   "execution_count": 32,
   "metadata": {},
   "outputs": [],
   "source": [
    "preprocessed = model.pipeline[:-2].fit_transform(X_train)"
   ]
  },
  {
   "cell_type": "code",
   "execution_count": 36,
   "metadata": {},
   "outputs": [
    {
     "data": {
      "text/plain": [
       "(3557, 10)"
      ]
     },
     "execution_count": 36,
     "metadata": {},
     "output_type": "execute_result"
    }
   ],
   "source": [
    "preprocessed.to_numpy().shape"
   ]
  },
  {
   "cell_type": "code",
   "execution_count": 34,
   "metadata": {},
   "outputs": [
    {
     "ename": "LinAlgError",
     "evalue": "Last 2 dimensions of the array must be square",
     "output_type": "error",
     "traceback": [
      "\u001b[0;31m---------------------------------------------------------------------------\u001b[0m",
      "\u001b[0;31mLinAlgError\u001b[0m                               Traceback (most recent call last)",
      "Cell \u001b[0;32mIn[34], line 1\u001b[0m\n\u001b[0;32m----> 1\u001b[0m np\u001b[39m.\u001b[39;49mlinalg\u001b[39m.\u001b[39;49mdet(preprocessed\u001b[39m.\u001b[39;49mto_numpy())\n",
      "File \u001b[0;32m<__array_function__ internals>:5\u001b[0m, in \u001b[0;36mdet\u001b[0;34m(*args, **kwargs)\u001b[0m\n",
      "File \u001b[0;32m~/anaconda3/envs/DreamChallenge/lib/python3.10/site-packages/numpy/linalg/linalg.py:2155\u001b[0m, in \u001b[0;36mdet\u001b[0;34m(a)\u001b[0m\n\u001b[1;32m   2153\u001b[0m a \u001b[39m=\u001b[39m asarray(a)\n\u001b[1;32m   2154\u001b[0m _assert_stacked_2d(a)\n\u001b[0;32m-> 2155\u001b[0m _assert_stacked_square(a)\n\u001b[1;32m   2156\u001b[0m t, result_t \u001b[39m=\u001b[39m _commonType(a)\n\u001b[1;32m   2157\u001b[0m signature \u001b[39m=\u001b[39m \u001b[39m'\u001b[39m\u001b[39mD->D\u001b[39m\u001b[39m'\u001b[39m \u001b[39mif\u001b[39;00m isComplexType(t) \u001b[39melse\u001b[39;00m \u001b[39m'\u001b[39m\u001b[39md->d\u001b[39m\u001b[39m'\u001b[39m\n",
      "File \u001b[0;32m~/anaconda3/envs/DreamChallenge/lib/python3.10/site-packages/numpy/linalg/linalg.py:203\u001b[0m, in \u001b[0;36m_assert_stacked_square\u001b[0;34m(*arrays)\u001b[0m\n\u001b[1;32m    201\u001b[0m m, n \u001b[39m=\u001b[39m a\u001b[39m.\u001b[39mshape[\u001b[39m-\u001b[39m\u001b[39m2\u001b[39m:]\n\u001b[1;32m    202\u001b[0m \u001b[39mif\u001b[39;00m m \u001b[39m!=\u001b[39m n:\n\u001b[0;32m--> 203\u001b[0m     \u001b[39mraise\u001b[39;00m LinAlgError(\u001b[39m'\u001b[39m\u001b[39mLast 2 dimensions of the array must be square\u001b[39m\u001b[39m'\u001b[39m)\n",
      "\u001b[0;31mLinAlgError\u001b[0m: Last 2 dimensions of the array must be square"
     ]
    }
   ],
   "source": [
    "np.linalg.det(preprocessed.to_numpy())"
   ]
  },
  {
   "cell_type": "code",
   "execution_count": 7,
   "metadata": {},
   "outputs": [
    {
     "data": {
      "text/plain": [
       "'\\nself.base_params = {\\n            \"objective\": \"survival:aft\",\\n            \"eval_metric\": \"aft-nloglik\",\\n            \"aft_loss_distribution\": \"normal\",\\n            \"aft_loss_distribution_scale\": 1.20,\\n            \"tree_method\": \"hist\",\\n            \"booster\": \"dart\",\\n            \"learning_rate\": 0.032833188230587194,\\n            \"max_depth\": 3,\\n            \"subsample\": 0.61828926669036,\\n            \"alpha\": 0.012673256334558281,\\n            \"lambda\": 6.468264510932119,\\n            \"verbosity\": 0,\\n            #\"n_estimators\": 100\\n        }\\n'"
      ]
     },
     "execution_count": 7,
     "metadata": {},
     "output_type": "execute_result"
    }
   ],
   "source": [
    "\"\"\"\n",
    "self.base_params = {\n",
    "            \"objective\": \"survival:aft\",\n",
    "            \"eval_metric\": \"aft-nloglik\",\n",
    "            \"aft_loss_distribution\": \"normal\",\n",
    "            \"aft_loss_distribution_scale\": 1.20,\n",
    "            \"tree_method\": \"hist\",\n",
    "            \"booster\": \"dart\",\n",
    "            \"learning_rate\": 0.032833188230587194,\n",
    "            \"max_depth\": 3,\n",
    "            \"subsample\": 0.61828926669036,\n",
    "            \"alpha\": 0.012673256334558281,\n",
    "            \"lambda\": 6.468264510932119,\n",
    "            \"verbosity\": 0,\n",
    "            #\"n_estimators\": 100\n",
    "        }\n",
    "\"\"\""
   ]
  },
  {
   "cell_type": "code",
   "execution_count": 8,
   "metadata": {},
   "outputs": [],
   "source": [
    "class xgb_aft(sksurv_model):\n",
    "    def __init__(self):\n",
    "        super().__init__()\n",
    "         \n",
    "        self.base_params = {'verbosity': 0,\n",
    "                            'objective': 'survival:aft',\n",
    "                            'eval_metric': 'aft-nloglik',\n",
    "                            'tree_method': 'hist',\n",
    "                            'learning_rate': 0.05,\n",
    "                            'aft_loss_distribution': 'normal',\n",
    "                            'aft_loss_distribution_scale': 1.20,\n",
    "                            'max_depth': 6,\n",
    "                            'lambda': 0.01,\n",
    "                            'alpha': 0.02}\n",
    "\n",
    "        self.estimator = XGBSurvival(self.base_params, num_boost_round=10000, early_stopping_rounds= 50)\n",
    "\n",
    "        self.pipeline = self.create_pipeline()\n",
    "\n",
    "        \n",
    "        self.distributions = dict(\n",
    "            reduce_dim=['passthrough', PCA(0.95), PCA(0.98)],\n",
    "            estimator__learning_rate=uniform(loc=0, scale=0.2),\n",
    "            estimator__max_depth=randint(3,6),\n",
    "            estimator__alpha=uniform(loc=0, scale=0.2),\n",
    "            estimator__lembda=uniform(loc=0, scale=0.2)\n",
    "        )\n",
    "        "
   ]
  },
  {
   "cell_type": "code",
   "execution_count": 9,
   "metadata": {},
   "outputs": [],
   "source": [
    "model = xgb_aft()"
   ]
  },
  {
   "cell_type": "code",
   "execution_count": 11,
   "metadata": {},
   "outputs": [
    {
     "ename": "KeyError",
     "evalue": "'handle'",
     "output_type": "error",
     "traceback": [
      "\u001b[0;31m---------------------------------------------------------------------------\u001b[0m",
      "\u001b[0;31mKeyError\u001b[0m                                  Traceback (most recent call last)",
      "Cell \u001b[0;32mIn[11], line 1\u001b[0m\n\u001b[0;32m----> 1\u001b[0m model\u001b[39m.\u001b[39mpipeline \u001b[39m=\u001b[39m model\u001b[39m.\u001b[39;49mcross_validation(X_train, y_train, \u001b[39m3\u001b[39;49m)\n",
      "Cell \u001b[0;32mIn[6], line 16\u001b[0m, in \u001b[0;36mcandidate_model.cross_validation\u001b[0;34m(self, X_train, y_train, n_iter)\u001b[0m\n\u001b[1;32m      6\u001b[0m \u001b[39mdef\u001b[39;00m \u001b[39mcross_validation\u001b[39m(\u001b[39mself\u001b[39m, X_train, y_train, n_iter):\n\u001b[1;32m      7\u001b[0m     randsearchcv \u001b[39m=\u001b[39m RandomizedSearchCV(\n\u001b[1;32m      8\u001b[0m         \u001b[39mself\u001b[39m\u001b[39m.\u001b[39mpipeline,\n\u001b[1;32m      9\u001b[0m         \u001b[39mself\u001b[39m\u001b[39m.\u001b[39mdistributions,\n\u001b[0;32m   (...)\u001b[0m\n\u001b[1;32m     14\u001b[0m         error_score\u001b[39m=\u001b[39m\u001b[39m'\u001b[39m\u001b[39mraise\u001b[39m\u001b[39m'\u001b[39m\n\u001b[1;32m     15\u001b[0m     )\n\u001b[0;32m---> 16\u001b[0m     \u001b[39mself\u001b[39m\u001b[39m.\u001b[39mpipeline \u001b[39m=\u001b[39m randsearchcv\u001b[39m.\u001b[39;49mfit(X_train, y_train)\n\u001b[1;32m     17\u001b[0m     \u001b[39mreturn\u001b[39;00m \u001b[39mself\u001b[39m\n",
      "File \u001b[0;32m~/anaconda3/envs/DreamChallenge/lib/python3.10/site-packages/sklearn/model_selection/_search.py:789\u001b[0m, in \u001b[0;36mBaseSearchCV.fit\u001b[0;34m(self, X, y, groups, **fit_params)\u001b[0m\n\u001b[1;32m    786\u001b[0m cv_orig \u001b[39m=\u001b[39m check_cv(\u001b[39mself\u001b[39m\u001b[39m.\u001b[39mcv, y, classifier\u001b[39m=\u001b[39mis_classifier(estimator))\n\u001b[1;32m    787\u001b[0m n_splits \u001b[39m=\u001b[39m cv_orig\u001b[39m.\u001b[39mget_n_splits(X, y, groups)\n\u001b[0;32m--> 789\u001b[0m base_estimator \u001b[39m=\u001b[39m clone(\u001b[39mself\u001b[39;49m\u001b[39m.\u001b[39;49mestimator)\n\u001b[1;32m    791\u001b[0m parallel \u001b[39m=\u001b[39m Parallel(n_jobs\u001b[39m=\u001b[39m\u001b[39mself\u001b[39m\u001b[39m.\u001b[39mn_jobs, pre_dispatch\u001b[39m=\u001b[39m\u001b[39mself\u001b[39m\u001b[39m.\u001b[39mpre_dispatch)\n\u001b[1;32m    793\u001b[0m fit_and_score_kwargs \u001b[39m=\u001b[39m \u001b[39mdict\u001b[39m(\n\u001b[1;32m    794\u001b[0m     scorer\u001b[39m=\u001b[39mscorers,\n\u001b[1;32m    795\u001b[0m     fit_params\u001b[39m=\u001b[39mfit_params,\n\u001b[0;32m   (...)\u001b[0m\n\u001b[1;32m    801\u001b[0m     verbose\u001b[39m=\u001b[39m\u001b[39mself\u001b[39m\u001b[39m.\u001b[39mverbose,\n\u001b[1;32m    802\u001b[0m )\n",
      "File \u001b[0;32m~/anaconda3/envs/DreamChallenge/lib/python3.10/site-packages/sklearn/base.py:89\u001b[0m, in \u001b[0;36mclone\u001b[0;34m(estimator, safe)\u001b[0m\n\u001b[1;32m     87\u001b[0m new_object_params \u001b[39m=\u001b[39m estimator\u001b[39m.\u001b[39mget_params(deep\u001b[39m=\u001b[39m\u001b[39mFalse\u001b[39;00m)\n\u001b[1;32m     88\u001b[0m \u001b[39mfor\u001b[39;00m name, param \u001b[39min\u001b[39;00m new_object_params\u001b[39m.\u001b[39mitems():\n\u001b[0;32m---> 89\u001b[0m     new_object_params[name] \u001b[39m=\u001b[39m clone(param, safe\u001b[39m=\u001b[39;49m\u001b[39mFalse\u001b[39;49;00m)\n\u001b[1;32m     90\u001b[0m new_object \u001b[39m=\u001b[39m klass(\u001b[39m*\u001b[39m\u001b[39m*\u001b[39mnew_object_params)\n\u001b[1;32m     91\u001b[0m params_set \u001b[39m=\u001b[39m new_object\u001b[39m.\u001b[39mget_params(deep\u001b[39m=\u001b[39m\u001b[39mFalse\u001b[39;00m)\n",
      "File \u001b[0;32m~/anaconda3/envs/DreamChallenge/lib/python3.10/site-packages/sklearn/base.py:67\u001b[0m, in \u001b[0;36mclone\u001b[0;34m(estimator, safe)\u001b[0m\n\u001b[1;32m     65\u001b[0m \u001b[39m# XXX: not handling dictionaries\u001b[39;00m\n\u001b[1;32m     66\u001b[0m \u001b[39mif\u001b[39;00m estimator_type \u001b[39min\u001b[39;00m (\u001b[39mlist\u001b[39m, \u001b[39mtuple\u001b[39m, \u001b[39mset\u001b[39m, \u001b[39mfrozenset\u001b[39m):\n\u001b[0;32m---> 67\u001b[0m     \u001b[39mreturn\u001b[39;00m estimator_type([clone(e, safe\u001b[39m=\u001b[39msafe) \u001b[39mfor\u001b[39;00m e \u001b[39min\u001b[39;00m estimator])\n\u001b[1;32m     68\u001b[0m \u001b[39melif\u001b[39;00m \u001b[39mnot\u001b[39;00m \u001b[39mhasattr\u001b[39m(estimator, \u001b[39m\"\u001b[39m\u001b[39mget_params\u001b[39m\u001b[39m\"\u001b[39m) \u001b[39mor\u001b[39;00m \u001b[39misinstance\u001b[39m(estimator, \u001b[39mtype\u001b[39m):\n\u001b[1;32m     69\u001b[0m     \u001b[39mif\u001b[39;00m \u001b[39mnot\u001b[39;00m safe:\n",
      "File \u001b[0;32m~/anaconda3/envs/DreamChallenge/lib/python3.10/site-packages/sklearn/base.py:67\u001b[0m, in \u001b[0;36m<listcomp>\u001b[0;34m(.0)\u001b[0m\n\u001b[1;32m     65\u001b[0m \u001b[39m# XXX: not handling dictionaries\u001b[39;00m\n\u001b[1;32m     66\u001b[0m \u001b[39mif\u001b[39;00m estimator_type \u001b[39min\u001b[39;00m (\u001b[39mlist\u001b[39m, \u001b[39mtuple\u001b[39m, \u001b[39mset\u001b[39m, \u001b[39mfrozenset\u001b[39m):\n\u001b[0;32m---> 67\u001b[0m     \u001b[39mreturn\u001b[39;00m estimator_type([clone(e, safe\u001b[39m=\u001b[39;49msafe) \u001b[39mfor\u001b[39;00m e \u001b[39min\u001b[39;00m estimator])\n\u001b[1;32m     68\u001b[0m \u001b[39melif\u001b[39;00m \u001b[39mnot\u001b[39;00m \u001b[39mhasattr\u001b[39m(estimator, \u001b[39m\"\u001b[39m\u001b[39mget_params\u001b[39m\u001b[39m\"\u001b[39m) \u001b[39mor\u001b[39;00m \u001b[39misinstance\u001b[39m(estimator, \u001b[39mtype\u001b[39m):\n\u001b[1;32m     69\u001b[0m     \u001b[39mif\u001b[39;00m \u001b[39mnot\u001b[39;00m safe:\n",
      "File \u001b[0;32m~/anaconda3/envs/DreamChallenge/lib/python3.10/site-packages/sklearn/base.py:67\u001b[0m, in \u001b[0;36mclone\u001b[0;34m(estimator, safe)\u001b[0m\n\u001b[1;32m     65\u001b[0m \u001b[39m# XXX: not handling dictionaries\u001b[39;00m\n\u001b[1;32m     66\u001b[0m \u001b[39mif\u001b[39;00m estimator_type \u001b[39min\u001b[39;00m (\u001b[39mlist\u001b[39m, \u001b[39mtuple\u001b[39m, \u001b[39mset\u001b[39m, \u001b[39mfrozenset\u001b[39m):\n\u001b[0;32m---> 67\u001b[0m     \u001b[39mreturn\u001b[39;00m estimator_type([clone(e, safe\u001b[39m=\u001b[39msafe) \u001b[39mfor\u001b[39;00m e \u001b[39min\u001b[39;00m estimator])\n\u001b[1;32m     68\u001b[0m \u001b[39melif\u001b[39;00m \u001b[39mnot\u001b[39;00m \u001b[39mhasattr\u001b[39m(estimator, \u001b[39m\"\u001b[39m\u001b[39mget_params\u001b[39m\u001b[39m\"\u001b[39m) \u001b[39mor\u001b[39;00m \u001b[39misinstance\u001b[39m(estimator, \u001b[39mtype\u001b[39m):\n\u001b[1;32m     69\u001b[0m     \u001b[39mif\u001b[39;00m \u001b[39mnot\u001b[39;00m safe:\n",
      "File \u001b[0;32m~/anaconda3/envs/DreamChallenge/lib/python3.10/site-packages/sklearn/base.py:67\u001b[0m, in \u001b[0;36m<listcomp>\u001b[0;34m(.0)\u001b[0m\n\u001b[1;32m     65\u001b[0m \u001b[39m# XXX: not handling dictionaries\u001b[39;00m\n\u001b[1;32m     66\u001b[0m \u001b[39mif\u001b[39;00m estimator_type \u001b[39min\u001b[39;00m (\u001b[39mlist\u001b[39m, \u001b[39mtuple\u001b[39m, \u001b[39mset\u001b[39m, \u001b[39mfrozenset\u001b[39m):\n\u001b[0;32m---> 67\u001b[0m     \u001b[39mreturn\u001b[39;00m estimator_type([clone(e, safe\u001b[39m=\u001b[39;49msafe) \u001b[39mfor\u001b[39;00m e \u001b[39min\u001b[39;00m estimator])\n\u001b[1;32m     68\u001b[0m \u001b[39melif\u001b[39;00m \u001b[39mnot\u001b[39;00m \u001b[39mhasattr\u001b[39m(estimator, \u001b[39m\"\u001b[39m\u001b[39mget_params\u001b[39m\u001b[39m\"\u001b[39m) \u001b[39mor\u001b[39;00m \u001b[39misinstance\u001b[39m(estimator, \u001b[39mtype\u001b[39m):\n\u001b[1;32m     69\u001b[0m     \u001b[39mif\u001b[39;00m \u001b[39mnot\u001b[39;00m safe:\n",
      "File \u001b[0;32m~/anaconda3/envs/DreamChallenge/lib/python3.10/site-packages/sklearn/base.py:70\u001b[0m, in \u001b[0;36mclone\u001b[0;34m(estimator, safe)\u001b[0m\n\u001b[1;32m     68\u001b[0m \u001b[39melif\u001b[39;00m \u001b[39mnot\u001b[39;00m \u001b[39mhasattr\u001b[39m(estimator, \u001b[39m\"\u001b[39m\u001b[39mget_params\u001b[39m\u001b[39m\"\u001b[39m) \u001b[39mor\u001b[39;00m \u001b[39misinstance\u001b[39m(estimator, \u001b[39mtype\u001b[39m):\n\u001b[1;32m     69\u001b[0m     \u001b[39mif\u001b[39;00m \u001b[39mnot\u001b[39;00m safe:\n\u001b[0;32m---> 70\u001b[0m         \u001b[39mreturn\u001b[39;00m copy\u001b[39m.\u001b[39;49mdeepcopy(estimator)\n\u001b[1;32m     71\u001b[0m     \u001b[39melse\u001b[39;00m:\n\u001b[1;32m     72\u001b[0m         \u001b[39mif\u001b[39;00m \u001b[39misinstance\u001b[39m(estimator, \u001b[39mtype\u001b[39m):\n",
      "File \u001b[0;32m~/anaconda3/envs/DreamChallenge/lib/python3.10/copy.py:153\u001b[0m, in \u001b[0;36mdeepcopy\u001b[0;34m(x, memo, _nil)\u001b[0m\n\u001b[1;32m    151\u001b[0m copier \u001b[39m=\u001b[39m \u001b[39mgetattr\u001b[39m(x, \u001b[39m\"\u001b[39m\u001b[39m__deepcopy__\u001b[39m\u001b[39m\"\u001b[39m, \u001b[39mNone\u001b[39;00m)\n\u001b[1;32m    152\u001b[0m \u001b[39mif\u001b[39;00m copier \u001b[39mis\u001b[39;00m \u001b[39mnot\u001b[39;00m \u001b[39mNone\u001b[39;00m:\n\u001b[0;32m--> 153\u001b[0m     y \u001b[39m=\u001b[39m copier(memo)\n\u001b[1;32m    154\u001b[0m \u001b[39melse\u001b[39;00m:\n\u001b[1;32m    155\u001b[0m     reductor \u001b[39m=\u001b[39m dispatch_table\u001b[39m.\u001b[39mget(\u001b[39mcls\u001b[39m)\n",
      "File \u001b[0;32m~/anaconda3/envs/DreamChallenge/lib/python3.10/site-packages/xgboost/core.py:1755\u001b[0m, in \u001b[0;36mBooster.__deepcopy__\u001b[0;34m(self, _)\u001b[0m\n\u001b[1;32m   1753\u001b[0m \u001b[39mdef\u001b[39;00m \u001b[39m__deepcopy__\u001b[39m(\u001b[39mself\u001b[39m, _: Any) \u001b[39m-\u001b[39m\u001b[39m>\u001b[39m \u001b[39m\"\u001b[39m\u001b[39mBooster\u001b[39m\u001b[39m\"\u001b[39m:\n\u001b[1;32m   1754\u001b[0m     \u001b[39m'''Return a copy of booster.'''\u001b[39;00m\n\u001b[0;32m-> 1755\u001b[0m     \u001b[39mreturn\u001b[39;00m Booster(model_file\u001b[39m=\u001b[39;49m\u001b[39mself\u001b[39;49m)\n",
      "File \u001b[0;32m~/anaconda3/envs/DreamChallenge/lib/python3.10/site-packages/xgboost/core.py:1562\u001b[0m, in \u001b[0;36mBooster.__init__\u001b[0;34m(self, params, cache, model_file)\u001b[0m\n\u001b[1;32m   1559\u001b[0m \u001b[39massert\u001b[39;00m \u001b[39mself\u001b[39m\u001b[39m.\u001b[39mhandle \u001b[39mis\u001b[39;00m \u001b[39mnot\u001b[39;00m \u001b[39mNone\u001b[39;00m\n\u001b[1;32m   1560\u001b[0m \u001b[39m# We use the pickle interface for getting memory snapshot from\u001b[39;00m\n\u001b[1;32m   1561\u001b[0m \u001b[39m# another model, and load the snapshot with this booster.\u001b[39;00m\n\u001b[0;32m-> 1562\u001b[0m state \u001b[39m=\u001b[39m model_file\u001b[39m.\u001b[39;49m__getstate__()\n\u001b[1;32m   1563\u001b[0m handle \u001b[39m=\u001b[39m state[\u001b[39m'\u001b[39m\u001b[39mhandle\u001b[39m\u001b[39m'\u001b[39m]\n\u001b[1;32m   1564\u001b[0m \u001b[39mdel\u001b[39;00m state[\u001b[39m'\u001b[39m\u001b[39mhandle\u001b[39m\u001b[39m'\u001b[39m]\n",
      "File \u001b[0;32m~/anaconda3/envs/DreamChallenge/lib/python3.10/site-packages/xgboost/core.py:1659\u001b[0m, in \u001b[0;36mBooster.__getstate__\u001b[0;34m(self)\u001b[0m\n\u001b[1;32m   1656\u001b[0m \u001b[39mdef\u001b[39;00m \u001b[39m__getstate__\u001b[39m(\u001b[39mself\u001b[39m) \u001b[39m-\u001b[39m\u001b[39m>\u001b[39m Dict:\n\u001b[1;32m   1657\u001b[0m     \u001b[39m# can't pickle ctypes pointers, put model content in bytearray\u001b[39;00m\n\u001b[1;32m   1658\u001b[0m     this \u001b[39m=\u001b[39m \u001b[39mself\u001b[39m\u001b[39m.\u001b[39m\u001b[39m__dict__\u001b[39m\u001b[39m.\u001b[39mcopy()\n\u001b[0;32m-> 1659\u001b[0m     handle \u001b[39m=\u001b[39m this[\u001b[39m'\u001b[39;49m\u001b[39mhandle\u001b[39;49m\u001b[39m'\u001b[39;49m]\n\u001b[1;32m   1660\u001b[0m     \u001b[39mif\u001b[39;00m handle \u001b[39mis\u001b[39;00m \u001b[39mnot\u001b[39;00m \u001b[39mNone\u001b[39;00m:\n\u001b[1;32m   1661\u001b[0m         length \u001b[39m=\u001b[39m c_bst_ulong()\n",
      "\u001b[0;31mKeyError\u001b[0m: 'handle'"
     ]
    }
   ],
   "source": [
    "model.pipeline = model.cross_validation(X_train, y_train, 3)"
   ]
  },
  {
   "cell_type": "code",
   "execution_count": 26,
   "metadata": {},
   "outputs": [
    {
     "data": {
      "text/html": [
       "<style>#sk-container-id-9 {color: black;background-color: white;}#sk-container-id-9 pre{padding: 0;}#sk-container-id-9 div.sk-toggleable {background-color: white;}#sk-container-id-9 label.sk-toggleable__label {cursor: pointer;display: block;width: 100%;margin-bottom: 0;padding: 0.3em;box-sizing: border-box;text-align: center;}#sk-container-id-9 label.sk-toggleable__label-arrow:before {content: \"▸\";float: left;margin-right: 0.25em;color: #696969;}#sk-container-id-9 label.sk-toggleable__label-arrow:hover:before {color: black;}#sk-container-id-9 div.sk-estimator:hover label.sk-toggleable__label-arrow:before {color: black;}#sk-container-id-9 div.sk-toggleable__content {max-height: 0;max-width: 0;overflow: hidden;text-align: left;background-color: #f0f8ff;}#sk-container-id-9 div.sk-toggleable__content pre {margin: 0.2em;color: black;border-radius: 0.25em;background-color: #f0f8ff;}#sk-container-id-9 input.sk-toggleable__control:checked~div.sk-toggleable__content {max-height: 200px;max-width: 100%;overflow: auto;}#sk-container-id-9 input.sk-toggleable__control:checked~label.sk-toggleable__label-arrow:before {content: \"▾\";}#sk-container-id-9 div.sk-estimator input.sk-toggleable__control:checked~label.sk-toggleable__label {background-color: #d4ebff;}#sk-container-id-9 div.sk-label input.sk-toggleable__control:checked~label.sk-toggleable__label {background-color: #d4ebff;}#sk-container-id-9 input.sk-hidden--visually {border: 0;clip: rect(1px 1px 1px 1px);clip: rect(1px, 1px, 1px, 1px);height: 1px;margin: -1px;overflow: hidden;padding: 0;position: absolute;width: 1px;}#sk-container-id-9 div.sk-estimator {font-family: monospace;background-color: #f0f8ff;border: 1px dotted black;border-radius: 0.25em;box-sizing: border-box;margin-bottom: 0.5em;}#sk-container-id-9 div.sk-estimator:hover {background-color: #d4ebff;}#sk-container-id-9 div.sk-parallel-item::after {content: \"\";width: 100%;border-bottom: 1px solid gray;flex-grow: 1;}#sk-container-id-9 div.sk-label:hover label.sk-toggleable__label {background-color: #d4ebff;}#sk-container-id-9 div.sk-serial::before {content: \"\";position: absolute;border-left: 1px solid gray;box-sizing: border-box;top: 0;bottom: 0;left: 50%;z-index: 0;}#sk-container-id-9 div.sk-serial {display: flex;flex-direction: column;align-items: center;background-color: white;padding-right: 0.2em;padding-left: 0.2em;position: relative;}#sk-container-id-9 div.sk-item {position: relative;z-index: 1;}#sk-container-id-9 div.sk-parallel {display: flex;align-items: stretch;justify-content: center;background-color: white;position: relative;}#sk-container-id-9 div.sk-item::before, #sk-container-id-9 div.sk-parallel-item::before {content: \"\";position: absolute;border-left: 1px solid gray;box-sizing: border-box;top: 0;bottom: 0;left: 50%;z-index: -1;}#sk-container-id-9 div.sk-parallel-item {display: flex;flex-direction: column;z-index: 1;position: relative;background-color: white;}#sk-container-id-9 div.sk-parallel-item:first-child::after {align-self: flex-end;width: 50%;}#sk-container-id-9 div.sk-parallel-item:last-child::after {align-self: flex-start;width: 50%;}#sk-container-id-9 div.sk-parallel-item:only-child::after {width: 0;}#sk-container-id-9 div.sk-dashed-wrapped {border: 1px dashed gray;margin: 0 0.4em 0.5em 0.4em;box-sizing: border-box;padding-bottom: 0.4em;background-color: white;}#sk-container-id-9 div.sk-label label {font-family: monospace;font-weight: bold;display: inline-block;line-height: 1.2em;}#sk-container-id-9 div.sk-label-container {text-align: center;}#sk-container-id-9 div.sk-container {/* jupyter's `normalize.less` sets `[hidden] { display: none; }` but bootstrap.min.css set `[hidden] { display: none !important; }` so we also need the `!important` here to be able to override the default hidden behavior on the sphinx rendered scikit-learn.org. See: https://github.com/scikit-learn/scikit-learn/issues/21755 */display: inline-block !important;position: relative;}#sk-container-id-9 div.sk-text-repr-fallback {display: none;}</style><div id=\"sk-container-id-9\" class=\"sk-top-container\"><div class=\"sk-text-repr-fallback\"><pre>Pipeline(steps=[(&#x27;preprocessor&#x27;,\n",
       "                 ColumnTransformer(transformers=[(&#x27;num&#x27;,\n",
       "                                                  Pipeline(steps=[(&#x27;mean_imputer&#x27;,\n",
       "                                                                   SimpleImputer()),\n",
       "                                                                  (&#x27;scaler&#x27;,\n",
       "                                                                   StandardScaler())]),\n",
       "                                                  &lt;sklearn.compose._column_transformer.make_column_selector object at 0x7f265ad32080&gt;),\n",
       "                                                 (&#x27;cat&#x27;,\n",
       "                                                  Pipeline(steps=[(&#x27;frequent_imputer&#x27;,\n",
       "                                                                   SimpleImputer(strategy=&#x27;most_frequent&#x27;))]),\n",
       "                                                  &lt;sklearn.compose._column_transformer.make_column_selector object at 0x7f265ad32ec0&gt;)])),\n",
       "                (&#x27;pca_transformer&#x27;,\n",
       "                 ColumnTransformer(remainder=&#x27;passthrough&#x27;,\n",
       "                                   transformers=[(&#x27;reduce_dim&#x27;, PCA(),\n",
       "                                                  &lt;sklearn.compose._column_transformer.make_column_selector object at 0x7f265ad33dc0&gt;)])),\n",
       "                (&#x27;estimator&#x27;,\n",
       "                 &lt;xgboost_wrapper.XGBSurvival object at 0x7f26bfb17580&gt;)])</pre><b>In a Jupyter environment, please rerun this cell to show the HTML representation or trust the notebook. <br />On GitHub, the HTML representation is unable to render, please try loading this page with nbviewer.org.</b></div><div class=\"sk-container\" hidden><div class=\"sk-item sk-dashed-wrapped\"><div class=\"sk-label-container\"><div class=\"sk-label sk-toggleable\"><input class=\"sk-toggleable__control sk-hidden--visually\" id=\"sk-estimator-id-105\" type=\"checkbox\" ><label for=\"sk-estimator-id-105\" class=\"sk-toggleable__label sk-toggleable__label-arrow\">Pipeline</label><div class=\"sk-toggleable__content\"><pre>Pipeline(steps=[(&#x27;preprocessor&#x27;,\n",
       "                 ColumnTransformer(transformers=[(&#x27;num&#x27;,\n",
       "                                                  Pipeline(steps=[(&#x27;mean_imputer&#x27;,\n",
       "                                                                   SimpleImputer()),\n",
       "                                                                  (&#x27;scaler&#x27;,\n",
       "                                                                   StandardScaler())]),\n",
       "                                                  &lt;sklearn.compose._column_transformer.make_column_selector object at 0x7f265ad32080&gt;),\n",
       "                                                 (&#x27;cat&#x27;,\n",
       "                                                  Pipeline(steps=[(&#x27;frequent_imputer&#x27;,\n",
       "                                                                   SimpleImputer(strategy=&#x27;most_frequent&#x27;))]),\n",
       "                                                  &lt;sklearn.compose._column_transformer.make_column_selector object at 0x7f265ad32ec0&gt;)])),\n",
       "                (&#x27;pca_transformer&#x27;,\n",
       "                 ColumnTransformer(remainder=&#x27;passthrough&#x27;,\n",
       "                                   transformers=[(&#x27;reduce_dim&#x27;, PCA(),\n",
       "                                                  &lt;sklearn.compose._column_transformer.make_column_selector object at 0x7f265ad33dc0&gt;)])),\n",
       "                (&#x27;estimator&#x27;,\n",
       "                 &lt;xgboost_wrapper.XGBSurvival object at 0x7f26bfb17580&gt;)])</pre></div></div></div><div class=\"sk-serial\"><div class=\"sk-item sk-dashed-wrapped\"><div class=\"sk-label-container\"><div class=\"sk-label sk-toggleable\"><input class=\"sk-toggleable__control sk-hidden--visually\" id=\"sk-estimator-id-106\" type=\"checkbox\" ><label for=\"sk-estimator-id-106\" class=\"sk-toggleable__label sk-toggleable__label-arrow\">preprocessor: ColumnTransformer</label><div class=\"sk-toggleable__content\"><pre>ColumnTransformer(transformers=[(&#x27;num&#x27;,\n",
       "                                 Pipeline(steps=[(&#x27;mean_imputer&#x27;,\n",
       "                                                  SimpleImputer()),\n",
       "                                                 (&#x27;scaler&#x27;, StandardScaler())]),\n",
       "                                 &lt;sklearn.compose._column_transformer.make_column_selector object at 0x7f265ad32080&gt;),\n",
       "                                (&#x27;cat&#x27;,\n",
       "                                 Pipeline(steps=[(&#x27;frequent_imputer&#x27;,\n",
       "                                                  SimpleImputer(strategy=&#x27;most_frequent&#x27;))]),\n",
       "                                 &lt;sklearn.compose._column_transformer.make_column_selector object at 0x7f265ad32ec0&gt;)])</pre></div></div></div><div class=\"sk-parallel\"><div class=\"sk-parallel-item\"><div class=\"sk-item\"><div class=\"sk-label-container\"><div class=\"sk-label sk-toggleable\"><input class=\"sk-toggleable__control sk-hidden--visually\" id=\"sk-estimator-id-107\" type=\"checkbox\" ><label for=\"sk-estimator-id-107\" class=\"sk-toggleable__label sk-toggleable__label-arrow\">num</label><div class=\"sk-toggleable__content\"><pre>&lt;sklearn.compose._column_transformer.make_column_selector object at 0x7f265ad32080&gt;</pre></div></div></div><div class=\"sk-serial\"><div class=\"sk-item\"><div class=\"sk-serial\"><div class=\"sk-item\"><div class=\"sk-estimator sk-toggleable\"><input class=\"sk-toggleable__control sk-hidden--visually\" id=\"sk-estimator-id-108\" type=\"checkbox\" ><label for=\"sk-estimator-id-108\" class=\"sk-toggleable__label sk-toggleable__label-arrow\">SimpleImputer</label><div class=\"sk-toggleable__content\"><pre>SimpleImputer()</pre></div></div></div><div class=\"sk-item\"><div class=\"sk-estimator sk-toggleable\"><input class=\"sk-toggleable__control sk-hidden--visually\" id=\"sk-estimator-id-109\" type=\"checkbox\" ><label for=\"sk-estimator-id-109\" class=\"sk-toggleable__label sk-toggleable__label-arrow\">StandardScaler</label><div class=\"sk-toggleable__content\"><pre>StandardScaler()</pre></div></div></div></div></div></div></div></div><div class=\"sk-parallel-item\"><div class=\"sk-item\"><div class=\"sk-label-container\"><div class=\"sk-label sk-toggleable\"><input class=\"sk-toggleable__control sk-hidden--visually\" id=\"sk-estimator-id-110\" type=\"checkbox\" ><label for=\"sk-estimator-id-110\" class=\"sk-toggleable__label sk-toggleable__label-arrow\">cat</label><div class=\"sk-toggleable__content\"><pre>&lt;sklearn.compose._column_transformer.make_column_selector object at 0x7f265ad32ec0&gt;</pre></div></div></div><div class=\"sk-serial\"><div class=\"sk-item\"><div class=\"sk-serial\"><div class=\"sk-item\"><div class=\"sk-estimator sk-toggleable\"><input class=\"sk-toggleable__control sk-hidden--visually\" id=\"sk-estimator-id-111\" type=\"checkbox\" ><label for=\"sk-estimator-id-111\" class=\"sk-toggleable__label sk-toggleable__label-arrow\">SimpleImputer</label><div class=\"sk-toggleable__content\"><pre>SimpleImputer(strategy=&#x27;most_frequent&#x27;)</pre></div></div></div></div></div></div></div></div></div></div><div class=\"sk-item sk-dashed-wrapped\"><div class=\"sk-label-container\"><div class=\"sk-label sk-toggleable\"><input class=\"sk-toggleable__control sk-hidden--visually\" id=\"sk-estimator-id-112\" type=\"checkbox\" ><label for=\"sk-estimator-id-112\" class=\"sk-toggleable__label sk-toggleable__label-arrow\">pca_transformer: ColumnTransformer</label><div class=\"sk-toggleable__content\"><pre>ColumnTransformer(remainder=&#x27;passthrough&#x27;,\n",
       "                  transformers=[(&#x27;reduce_dim&#x27;, PCA(),\n",
       "                                 &lt;sklearn.compose._column_transformer.make_column_selector object at 0x7f265ad33dc0&gt;)])</pre></div></div></div><div class=\"sk-parallel\"><div class=\"sk-parallel-item\"><div class=\"sk-item\"><div class=\"sk-label-container\"><div class=\"sk-label sk-toggleable\"><input class=\"sk-toggleable__control sk-hidden--visually\" id=\"sk-estimator-id-113\" type=\"checkbox\" ><label for=\"sk-estimator-id-113\" class=\"sk-toggleable__label sk-toggleable__label-arrow\">reduce_dim</label><div class=\"sk-toggleable__content\"><pre>&lt;sklearn.compose._column_transformer.make_column_selector object at 0x7f265ad33dc0&gt;</pre></div></div></div><div class=\"sk-serial\"><div class=\"sk-item\"><div class=\"sk-estimator sk-toggleable\"><input class=\"sk-toggleable__control sk-hidden--visually\" id=\"sk-estimator-id-114\" type=\"checkbox\" ><label for=\"sk-estimator-id-114\" class=\"sk-toggleable__label sk-toggleable__label-arrow\">PCA</label><div class=\"sk-toggleable__content\"><pre>PCA()</pre></div></div></div></div></div></div><div class=\"sk-parallel-item\"><div class=\"sk-item\"><div class=\"sk-label-container\"><div class=\"sk-label sk-toggleable\"><input class=\"sk-toggleable__control sk-hidden--visually\" id=\"sk-estimator-id-115\" type=\"checkbox\" ><label for=\"sk-estimator-id-115\" class=\"sk-toggleable__label sk-toggleable__label-arrow\">remainder</label><div class=\"sk-toggleable__content\"><pre>[&#x27;num__Age&#x27;, &#x27;num__BodyMassIndex&#x27;, &#x27;num__SystolicBP&#x27;, &#x27;num__NonHDLcholesterol&#x27;, &#x27;num__shannon&#x27;, &#x27;cat__Smoking&#x27;, &#x27;cat__BPTreatment&#x27;, &#x27;cat__PrevalentDiabetes&#x27;, &#x27;cat__PrevalentCHD&#x27;, &#x27;cat__PrevalentHFAIL&#x27;, &#x27;cat__Sex&#x27;, &#x27;cat__adiv&#x27;]</pre></div></div></div><div class=\"sk-serial\"><div class=\"sk-item\"><div class=\"sk-estimator sk-toggleable\"><input class=\"sk-toggleable__control sk-hidden--visually\" id=\"sk-estimator-id-116\" type=\"checkbox\" ><label for=\"sk-estimator-id-116\" class=\"sk-toggleable__label sk-toggleable__label-arrow\">passthrough</label><div class=\"sk-toggleable__content\"><pre>passthrough</pre></div></div></div></div></div></div></div></div><div class=\"sk-item\"><div class=\"sk-estimator sk-toggleable\"><input class=\"sk-toggleable__control sk-hidden--visually\" id=\"sk-estimator-id-117\" type=\"checkbox\" ><label for=\"sk-estimator-id-117\" class=\"sk-toggleable__label sk-toggleable__label-arrow\">XGBSurvival</label><div class=\"sk-toggleable__content\"><pre>&lt;xgboost_wrapper.XGBSurvival object at 0x7f26bfb17580&gt;</pre></div></div></div></div></div></div></div>"
      ],
      "text/plain": [
       "Pipeline(steps=[('preprocessor',\n",
       "                 ColumnTransformer(transformers=[('num',\n",
       "                                                  Pipeline(steps=[('mean_imputer',\n",
       "                                                                   SimpleImputer()),\n",
       "                                                                  ('scaler',\n",
       "                                                                   StandardScaler())]),\n",
       "                                                  <sklearn.compose._column_transformer.make_column_selector object at 0x7f265ad32080>),\n",
       "                                                 ('cat',\n",
       "                                                  Pipeline(steps=[('frequent_imputer',\n",
       "                                                                   SimpleImputer(strategy='most_frequent'))]),\n",
       "                                                  <sklearn.compose._column_transformer.make_column_selector object at 0x7f265ad32ec0>)])),\n",
       "                ('pca_transformer',\n",
       "                 ColumnTransformer(remainder='passthrough',\n",
       "                                   transformers=[('reduce_dim', PCA(),\n",
       "                                                  <sklearn.compose._column_transformer.make_column_selector object at 0x7f265ad33dc0>)])),\n",
       "                ('estimator',\n",
       "                 <xgboost_wrapper.XGBSurvival object at 0x7f26bfb17580>)])"
      ]
     },
     "execution_count": 26,
     "metadata": {},
     "output_type": "execute_result"
    }
   ],
   "source": [
    "model.pipeline.fit(X_train, y_train)"
   ]
  },
  {
   "cell_type": "code",
   "execution_count": null,
   "metadata": {},
   "outputs": [],
   "source": [
    "model.pipeline"
   ]
  },
  {
   "cell_type": "code",
   "execution_count": 22,
   "metadata": {},
   "outputs": [
    {
     "data": {
      "text/html": [
       "<div>\n",
       "<style scoped>\n",
       "    .dataframe tbody tr th:only-of-type {\n",
       "        vertical-align: middle;\n",
       "    }\n",
       "\n",
       "    .dataframe tbody tr th {\n",
       "        vertical-align: top;\n",
       "    }\n",
       "\n",
       "    .dataframe thead th {\n",
       "        text-align: right;\n",
       "    }\n",
       "</style>\n",
       "<table border=\"1\" class=\"dataframe\">\n",
       "  <thead>\n",
       "    <tr style=\"text-align: right;\">\n",
       "      <th></th>\n",
       "      <th>Harrell C</th>\n",
       "      <th>Concordance index IPCW</th>\n",
       "    </tr>\n",
       "  </thead>\n",
       "  <tbody>\n",
       "    <tr>\n",
       "      <th>train</th>\n",
       "      <td>0.982062</td>\n",
       "      <td>0.976392</td>\n",
       "    </tr>\n",
       "    <tr>\n",
       "      <th>test</th>\n",
       "      <td>0.577541</td>\n",
       "      <td>0.538264</td>\n",
       "    </tr>\n",
       "  </tbody>\n",
       "</table>\n",
       "</div>"
      ],
      "text/plain": [
       "       Harrell C  Concordance index IPCW\n",
       "train   0.982062                0.976392\n",
       "test    0.577541                0.538264"
      ]
     },
     "execution_count": 22,
     "metadata": {},
     "output_type": "execute_result"
    }
   ],
   "source": [
    "from survival_models import bind\n",
    "evaluate_model(model.pipeline, X_train, X_test, y_train, y_test)"
   ]
  },
  {
   "attachments": {},
   "cell_type": "markdown",
   "metadata": {},
   "source": [
    "## Sksurv gbt\n"
   ]
  },
  {
   "cell_type": "code",
   "execution_count": null,
   "metadata": {},
   "outputs": [],
   "source": [
    "model = sksurv_gbt()\n",
    "model.estimator = GradientBoostingSurvivalAnalysis(loss = 'ipcwls',\n",
    "    n_estimators=100, learning_rate=1.0, max_depth=1, random_state=0\n",
    ")\n",
    "model.pipeline = model.create_pipeline()"
   ]
  },
  {
   "cell_type": "code",
   "execution_count": null,
   "metadata": {},
   "outputs": [],
   "source": [
    "\n",
    "model.pipeline.fit(X_train, y_train)\n"
   ]
  },
  {
   "cell_type": "code",
   "execution_count": null,
   "metadata": {},
   "outputs": [],
   "source": [
    "from ray.tune.sklearn import TuneGridSearchCV\n",
    "from ray.tune.sklearn import TuneSearchCV"
   ]
  },
  {
   "cell_type": "code",
   "execution_count": null,
   "metadata": {},
   "outputs": [],
   "source": [
    "\n",
    "from ray import tune\n",
    "from sklearn import model_selection\n",
    "from ray.tune.schedulers import HyperBandScheduler\n",
    "from ray.tune.sklearn import TuneGridSearchCV\n",
    "from ray.tune.sklearn import TuneSearchCV\n",
    "\n",
    "class candidate_model:\n",
    "    def __init__(self):\n",
    "        self.monitor = None\n",
    "        self.with_pca = False\n",
    "\n",
    "    def cross_validation(self, X_train, y_train, n_iter):\n",
    "        randsearchcv = RandomizedSearchCV(\n",
    "            self.pipeline,\n",
    "            self.distributions,\n",
    "            random_state=0,\n",
    "            n_iter=n_iter,\n",
    "            n_jobs=-1,\n",
    "            verbose=10,\n",
    "            error_score='raise'\n",
    "        )\n",
    "        self.pipeline = randsearchcv.fit(X_train, y_train)\n",
    "        return self\n",
    "    \n",
    "    def evaluate(self, X_train, X_test, y_train, y_test):\n",
    "        \"\"\"\n",
    "        self.harrell_C_training = self.estimator.score(X_train, y_train)\n",
    "        self.harrell_C_test = self.estimator.score(X_test, y_test)\n",
    "        \"\"\"\n",
    "        self.harrell_C_training = concordance_index_censored(\n",
    "            y_train['Event'], y_train['Event_time'], self.risk_score(X_train))[0]\n",
    "        self.harrell_C_test = concordance_index_censored(\n",
    "            y_test['Event'], y_test['Event_time'], self.risk_score(X_test))[0]\n",
    "\n",
    "        return self\n",
    "\n",
    "    def create_pipeline(self):\n",
    "        numeric_transformer = Pipeline(\n",
    "            steps=[\n",
    "                (\"mean_imputer\", SimpleImputer(strategy=\"mean\")),\n",
    "                (\"scaler\", StandardScaler()),\n",
    "            ]\n",
    "        )\n",
    "\n",
    "        categorical_transformer = Pipeline(\n",
    "            steps=[\n",
    "                (\"frequent_imputer\", SimpleImputer(strategy=\"most_frequent\")),\n",
    "            ]\n",
    "        )\n",
    "\n",
    "        pca_transformer = ColumnTransformer(\n",
    "            transformers=[(\"reduce_dim\", PCA(), selector(pattern=\"k__\"))], remainder='passthrough')\n",
    "\n",
    "        preprocessor = ColumnTransformer(\n",
    "            transformers=[\n",
    "                (\"num\", numeric_transformer, selector(\n",
    "                    dtype_exclude=[\"bool\", \"category\", \"Int64\"])),\n",
    "                (\"cat\", categorical_transformer, selector(\n",
    "                    dtype_include=[\"bool\", \"category\", \"Int64\"])),\n",
    "            ]\n",
    "        )\n",
    "\n",
    "        regressor = Pipeline(\n",
    "            steps=[(\"preprocessor\", preprocessor), (\"pca_transformer\", pca_transformer), (\"estimator\", self.estimator)])\n",
    "\n",
    "        with open(\"regressor.html\", \"w\") as f:\n",
    "            f.write(estimator_html_repr(regressor))\n",
    "\n",
    "        return regressor\n",
    "\n",
    "class sksurv_model(candidate_model):\n",
    "    def __init__(self):\n",
    "        super().__init__()\n",
    "        self.monitor = EarlyStoppingMonitor(25, 50)\n",
    "                \n",
    "    def risk_score(self, X_test):\n",
    "        predictions = self.pipeline.predict(X_test)  # Predict the risk score\n",
    "        scaler = MinMaxScaler()\n",
    "        risk_score = scaler.fit_transform(predictions.reshape(-1, 1))\n",
    "        #The range of this number has to be between 0 and 1, with larger numbers being associated with higher probability of having HF. The values, -Inf, Inf and NA, are not allowed.\n",
    "        return risk_score.to_numpy().flatten()\n",
    "    \n",
    "class sksurv_gbt(sksurv_model):\n",
    "    def __init__(self):\n",
    "        super().__init__()\n",
    "         \n",
    "        self.estimator = GradientBoostingSurvivalAnalysis()\n",
    "        \n",
    "        self.pipeline = self.create_pipeline()\n",
    "\n",
    "        self.distributions = dict(\n",
    "            pca_transformer__reduce_dim= ['passthrough', PCA(0.95), PCA(0.98)],\n",
    "            estimator__learning_rate=uniform(loc=1e-2, scale=0.4),\n",
    "            estimator__max_depth=randint(2, 6),\n",
    "            estimator__loss=[\"coxph\"], #ipcwls corresponds to aft model\n",
    "            estimator__n_estimators=randint(100, 350),\n",
    "            estimator__min_samples_split=randint(2, 6),\n",
    "            estimator__min_samples_leaf=randint(1, 10),\n",
    "            estimator__subsample=uniform(loc=0.5, scale=0.5),\n",
    "            estimator__max_leaf_nodes=randint(2, 30),\n",
    "            estimator__dropout_rate=uniform(loc=0, scale=0.5)\n",
    "        )"
   ]
  },
  {
   "cell_type": "code",
   "execution_count": null,
   "metadata": {},
   "outputs": [],
   "source": [
    "model = sksurv_gbt()\n",
    "model.cross_validation(X_train, y_train, 10)"
   ]
  },
  {
   "cell_type": "code",
   "execution_count": null,
   "metadata": {},
   "outputs": [],
   "source": [
    "model = sksurv_gbt()\n",
    "model.raytune_optimization(X_train, y_train, 10)"
   ]
  },
  {
   "cell_type": "code",
   "execution_count": null,
   "metadata": {},
   "outputs": [],
   "source": [
    "from ray import tune\n",
    "from sklearn import model_selection\n",
    "from ray.tune.schedulers import HyperBandScheduler\n",
    "\n",
    "# 1. Define an objective function.\n",
    "\n",
    "\n",
    "model = sksurv_gbt()\n",
    "def objective(config):\n",
    "    \n",
    "    model.pipeline.set_params(**config)\n",
    "    score = model_selection.cross_val_score(model.pipeline, X_train, y_train, n_jobs=1, cv=3)\n",
    "        \n",
    "    return {\"score\": score}\n",
    "\n",
    "\n",
    "# 2. Define a search space.\n",
    "search_space = {\n",
    "    \"aft_loss_distribution_scale\": tune.grid_search([0.1, 1, 10]),\n",
    "}\n",
    " \n",
    "# Create HyperBand scheduler and minimize the score\n",
    "hyperband = HyperBandScheduler(metric=\"score\", mode=\"max\")\n",
    "\n",
    "# 3. Start a Tune run and print the best result.\n",
    "tuner = tune.Tuner(objective, tune_config=tune.TuneConfig(\n",
    "    num_samples=20,\n",
    "    scheduler=hyperband,\n",
    "), param_space=search_space)\n",
    "results = tuner.fit()\n",
    "print(results.get_best_result(metric=\"score\", mode=\"max\", filter_nan_and_inf = False).config)\n"
   ]
  },
  {
   "cell_type": "code",
   "execution_count": null,
   "metadata": {},
   "outputs": [],
   "source": [
    "def cross_validation(self, X_train, y_train, n_iter):\n",
    "        randsearchcv = RandomizedSearchCV(\n",
    "            self.pipeline,\n",
    "            self.distributions,\n",
    "            random_state=0,\n",
    "            n_iter=n_iter,\n",
    "            n_jobs=4,\n",
    "            verbose=10,\n",
    "            error_score='raise'\n",
    "        )\n",
    "        self.pipeline = randsearchcv.fit(X_train, y_train)\n",
    "        return self"
   ]
  },
  {
   "cell_type": "code",
   "execution_count": null,
   "metadata": {},
   "outputs": [],
   "source": [
    "class sksurv_model(candidate_model):\n",
    "    def __init__(self):\n",
    "        super().__init__()\n",
    "        self.monitor = EarlyStoppingMonitor(25, 50)\n",
    "\n",
    "    def risk_score(self, X_test):\n",
    "        predictions = self.pipeline.predict(X_test)  # Predict the risk score\n",
    "        scaler = MinMaxScaler()\n",
    "        risk_score = scaler.fit_transform(predictions.reshape(-1, 1))\n",
    "        #The range of this number has to be between 0 and 1, with larger numbers being associated with higher probability of having HF. The values, -Inf, Inf and NA, are not allowed.\n",
    "        return risk_score.to_numpy().flatten()\n",
    "\n",
    "\n",
    "class sksurv_gbt(sksurv_model):\n",
    "    def __init__(self):\n",
    "        super().__init__()\n",
    "\n",
    "        self.estimator = GradientBoostingSurvivalAnalysis()\n",
    "        \n",
    "        self.pipeline = self.create_pipeline()\n",
    "\n",
    "        self.distributions = dict(\n",
    "            pca_transformer__reduce_dim= ['passthrough', PCA(0.95), PCA(0.98)], #uniform(loc=0.95, scale=0.05), #\n",
    "            learning_rate=uniform(loc=1e-2, scale=0.4),\n",
    "            max_depth=randint(2, 6),\n",
    "            estimator__loss=[\"coxph\", \"ipcwls\"],\n",
    "            n_estimators=randint(100, 350),\n",
    "            min_samples_split=randint(2, 6),\n",
    "            min_samples_leaf=randint(1, 10),\n",
    "            subsample=uniform(loc=0.5, scale=0.5),\n",
    "            max_leaf_nodes=randint(2, 30),\n",
    "            estimator__dropout_rate=uniform(loc=0, scale=1),\n",
    "        )\n"
   ]
  },
  {
   "cell_type": "code",
   "execution_count": null,
   "metadata": {},
   "outputs": [],
   "source": []
  },
  {
   "cell_type": "code",
   "execution_count": null,
   "metadata": {},
   "outputs": [],
   "source": [
    " "
   ]
  },
  {
   "cell_type": "code",
   "execution_count": null,
   "metadata": {},
   "outputs": [],
   "source": [
    "def cross_validation_score(pipeline, X_train, y_train, n_splits=3, n_repeats=1, early_stopping_rounds=50):\n",
    "    # Compute the cross-validation score, works with pandas dataframe (the sklearn function does not)\n",
    "\n",
    "    rkf = RepeatedKFold(\n",
    "          n_splits=n_splits, n_repeats=n_repeats, random_state=0\n",
    "          )\n",
    "    score = 0\n",
    "    for train_index, test_index in rkf.split(X_train):\n",
    "        X_A, X_B = X_train.iloc[train_index,\n",
    "                                :], X_train.iloc[test_index, :]\n",
    "        y_A, y_B = y_train[train_index], y_train[test_index]\n",
    "\n",
    "        if not check_is_fitted(pipeline):\n",
    "            pipeline[:-1].fit(X_A, y_A)\n",
    "\n",
    "        X_B_transformed = pipeline.estimator.named_steps['preprocessor'].transform(\n",
    "            X_B)\n",
    "\n",
    "        pipeline.fit(\n",
    "            X_A,\n",
    "            y_A,\n",
    "            estimator__validation_data=(X_B_transformed, y_B),\n",
    "            estimator__verbose_eval=0,\n",
    "            estimator__early_stopping_rounds=early_stopping_rounds\n",
    "        )\n",
    "        score += pipeline.score(X_B, y_B)\n",
    "    score /= (n_repeats*n_splits)\n",
    "    return score\n"
   ]
  },
  {
   "cell_type": "code",
   "execution_count": null,
   "metadata": {},
   "outputs": [],
   "source": [
    "\n",
    "def xgb_cross_validation_score(pipeline, X_train, y_train, n_splits=3, n_repeats=1, early_stopping_rounds=50):\n",
    "    # Compute the cross-validation score, works with pandas dataframe (the sklearn function does not)\n",
    "\n",
    "    rkf = RepeatedKFold(\n",
    "        n_splits=n_splits, n_repeats=n_repeats, random_state=0\n",
    "    )\n",
    "    score = 0\n",
    "    for train_index, test_index in rkf.split(X_train):\n",
    "        X_A, X_B = X_train.iloc[train_index,\n",
    "                                :], X_train.iloc[test_index, :]\n",
    "        y_A, y_B = y_train[train_index], y_train[test_index]\n",
    "\n",
    "        pipeline[:-1].fit(X_A, y_A)\n",
    "\n",
    "        X_B_transformed = pipeline[:-1].transform(\n",
    "            X_B)\n",
    "\n",
    "        pipeline.fit(\n",
    "            X_A,\n",
    "            y_A,\n",
    "            estimator__validation_data=(X_B_transformed, y_B),\n",
    "            estimator__verbose_eval=0,\n",
    "            estimator__early_stopping_rounds=early_stopping_rounds\n",
    "        )\n",
    "        score += pipeline.score(X_B, y_B)\n",
    "    score /= (n_repeats*n_splits)\n",
    "    return score\n"
   ]
  },
  {
   "cell_type": "code",
   "execution_count": null,
   "metadata": {},
   "outputs": [],
   "source": [
    "from sklearn import model_selection\n",
    "from survival_models import candidate_model"
   ]
  },
  {
   "cell_type": "code",
   "execution_count": null,
   "metadata": {},
   "outputs": [],
   "source": [
    "class xgb_optuna(candidate_model):\n",
    "    def __init__(self):\n",
    "        super().__init__()\n",
    "        # repeated K-folds\n",
    "        self.N_SPLITS = 3\n",
    "        self.N_REPEATS = 1\n",
    "\n",
    "        # Optuna \n",
    "        self.RS = 124  # random state\n",
    "        # XGBoost\n",
    "        self.EARLY_STOPPING_ROUNDS = 50\n",
    "        self.MULTIVARIATE = True\n",
    "\n",
    "        self.sampler = TPESampler(seed=self.RS, multivariate=self.MULTIVARIATE)\n",
    "        self.base_params = {\n",
    "            \"objective\": \"survival:aft\",\n",
    "            \"eval_metric\": \"aft-nloglik\",\n",
    "            \"aft_loss_distribution\": \"normal\",\n",
    "            \"aft_loss_distribution_scale\": 1.20,\n",
    "            \"tree_method\": \"hist\",\n",
    "            \"booster\": \"dart\",\n",
    "            \"learning_rate\": 0.032833188230587194,\n",
    "            \"max_depth\": 10,\n",
    "            \"subsample\": 0.61828926669036,\n",
    "            \"alpha\": 0.012673256334558281,\n",
    "            \"lambda\": 6.468264510932119,\n",
    "            \"verbosity\": 0,\n",
    "            \"n_estimators\": 10000,\n",
    "            \"seed\": self.RS,\n",
    "        }\n",
    "\n",
    "        self.estimator = XGBSurvival(self.base_params, num_boost_round=10000)\n",
    "        self.pipeline = self.create_pipeline()\n",
    "\n",
    "    def cross_validation(self, X_train, y_train, n_iter):\n",
    "        study = create_study(direction=\"maximize\", sampler=self.sampler)\n",
    "        study.optimize(\n",
    "            lambda trial: self.objective(\n",
    "                trial,\n",
    "                X_train,\n",
    "                y_train\n",
    "            ),\n",
    "            n_trials=n_iter,\n",
    "            n_jobs=1,\n",
    "        )\n",
    "        self.optimal_hp = study.best_params\n",
    "        self.pipeline.set_params(**self.optimal_hp)\n",
    "        self.pipeline = self.pipeline.fit(X_train, y_train)\n",
    "        return self\n",
    "\n",
    "    def objective(\n",
    "        self,\n",
    "        trial,\n",
    "        X_train,\n",
    "        y_train\n",
    "        ):\n",
    "        # XGBoost parameters\n",
    "\n",
    "        xgb_params = {\n",
    "            \"objective\": \"survival:aft\",\n",
    "            \"eval_metric\": \"aft-nloglik\",\n",
    "            \"aft_loss_distribution\": \"normal\",\n",
    "            \"aft_loss_distribution_scale\": trial.suggest_float('aft_loss_distribution_scale', 0.1, 10.0, log=True),\n",
    "            \"tree_method\": \"hist\",\n",
    "            \"learning_rate\": trial.suggest_float(\"learning_rate\", 1e-2, 1, log=True),\n",
    "            \"max_depth\": trial.suggest_int(\"max_depth\", 2, 12),\n",
    "            \"booster\": \"dart\",\n",
    "            \"subsample\": trial.suggest_float(\"subsample\", 0.4, 0.8, log=False),\n",
    "            \"alpha\": trial.suggest_float(\"alpha\", 0.01, 10.0, log=True),\n",
    "            \"lambda\": trial.suggest_float(\"lambda\", 1e-8, 10.0, log=True),\n",
    "            \"gamma\": trial.suggest_float(\"lambda\", 1e-8, 10.0, log=True),\n",
    "        }\n",
    "        pipeline_params = {\"pca_transformer__reduce_dim\": trial.suggest_categorical(\"pca_transformer__reduce_dim\", ['passthrough', PCA(0.95), PCA(0.98)])}\n",
    "\n",
    "        self.estimator = XGBSurvival(xgb_params, num_boost_round=10000)\n",
    "        self.pipeline = self.create_pipeline()\n",
    "        self.pipeline.set_params(**pipeline_params)\n",
    "        \n",
    "        self.estimator = XGBSurvival(params, num_boost_round=10000)\n",
    "        self.pipeline = self.create_pipeline()\n",
    "        #score = model_selection.cross_val_score(self.pipeline, X_train, y_train, n_jobs=1, cv=3)\n",
    "        score = xgb_cross_validation_score(self.pipeline, X_train, y_train)\n",
    "        accuracy = score.mean()\n",
    "        return accuracy    \n",
    "\n",
    "    def risk_score(self, X_test):\n",
    "        risk_score =  xgb_risk_score(self, X_test)\n",
    "        return risk_score\n",
    "    "
   ]
  },
  {
   "cell_type": "code",
   "execution_count": null,
   "metadata": {},
   "outputs": [],
   "source": [
    "model = xgb_optuna()\n",
    "model = model.cross_validation(X_train, y_train,3)"
   ]
  },
  {
   "cell_type": "code",
   "execution_count": null,
   "metadata": {},
   "outputs": [],
   "source": [
    "score = xgb_cross_validation_score(self.pipeline, X_train, y_train)"
   ]
  },
  {
   "cell_type": "code",
   "execution_count": null,
   "metadata": {},
   "outputs": [],
   "source": [
    "from skopt import BayesSearchCV\n",
    "from sklearn.model_selection import RepeatedKFold\n",
    "            \n",
    "# define search space\n",
    "params = dict()\n",
    "params['estimator__learning_rate'] = (1e-2, 0.4, 'uniform')\n",
    "cv = RepeatedKFold(n_splits=10, n_repeats=3, random_state=1)\n",
    "search = BayesSearchCV(estimator=model.pipeline, search_spaces=params, n_jobs=-1, cv= cv)\n",
    "search.fit(X_train, y_train)"
   ]
  },
  {
   "attachments": {},
   "cell_type": "markdown",
   "metadata": {},
   "source": [
    "## Try Raytune"
   ]
  },
  {
   "cell_type": "code",
   "execution_count": null,
   "metadata": {},
   "outputs": [],
   "source": [
    "xgb_params = {\n",
    "    \"objective\": \"survival:aft\",\n",
    "    \"eval_metric\": \"aft-nloglik\",\n",
    "    \"aft_loss_distribution\": \"normal\",\n",
    "    \"aft_loss_distribution_scale\": trial.suggest_float('aft_loss_distribution_scale', 0.1, 10.0, log=True),\n",
    "    \"tree_method\": \"hist\",\n",
    "    \"learning_rate\": trial.suggest_float(\"learning_rate\", 1e-2, 1, log=True),\n",
    "    \"max_depth\": trial.suggest_int(\"max_depth\", 2, 12),\n",
    "    \"booster\": \"dart\",\n",
    "    \"subsample\": trial.suggest_float(\"subsample\", 0.4, 0.8, log=False),\n",
    "    \"alpha\": trial.suggest_float(\"alpha\", 0.01, 10.0, log=True),\n",
    "    \"lambda\": trial.suggest_float(\"lambda\", 1e-8, 10.0, log=True),\n",
    "    \"gamma\": trial.suggest_float(\"lambda\", 1e-8, 10.0, log=True),\n",
    "}\n",
    "pipeline_params = {\"pca_transformer__reduce_dim\": trial.suggest_categorical(\n",
    "    \"pca_transformer__reduce_dim\", ['passthrough', PCA(0.95), PCA(0.98)])}\n"
   ]
  },
  {
   "cell_type": "code",
   "execution_count": null,
   "metadata": {},
   "outputs": [],
   "source": [
    "from ray import tune\n",
    "\n",
    "# 1. Define an objective function.\n",
    "\n",
    "\n",
    "def objective(config):\n",
    "    score = config[\"a\"] ** 2 + config[\"b\"]\n",
    "    return {\"score\": score}\n",
    "\n",
    "\n",
    "# 2. Define a search space.\n",
    "search_space = {\n",
    "    \"aft_loss_distribution_scale\": tune.grid_search([0.1, 1, 10]),\n",
    "    \"b\": tune.choice([1, 2, 3]),\n",
    "}\n",
    "\n",
    "# 3. Start a Tune run and print the best result.\n",
    "tuner = tune.Tuner(objective, param_space=search_space)\n",
    "results = tuner.fit()\n",
    "print(results.get_best_result(metric=\"score\", mode=\"min\").config)\n"
   ]
  }
 ],
 "metadata": {
  "kernelspec": {
   "display_name": "DreamChallenge",
   "language": "python",
   "name": "python3"
  },
  "language_info": {
   "codemirror_mode": {
    "name": "ipython",
    "version": 3
   },
   "file_extension": ".py",
   "mimetype": "text/x-python",
   "name": "python",
   "nbconvert_exporter": "python",
   "pygments_lexer": "ipython3",
   "version": "3.10.8"
  },
  "orig_nbformat": 4,
  "vscode": {
   "interpreter": {
    "hash": "c2f6264fcac18067c6eb2dec2f7006d0269f273c79cd39ddca154e9ef6ba1e27"
   }
  }
 },
 "nbformat": 4,
 "nbformat_minor": 2
}
