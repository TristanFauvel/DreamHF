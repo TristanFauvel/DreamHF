{
 "cells": [
  {
   "cell_type": "code",
   "execution_count": 19,
   "metadata": {},
   "outputs": [],
   "source": [
    "import pandas as pd\n",
    "import numpy as np\n",
    "import matplotlib.pyplot as plt\n",
    "import seaborn as sns\n",
    "import pathlib\n",
    "import sklearn \n",
    "from sksurv.functions import StepFunction\n",
    "from sksurv.linear_model import CoxPHSurvivalAnalysis\n",
    "from sksurv.metrics import (\n",
    "    concordance_index_censored,\n",
    "    concordance_index_ipcw,\n",
    "    cumulative_dynamic_auc,\n",
    "    integrated_brier_score,\n",
    ")\n",
    "from sksurv.column import encode_categorical\n",
    "from sksurv.ensemble import RandomSurvivalForest"
   ]
  },
  {
   "cell_type": "code",
   "execution_count": 20,
   "metadata": {},
   "outputs": [],
   "source": [
    "from preprocessing import readcounts_processing_pipeline, pheno_processing_pipeline, prepare_train_test, remove_unique_columns\n",
    "from HosmerLemeshow import HosmerLemeshow, reformat_inputs\n",
    "pheno_df_train = pd.read_csv('./train/pheno_training.csv')\n",
    "pheno_df_train = pheno_processing_pipeline(pheno_df_train)\n",
    "\n",
    "pheno_df_test = pd.read_csv('./test/pheno_test.csv')\n",
    "pheno_df_test = pheno_processing_pipeline(pheno_df_test)\n",
    "\n",
    "readcounts_df_train = pd.read_csv('./train/readcounts_training.csv')\n",
    "readcounts_df_train = readcounts_processing_pipeline(readcounts_df_train)\n",
    "\n",
    "readcounts_df_test = pd.read_csv('./test/readcounts_test.csv')\n",
    "readcounts_df_test = readcounts_processing_pipeline(readcounts_df_test)\n"
   ]
  },
  {
   "cell_type": "markdown",
   "metadata": {},
   "source": [
    "## Start with a baseline model \n",
    "     "
   ]
  },
  {
   "cell_type": "code",
   "execution_count": 60,
   "metadata": {},
   "outputs": [],
   "source": [
    "pheno_df = pd.concat([pheno_df_train, pheno_df_test])\n",
    "pheno_df = pheno_df.loc[pheno_df.Event_time > 0]\n",
    "t0 = pheno_df['Event_time'].min()\n",
    "tf = pheno_df['Event_time'].max()\n",
    "\n",
    "times = np.linspace(t0, tf, 15)\n",
    "times = times[1:-1]"
   ]
  },
  {
   "cell_type": "code",
   "execution_count": 61,
   "metadata": {},
   "outputs": [
    {
     "data": {
      "text/plain": [
       "array([ 1.25614286,  2.39028571,  3.52442857,  4.65857143,  5.79271429,\n",
       "        6.92685714,  8.061     ,  9.19514286, 10.32928571, 11.46342857,\n",
       "       12.59757143, 13.73171429, 14.86585714])"
      ]
     },
     "execution_count": 61,
     "metadata": {},
     "output_type": "execute_result"
    }
   ],
   "source": [
    "times"
   ]
  },
  {
   "cell_type": "code",
   "execution_count": 62,
   "metadata": {},
   "outputs": [],
   "source": [
    "def test_base_model(base_model, X_train, X_test, y_train, y_test, times):\n",
    "    preds_train = base_model.predict(X_train)\n",
    "    preds_test = base_model.predict(X_test)\n",
    "    \n",
    "    #Harrel's concordance index C is defined as the proportion of observations that the model can order correctly in terms of survival times. \n",
    "    concordance_index_censored_train = concordance_index_censored(y_train[\"Event\"], y_train[\"Event_time\"], preds_train)\n",
    "\n",
    "    concordance_index_censored_test = concordance_index_censored(y_test[\"Event\"], y_test[\"Event_time\"], preds_test)\n",
    "    \n",
    "    #data_train = reformat_inputs(X_train, preds_train)\n",
    "    #HL_test = HosmerLemeshow(data_train, preds_train, Q=10)\n",
    "    #concordance_index_ipcw_train = concordance_index_ipcw(y_train, y_train, preds_train)\n",
    "    #cumulative_dynamic_auc_train = cumulative_dynamic_auc(y_train, y_train, preds_train, times)\n",
    "    \n",
    "     \n",
    "    survs = base_model.predict_survival_function(X_train)\n",
    "    \n",
    "    preds = np.asarray([[fn(t) for t in times] for fn in survs])\n",
    "    #integrated_brier_score_train = integrated_brier_score(y_train, y_train, preds, times)\n",
    "    integrated_brier_score_test = integrated_brier_score(y_train, y_test, preds, times)\n",
    "\n",
    "     \n",
    "    cumulative_dynamic_auc_test = [0] #cumulative_dynamic_auc(y_train, y_test, preds_test, times)\n",
    "    concordance_index_ipcw_test = [0]#concordance_index_ipcw(y_train, y_test, preds_test)\n",
    "     \n",
    "\n",
    "    concordance_index_ipcw_train = concordance_index_ipcw_test #############################\n",
    "    cumulative_dynamic_auc_train = cumulative_dynamic_auc_test #######################################################################\n",
    "    integrated_brier_score_train = integrated_brier_score_test ######################################################################\n",
    "    \n",
    "    result = {'Harrell_C_train':  concordance_index_censored_train[0], 'Harrell_C_test' : concordance_index_censored_test[0]}\n",
    "    \n",
    "    result_test = {'Harrell C': concordance_index_censored_test[0],\n",
    "              'Concordance index IPCW': concordance_index_ipcw_test[0],\n",
    "              #'Cumulative Dynamic AUC' : [cumulative_dynamic_auc_train, cumulative_dynamic_auc_test], \n",
    "              'Integrated Brier Score': integrated_brier_score_test}\n",
    " \n",
    "    #result = {'Harrell C': [concordance_index_censored_train[0], concordance_index_censored_test[0]], 'Concordance index IPCW': [concordance_index_ipcw_train[0], concordance_index_ipcw_test[0]],\n",
    "              #'Cumulative Dynamic AUC' : [cumulative_dynamic_auc_train, cumulative_dynamic_auc_test], \n",
    "            #  'Integrated Brier Score': [integrated_brier_score_train, integrated_brier_score_test]}\n",
    "    \n",
    "    return pd.DataFrame(result_test)"
   ]
  },
  {
   "cell_type": "code",
   "execution_count": null,
   "metadata": {},
   "outputs": [],
   "source": [
    "def plot_cumulative_dynamic_auc(risk_score, label, color=None):\n",
    "    auc, mean_auc = cumulative_dynamic_auc(y_train, y_test, risk_score, times)\n",
    "\n",
    "    plt.plot(times, auc, marker=\"o\", color=color, label=label)\n",
    "    plt.xlabel(\"days from enrollment\")\n",
    "    plt.ylabel(\"time-dependent AUC\")\n",
    "    plt.axhline(mean_auc, color=color, linestyle=\"--\")\n",
    "    plt.legend()"
   ]
  },
  {
   "cell_type": "markdown",
   "metadata": {},
   "source": [
    "### Cox model with only Age + Sex covariates"
   ]
  },
  {
   "cell_type": "code",
   "execution_count": 63,
   "metadata": {},
   "outputs": [
    {
     "name": "stderr",
     "output_type": "stream",
     "text": [
      "/home/tristan/anaconda3/envs/ml/lib/python3.7/site-packages/sklearn/base.py:566: FutureWarning: Arrays of bytes/strings is being converted to decimal numbers if dtype='numeric'. This behavior is deprecated in 0.24 and will be removed in 1.1 (renaming of 0.26). Please convert your data to numeric values explicitly instead.\n",
      "  X = check_array(X, **check_params)\n",
      "/home/tristan/anaconda3/envs/ml/lib/python3.7/site-packages/sklearn/base.py:566: FutureWarning: Arrays of bytes/strings is being converted to decimal numbers if dtype='numeric'. This behavior is deprecated in 0.24 and will be removed in 1.1 (renaming of 0.26). Please convert your data to numeric values explicitly instead.\n",
      "  X = check_array(X, **check_params)\n",
      "/home/tristan/anaconda3/envs/ml/lib/python3.7/site-packages/sklearn/base.py:566: FutureWarning: Arrays of bytes/strings is being converted to decimal numbers if dtype='numeric'. This behavior is deprecated in 0.24 and will be removed in 1.1 (renaming of 0.26). Please convert your data to numeric values explicitly instead.\n",
      "  X = check_array(X, **check_params)\n",
      "/home/tristan/anaconda3/envs/ml/lib/python3.7/site-packages/sklearn/base.py:566: FutureWarning: Arrays of bytes/strings is being converted to decimal numbers if dtype='numeric'. This behavior is deprecated in 0.24 and will be removed in 1.1 (renaming of 0.26). Please convert your data to numeric values explicitly instead.\n",
      "  X = check_array(X, **check_params)\n"
     ]
    },
    {
     "data": {
      "text/html": [
       "<div>\n",
       "<style scoped>\n",
       "    .dataframe tbody tr th:only-of-type {\n",
       "        vertical-align: middle;\n",
       "    }\n",
       "\n",
       "    .dataframe tbody tr th {\n",
       "        vertical-align: top;\n",
       "    }\n",
       "\n",
       "    .dataframe thead th {\n",
       "        text-align: right;\n",
       "    }\n",
       "</style>\n",
       "<table border=\"1\" class=\"dataframe\">\n",
       "  <thead>\n",
       "    <tr style=\"text-align: right;\">\n",
       "      <th></th>\n",
       "      <th>Harrell C</th>\n",
       "      <th>Concordance index IPCW</th>\n",
       "      <th>Cumulative Dynamic AUC</th>\n",
       "      <th>Integrated Brier Score</th>\n",
       "    </tr>\n",
       "  </thead>\n",
       "  <tbody>\n",
       "    <tr>\n",
       "      <th>0</th>\n",
       "      <td>0.712404</td>\n",
       "      <td>0</td>\n",
       "      <td>[0]</td>\n",
       "      <td>0.01323</td>\n",
       "    </tr>\n",
       "    <tr>\n",
       "      <th>1</th>\n",
       "      <td>0.720504</td>\n",
       "      <td>0</td>\n",
       "      <td>[0]</td>\n",
       "      <td>0.01323</td>\n",
       "    </tr>\n",
       "  </tbody>\n",
       "</table>\n",
       "</div>"
      ],
      "text/plain": [
       "   Harrell C  Concordance index IPCW Cumulative Dynamic AUC  \\\n",
       "0   0.712404                       0                    [0]   \n",
       "1   0.720504                       0                    [0]   \n",
       "\n",
       "   Integrated Brier Score  \n",
       "0                 0.01323  \n",
       "1                 0.01323  "
      ]
     },
     "execution_count": 63,
     "metadata": {},
     "output_type": "execute_result"
    }
   ],
   "source": [
    "base_model = CoxPHSurvivalAnalysis(alpha=0, ties='breslow', n_iter=100, tol=1e-09, verbose=0)\n",
    "  \n",
    "covariates = ['Sex=1', 'Age']\n",
    "\n",
    "X_train, X_test, y_train, y_test = prepare_train_test(pheno_df_train, pheno_df_test, covariates)\n",
    "\n",
    "base_model.fit(X_train, y_train)\n",
    "\n",
    "test_base_model(base_model, X_train, X_test, y_train, y_test, times)"
   ]
  },
  {
   "cell_type": "markdown",
   "metadata": {},
   "source": [
    "Plot the estimated survival function"
   ]
  },
  {
   "cell_type": "code",
   "execution_count": 5,
   "metadata": {},
   "outputs": [
    {
     "name": "stderr",
     "output_type": "stream",
     "text": [
      "/home/tristan/anaconda3/envs/ml/lib/python3.7/site-packages/sklearn/base.py:566: FutureWarning: Arrays of bytes/strings is being converted to decimal numbers if dtype='numeric'. This behavior is deprecated in 0.24 and will be removed in 1.1 (renaming of 0.26). Please convert your data to numeric values explicitly instead.\n",
      "  X = check_array(X, **check_params)\n"
     ]
    },
    {
     "data": {
      "image/png": "[encoded data removed]",
      "text/plain": [
       "<Figure size 640x480 with 1 Axes>"
      ]
     },
     "metadata": {},
     "output_type": "display_data"
    }
   ],
   "source": [
    "S = base_model.predict_survival_function(X_train)\n",
    "\n",
    "for fn in S:\n",
    "    plt.step(fn.x, fn(fn.x), where=\"post\")\n",
    "plt.ylim(0, 1)\n",
    "plt.show()"
   ]
  },
  {
   "cell_type": "markdown",
   "metadata": {},
   "source": [
    "### Cox model with all clinical covariates"
   ]
  },
  {
   "cell_type": "code",
   "execution_count": 68,
   "metadata": {},
   "outputs": [
    {
     "name": "stderr",
     "output_type": "stream",
     "text": [
      "/home/tristan/anaconda3/envs/ml/lib/python3.7/site-packages/sklearn/base.py:566: FutureWarning: Arrays of bytes/strings is being converted to decimal numbers if dtype='numeric'. This behavior is deprecated in 0.24 and will be removed in 1.1 (renaming of 0.26). Please convert your data to numeric values explicitly instead.\n",
      "  X = check_array(X, **check_params)\n",
      "/home/tristan/anaconda3/envs/ml/lib/python3.7/site-packages/sklearn/base.py:566: FutureWarning: Arrays of bytes/strings is being converted to decimal numbers if dtype='numeric'. This behavior is deprecated in 0.24 and will be removed in 1.1 (renaming of 0.26). Please convert your data to numeric values explicitly instead.\n",
      "  X = check_array(X, **check_params)\n",
      "/home/tristan/anaconda3/envs/ml/lib/python3.7/site-packages/sklearn/base.py:566: FutureWarning: Arrays of bytes/strings is being converted to decimal numbers if dtype='numeric'. This behavior is deprecated in 0.24 and will be removed in 1.1 (renaming of 0.26). Please convert your data to numeric values explicitly instead.\n",
      "  X = check_array(X, **check_params)\n",
      "/home/tristan/anaconda3/envs/ml/lib/python3.7/site-packages/sklearn/base.py:566: FutureWarning: Arrays of bytes/strings is being converted to decimal numbers if dtype='numeric'. This behavior is deprecated in 0.24 and will be removed in 1.1 (renaming of 0.26). Please convert your data to numeric values explicitly instead.\n",
      "  X = check_array(X, **check_params)\n"
     ]
    },
    {
     "data": {
      "text/html": [
       "<div>\n",
       "<style scoped>\n",
       "    .dataframe tbody tr th:only-of-type {\n",
       "        vertical-align: middle;\n",
       "    }\n",
       "\n",
       "    .dataframe tbody tr th {\n",
       "        vertical-align: top;\n",
       "    }\n",
       "\n",
       "    .dataframe thead th {\n",
       "        text-align: right;\n",
       "    }\n",
       "</style>\n",
       "<table border=\"1\" class=\"dataframe\">\n",
       "  <thead>\n",
       "    <tr style=\"text-align: right;\">\n",
       "      <th></th>\n",
       "      <th>Harrell C</th>\n",
       "      <th>Concordance index IPCW</th>\n",
       "      <th>Cumulative Dynamic AUC</th>\n",
       "      <th>Integrated Brier Score</th>\n",
       "    </tr>\n",
       "  </thead>\n",
       "  <tbody>\n",
       "    <tr>\n",
       "      <th>0</th>\n",
       "      <td>0.715808</td>\n",
       "      <td>0</td>\n",
       "      <td>[0]</td>\n",
       "      <td>0.013283</td>\n",
       "    </tr>\n",
       "    <tr>\n",
       "      <th>1</th>\n",
       "      <td>0.708009</td>\n",
       "      <td>0</td>\n",
       "      <td>[0]</td>\n",
       "      <td>0.013283</td>\n",
       "    </tr>\n",
       "  </tbody>\n",
       "</table>\n",
       "</div>"
      ],
      "text/plain": [
       "   Harrell C  Concordance index IPCW Cumulative Dynamic AUC  \\\n",
       "0   0.715808                       0                    [0]   \n",
       "1   0.708009                       0                    [0]   \n",
       "\n",
       "   Integrated Brier Score  \n",
       "0                0.013283  \n",
       "1                0.013283  "
      ]
     },
     "execution_count": 68,
     "metadata": {},
     "output_type": "execute_result"
    }
   ],
   "source": [
    "base_model = CoxPHSurvivalAnalysis(alpha=0, ties='breslow', n_iter=100, tol=1e-09, verbose=0)\n",
    "\n",
    "covariates = ['Age', 'BodyMassIndex', 'Smoking=1', 'BPTreatment=1',\n",
    "       'PrevalentDiabetes=1', 'PrevalentCHD=1', 'SystolicBP', 'NonHDLcholesterol', 'Sex=1']\n",
    "\n",
    "X_train, X_test, y_train, y_test = prepare_train_test(pheno_df_train, pheno_df_test, covariates)\n",
    "\n",
    "base_model.fit(X_train, y_train)\n",
    "\n",
    "test_base_model(base_model, X_train, X_test, y_train, y_test, times)"
   ]
  },
  {
   "cell_type": "markdown",
   "metadata": {},
   "source": [
    "### Random forest survival model with all clinical covariates + microbiome data"
   ]
  },
  {
   "cell_type": "code",
   "execution_count": 7,
   "metadata": {},
   "outputs": [],
   "source": [
    "readcounts_df_train, readcounts_df_test = remove_unique_columns(readcounts_df_train, readcounts_df_test)"
   ]
  },
  {
   "cell_type": "code",
   "execution_count": 69,
   "metadata": {},
   "outputs": [
    {
     "name": "stderr",
     "output_type": "stream",
     "text": [
      "/home/tristan/anaconda3/envs/ml/lib/python3.7/site-packages/sklearn/base.py:566: FutureWarning: Arrays of bytes/strings is being converted to decimal numbers if dtype='numeric'. This behavior is deprecated in 0.24 and will be removed in 1.1 (renaming of 0.26). Please convert your data to numeric values explicitly instead.\n",
      "  X = check_array(X, **check_params)\n"
     ]
    },
    {
     "data": {
      "text/html": [
       "<div>\n",
       "<style scoped>\n",
       "    .dataframe tbody tr th:only-of-type {\n",
       "        vertical-align: middle;\n",
       "    }\n",
       "\n",
       "    .dataframe tbody tr th {\n",
       "        vertical-align: top;\n",
       "    }\n",
       "\n",
       "    .dataframe thead th {\n",
       "        text-align: right;\n",
       "    }\n",
       "</style>\n",
       "<table border=\"1\" class=\"dataframe\">\n",
       "  <thead>\n",
       "    <tr style=\"text-align: right;\">\n",
       "      <th></th>\n",
       "      <th>Harrell C</th>\n",
       "      <th>Concordance index IPCW</th>\n",
       "      <th>Cumulative Dynamic AUC</th>\n",
       "      <th>Integrated Brier Score</th>\n",
       "    </tr>\n",
       "  </thead>\n",
       "  <tbody>\n",
       "    <tr>\n",
       "      <th>0</th>\n",
       "      <td>0.995276</td>\n",
       "      <td>0</td>\n",
       "      <td>[0]</td>\n",
       "      <td>0.011409</td>\n",
       "    </tr>\n",
       "    <tr>\n",
       "      <th>1</th>\n",
       "      <td>0.970867</td>\n",
       "      <td>0</td>\n",
       "      <td>[0]</td>\n",
       "      <td>0.011409</td>\n",
       "    </tr>\n",
       "  </tbody>\n",
       "</table>\n",
       "</div>"
      ],
      "text/plain": [
       "   Harrell C  Concordance index IPCW Cumulative Dynamic AUC  \\\n",
       "0   0.995276                       0                    [0]   \n",
       "1   0.970867                       0                    [0]   \n",
       "\n",
       "   Integrated Brier Score  \n",
       "0                0.011409  \n",
       "1                0.011409  "
      ]
     },
     "execution_count": 69,
     "metadata": {},
     "output_type": "execute_result"
    }
   ],
   "source": [
    "df_train = pheno_df_train.join(readcounts_df_train)\n",
    "df_test = pheno_df_test.join(readcounts_df_test)\n",
    "base_model = RandomSurvivalForest(n_estimators=100, max_depth=None, min_samples_split=6, min_samples_leaf=3)  \n",
    "\n",
    "covariates = df_train.columns                   \n",
    "X_train, X_test, y_train, y_test = prepare_train_test(df_train, df_test, covariates)\n",
    "\n",
    "base_model.fit(X_train, y_train)\n",
    "\n",
    "test_base_model(base_model, X_train, X_test, y_train, y_test, times)"
   ]
  },
  {
   "cell_type": "code",
   "execution_count": 9,
   "metadata": {},
   "outputs": [
    {
     "ename": "AttributeError",
     "evalue": "'numpy.ndarray' object has no attribute 'p1'",
     "output_type": "error",
     "traceback": [
      "\u001b[0;31m---------------------------------------------------------------------------\u001b[0m",
      "\u001b[0;31mAttributeError\u001b[0m                            Traceback (most recent call last)",
      "\u001b[0;32m/tmp/ipykernel_31115/1853452762.py\u001b[0m in \u001b[0;36m<module>\u001b[0;34m\u001b[0m\n\u001b[1;32m      1\u001b[0m \u001b[0mpreds_train\u001b[0m \u001b[0;34m=\u001b[0m \u001b[0mbase_model\u001b[0m\u001b[0;34m.\u001b[0m\u001b[0mpredict\u001b[0m\u001b[0;34m(\u001b[0m\u001b[0mX_train\u001b[0m\u001b[0;34m)\u001b[0m\u001b[0;34m\u001b[0m\u001b[0;34m\u001b[0m\u001b[0m\n\u001b[1;32m      2\u001b[0m \u001b[0mdata\u001b[0m \u001b[0;34m=\u001b[0m \u001b[0mreformat_inputs\u001b[0m\u001b[0;34m(\u001b[0m\u001b[0mX_train\u001b[0m\u001b[0;34m,\u001b[0m \u001b[0mpreds_train\u001b[0m\u001b[0;34m)\u001b[0m\u001b[0;34m\u001b[0m\u001b[0;34m\u001b[0m\u001b[0m\n\u001b[0;32m----> 3\u001b[0;31m \u001b[0mHL_test\u001b[0m \u001b[0;34m=\u001b[0m \u001b[0mHosmerLemeshow\u001b[0m\u001b[0;34m(\u001b[0m\u001b[0mdata\u001b[0m\u001b[0;34m,\u001b[0m \u001b[0mpreds_train\u001b[0m\u001b[0;34m,\u001b[0m \u001b[0mQ\u001b[0m\u001b[0;34m=\u001b[0m\u001b[0;36m10\u001b[0m\u001b[0;34m)\u001b[0m\u001b[0;34m\u001b[0m\u001b[0;34m\u001b[0m\u001b[0m\n\u001b[0m",
      "\u001b[0;32m~/Desktop/DreamHF/HosmerLemeshow.py\u001b[0m in \u001b[0;36mHosmerLemeshow\u001b[0;34m(data, predictions, Q)\u001b[0m\n\u001b[1;32m     56\u001b[0m     \u001b[0my1\u001b[0m \u001b[0;34m=\u001b[0m \u001b[0mdata\u001b[0m\u001b[0;34m.\u001b[0m\u001b[0mn1\u001b[0m\u001b[0;34m\u001b[0m\u001b[0;34m\u001b[0m\u001b[0m\n\u001b[1;32m     57\u001b[0m     \u001b[0mn\u001b[0m \u001b[0;34m=\u001b[0m \u001b[0mdata\u001b[0m\u001b[0;34m.\u001b[0m\u001b[0mn\u001b[0m\u001b[0;34m\u001b[0m\u001b[0;34m\u001b[0m\u001b[0m\n\u001b[0;32m---> 58\u001b[0;31m     \u001b[0mexpected_prop\u001b[0m \u001b[0;34m=\u001b[0m \u001b[0mpredictions\u001b[0m\u001b[0;34m.\u001b[0m\u001b[0mp1\u001b[0m\u001b[0;34m\u001b[0m\u001b[0;34m\u001b[0m\u001b[0m\n\u001b[0m\u001b[1;32m     59\u001b[0m     \u001b[0;32mfor\u001b[0m \u001b[0mi\u001b[0m \u001b[0;32min\u001b[0m \u001b[0mrange\u001b[0m\u001b[0;34m(\u001b[0m\u001b[0mQ\u001b[0m\u001b[0;34m)\u001b[0m\u001b[0;34m:\u001b[0m\u001b[0;34m\u001b[0m\u001b[0;34m\u001b[0m\u001b[0m\n\u001b[1;32m     60\u001b[0m \u001b[0;34m\u001b[0m\u001b[0m\n",
      "\u001b[0;31mAttributeError\u001b[0m: 'numpy.ndarray' object has no attribute 'p1'"
     ]
    }
   ],
   "source": [
    "preds_train = base_model.predict(X_train)\n",
    "data = reformat_inputs(X_train, preds_train)\n",
    "HL_test = HosmerLemeshow(data, preds_train, Q=10)"
   ]
  },
  {
   "cell_type": "markdown",
   "metadata": {},
   "source": [
    "correct adjustment for the age at\n",
    "entry is crucial in reducing bias of the estimated\n",
    "coefficients.Using “age-as-the-time scale”\n",
    "instead of “time-on-follow-up”\n",
    "Reason: account for left trun-\n",
    "cation of age\n",
    "Cox PH model that adjusts for\n",
    "age truncation:"
   ]
  },
  {
   "cell_type": "code",
   "execution_count": 11,
   "metadata": {},
   "outputs": [
    {
     "ename": "ModuleNotFoundError",
     "evalue": "No module named 'rpy2'",
     "output_type": "error",
     "traceback": [
      "\u001b[0;31m---------------------------------------------------------------------------\u001b[0m",
      "\u001b[0;31mModuleNotFoundError\u001b[0m                       Traceback (most recent call last)",
      "\u001b[0;32m/tmp/ipykernel_31115/2589050058.py\u001b[0m in \u001b[0;36m<module>\u001b[0;34m\u001b[0m\n\u001b[0;32m----> 1\u001b[0;31m \u001b[0;32mimport\u001b[0m \u001b[0mrpy2\u001b[0m\u001b[0;34m.\u001b[0m\u001b[0mrobjects\u001b[0m \u001b[0;32mas\u001b[0m \u001b[0mro\u001b[0m\u001b[0;34m\u001b[0m\u001b[0;34m\u001b[0m\u001b[0m\n\u001b[0m\u001b[1;32m      2\u001b[0m \u001b[0mpath\u001b[0m\u001b[0;34m=\u001b[0m\u001b[0;34m'./src/hosmerTest.R'\u001b[0m\u001b[0;34m\u001b[0m\u001b[0;34m\u001b[0m\u001b[0m\n\u001b[1;32m      3\u001b[0m \u001b[0;34m\u001b[0m\u001b[0m\n\u001b[1;32m      4\u001b[0m \u001b[0;32mdef\u001b[0m \u001b[0mfunction1\u001b[0m\u001b[0;34m(\u001b[0m\u001b[0minput\u001b[0m\u001b[0;34m,\u001b[0m\u001b[0moutput\u001b[0m\u001b[0;34m)\u001b[0m\u001b[0;34m:\u001b[0m\u001b[0;34m\u001b[0m\u001b[0;34m\u001b[0m\u001b[0m\n\u001b[1;32m      5\u001b[0m     \u001b[0mr\u001b[0m\u001b[0;34m=\u001b[0m\u001b[0mro\u001b[0m\u001b[0;34m.\u001b[0m\u001b[0mr\u001b[0m\u001b[0;34m\u001b[0m\u001b[0;34m\u001b[0m\u001b[0m\n",
      "\u001b[0;31mModuleNotFoundError\u001b[0m: No module named 'rpy2'"
     ]
    }
   ],
   "source": [
    "import rpy2.robjects as ro\n",
    "path='./src/hosmerTest.R'\n",
    "\n",
    "def function1(input,output):\n",
    "    r=ro.r\n",
    "    r.source(path+\"rtest.R\")\n",
    "    p=r.rtest(input,output)\n",
    "    return p"
   ]
  },
  {
   "cell_type": "code",
   "execution_count": null,
   "metadata": {},
   "outputs": [],
   "source": []
  }
 ],
 "metadata": {
  "kernelspec": {
   "display_name": "Python 3.7.13 ('ml')",
   "language": "python",
   "name": "python3"
  },
  "language_info": {
   "codemirror_mode": {
    "name": "ipython",
    "version": 3
   },
   "file_extension": ".py",
   "mimetype": "text/x-python",
   "name": "python",
   "nbconvert_exporter": "python",
   "pygments_lexer": "ipython3",
   "version": "3.7.13"
  },
  "orig_nbformat": 4,
  "vscode": {
   "interpreter": {
    "hash": "10e2f20e579521ab8440449af66a589b7bed808e19e449c8ac839f4aee243b16"
   }
  }
 },
 "nbformat": 4,
 "nbformat_minor": 2
}
