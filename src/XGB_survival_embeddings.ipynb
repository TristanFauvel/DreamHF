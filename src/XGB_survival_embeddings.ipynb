{
 "cells": [
  {
   "cell_type": "code",
   "execution_count": 1,
   "metadata": {},
   "outputs": [],
   "source": [
    "import pandas as pd\n",
    "import numpy as np\n",
    "import matplotlib.pyplot as plt\n",
    "import seaborn as sns\n",
    "import pathlib\n",
    "import sklearn \n",
    "from sksurv.functions import StepFunction\n",
    "from sksurv.linear_model import CoxPHSurvivalAnalysis\n",
    "from sksurv.metrics import cumulative_dynamic_auc \n",
    "from model_evaluation import evaluate_model\n",
    "from sksurv.column import encode_categorical\n",
    "from sksurv.ensemble import RandomSurvivalForest\n",
    "from dotenv import load_dotenv\n",
    "from pipeline import create_pipeline\n",
    "from preprocessing import prepare_train_test\n",
    "import os\n",
    "from xgbse import XGBSEKaplanNeighbors, XGBSEDebiasedBCE,XGBSEStackedWeibull\n",
    "from xgbse.converters import convert_to_structured\n",
    "# importing metrics\n",
    "from xgbse.metrics import (\n",
    "    concordance_index,\n",
    "    approx_brier_score,\n",
    "    dist_calibration_score\n",
    ")"
   ]
  },
  {
   "cell_type": "code",
   "execution_count": 2,
   "metadata": {},
   "outputs": [],
   "source": [
    "load_dotenv()\n",
    "root = os.environ.get(\"root_folder\")\n",
    "\n",
    "from preprocessing import load_data\n",
    "\n",
    "pheno_df_train, pheno_df_test, readcounts_df_train, readcounts_df_test = load_data(root)\n"
   ]
  },
  {
   "cell_type": "code",
   "execution_count": 7,
   "metadata": {},
   "outputs": [],
   "source": [
    " \n",
    "covariates = ['Sex', 'Age']\n",
    "#covariates = ['Age', 'BodyMassIndex', 'Smoking', 'BPTreatment','SystolicBP', 'NonHDLcholesterol']\n",
    "\n",
    "X_train, X_test, y_train, y_test, test_sample_ids = prepare_train_test(pheno_df_train, pheno_df_test, covariates)\n"
   ]
  },
  {
   "cell_type": "code",
   "execution_count": 4,
   "metadata": {},
   "outputs": [],
   "source": [
    "# Select all covariates\n",
    "# df_train = pheno_df_train.join(readcounts_df_train)\n",
    "#df_test = pheno_df_test.join(readcounts_df_test)\n",
    "#selection = (df_train.columns != 'Event') & (df_train.columns != 'Event_time')\n",
    "#covariates = df_train.columns[selection]\n",
    "#X_train, X_test, y_train, y_test, test_sample_ids = prepare_train_test(pheno_df_train, pheno_df_test, covariates)\n"
   ]
  },
  {
   "cell_type": "code",
   "execution_count": 8,
   "metadata": {},
   "outputs": [
    {
     "data": {
      "text/html": [
       "<div>\n",
       "<style scoped>\n",
       "    .dataframe tbody tr th:only-of-type {\n",
       "        vertical-align: middle;\n",
       "    }\n",
       "\n",
       "    .dataframe tbody tr th {\n",
       "        vertical-align: top;\n",
       "    }\n",
       "\n",
       "    .dataframe thead th {\n",
       "        text-align: right;\n",
       "    }\n",
       "</style>\n",
       "<table border=\"1\" class=\"dataframe\">\n",
       "  <thead>\n",
       "    <tr style=\"text-align: right;\">\n",
       "      <th></th>\n",
       "      <th>Harrell C</th>\n",
       "      <th>Concordance index IPCW</th>\n",
       "    </tr>\n",
       "  </thead>\n",
       "  <tbody>\n",
       "    <tr>\n",
       "      <th>train</th>\n",
       "      <td>0.735132</td>\n",
       "      <td>0.691686</td>\n",
       "    </tr>\n",
       "    <tr>\n",
       "      <th>test</th>\n",
       "      <td>0.722202</td>\n",
       "      <td>0.661502</td>\n",
       "    </tr>\n",
       "  </tbody>\n",
       "</table>\n",
       "</div>"
      ],
      "text/plain": [
       "       Harrell C  Concordance index IPCW\n",
       "train   0.735132                0.691686\n",
       "test    0.722202                0.661502"
      ]
     },
     "execution_count": 8,
     "metadata": {},
     "output_type": "execute_result"
    }
   ],
   "source": [
    "from xgboost_wrapper import XGBS \n",
    "xgb_params={'aft_loss_distribution': 'normal',\n",
    "            'aft_loss_distribution_scale': 1,\n",
    "            'booster': 'dart',\n",
    "            'colsample_bynode': 0.5,\n",
    "            'eval_metric': 'aft-nloglik',\n",
    "            'learning_rate': 0.05,\n",
    "            'max_depth': 8,\n",
    "            'min_child_weight': 50,\n",
    "            'objective': 'survival:aft',\n",
    "            'subsample': 0.5,\n",
    "            'tree_method': 'hist'}                                  \n",
    "                                  \n",
    "# fitting with early stopping\n",
    "xgb_model = XGBS()  \n",
    "\n",
    "model = create_pipeline(xgb_model)\n",
    "model.fit(X_train, y_train) #, num_boost_round=1000, validation_data=None, early_stopping_rounds=None, verbose_eval=0)\n",
    "\n",
    "# predicting\n",
    "preds = model.predict(X_test)\n",
    "\n",
    "from model_evaluation import evaluate_xgb_model \n",
    "\n",
    "evaluate_xgb_model(model, X_train, X_test, y_train, y_test)\n"
   ]
  },
  {
   "cell_type": "code",
   "execution_count": 9,
   "metadata": {},
   "outputs": [
    {
     "name": "stdout",
     "output_type": "stream",
     "text": [
      "C-index: 0.7122934941271162\n",
      "Avg. Brier Score: 0.014045313691248828\n",
      "D-Calibration: True\n"
     ]
    }
   ],
   "source": [
    "xgb_params={'aft_loss_distribution': 'normal',\n",
    "                                'aft_loss_distribution_scale': 1,\n",
    "                                'booster': 'dart', 'colsample_bynode': 0.5,\n",
    "                                'eval_metric': 'aft-nloglik',\n",
    "                                'learning_rate': 0.05, 'max_depth': 8,\n",
    "                                'min_child_weight': 50,\n",
    "                                'objective': 'survival:aft', 'subsample': 0.5,\n",
    "                                'tree_method': 'hist'}\n",
    "# fitting with early stopping\n",
    "xgb_model = XGBSEStackedWeibull(xgb_params)\n",
    "\n",
    "model = create_pipeline(xgb_model)\n",
    "model.fit(X_train, y_train)\n",
    "\n",
    "# predicting\n",
    "preds = model.predict(X_test)\n",
    "\n",
    "\n",
    "# running metrics\n",
    "print(f'C-index: {concordance_index(y_test, preds)}')\n",
    "print(f'Avg. Brier Score: {approx_brier_score(y_test, preds)}')\n",
    "print(f\"\"\"D-Calibration: {dist_calibration_score(y_test, preds) > 0.05}\"\"\")"
   ]
  },
  {
   "cell_type": "code",
   "execution_count": 14,
   "metadata": {},
   "outputs": [
    {
     "data": {
      "text/html": [
       "<div>\n",
       "<style scoped>\n",
       "    .dataframe tbody tr th:only-of-type {\n",
       "        vertical-align: middle;\n",
       "    }\n",
       "\n",
       "    .dataframe tbody tr th {\n",
       "        vertical-align: top;\n",
       "    }\n",
       "\n",
       "    .dataframe thead th {\n",
       "        text-align: right;\n",
       "    }\n",
       "</style>\n",
       "<table border=\"1\" class=\"dataframe\">\n",
       "  <thead>\n",
       "    <tr style=\"text-align: right;\">\n",
       "      <th></th>\n",
       "      <th>Harrell C</th>\n",
       "      <th>Concordance index IPCW</th>\n",
       "    </tr>\n",
       "  </thead>\n",
       "  <tbody>\n",
       "    <tr>\n",
       "      <th>train</th>\n",
       "      <td>0.714462</td>\n",
       "      <td>0.652576</td>\n",
       "    </tr>\n",
       "    <tr>\n",
       "      <th>test</th>\n",
       "      <td>0.719830</td>\n",
       "      <td>0.660205</td>\n",
       "    </tr>\n",
       "  </tbody>\n",
       "</table>\n",
       "</div>"
      ],
      "text/plain": [
       "       Harrell C  Concordance index IPCW\n",
       "train   0.714462                0.652576\n",
       "test    0.719830                0.660205"
      ]
     },
     "execution_count": 14,
     "metadata": {},
     "output_type": "execute_result"
    }
   ],
   "source": [
    "from model_evaluation import evaluate_xgbse_model\n",
    "\n",
    "evaluate_xgbse_models(model, X_train, X_test, y_train, y_test)"
   ]
  }
 ],
 "metadata": {
  "kernelspec": {
   "display_name": "Python 3.7.13 ('ml')",
   "language": "python",
   "name": "python3"
  },
  "language_info": {
   "codemirror_mode": {
    "name": "ipython",
    "version": 3
   },
   "file_extension": ".py",
   "mimetype": "text/x-python",
   "name": "python",
   "nbconvert_exporter": "python",
   "pygments_lexer": "ipython3",
   "version": "3.7.13"
  },
  "orig_nbformat": 4,
  "vscode": {
   "interpreter": {
    "hash": "10e2f20e579521ab8440449af66a589b7bed808e19e449c8ac839f4aee243b16"
   }
  }
 },
 "nbformat": 4,
 "nbformat_minor": 2
}
