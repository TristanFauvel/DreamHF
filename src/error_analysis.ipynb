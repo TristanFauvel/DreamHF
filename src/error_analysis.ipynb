{
 "cells": [
  {
   "cell_type": "code",
   "execution_count": 1,
   "metadata": {},
   "outputs": [
    {
     "name": "stderr",
     "output_type": "stream",
     "text": [
      "/home/tristan/anaconda3/envs/DreamChallenge/lib/python3.10/site-packages/tqdm/auto.py:22: TqdmWarning: IProgress not found. Please update jupyter and ipywidgets. See https://ipywidgets.readthedocs.io/en/stable/user_install.html\n",
      "  from .autonotebook import tqdm as notebook_tqdm\n",
      "<frozen importlib._bootstrap>:241: RuntimeWarning: sklearn.tree._criterion.Criterion size changed, may indicate binary incompatibility. Expected 328 from C header, got 528 from PyObject\n",
      "<frozen importlib._bootstrap>:241: RuntimeWarning: sklearn.tree._splitter.Splitter size changed, may indicate binary incompatibility. Expected 1160 from C header, got 1360 from PyObject\n",
      "<frozen importlib._bootstrap>:241: RuntimeWarning: sklearn.tree._criterion.ClassificationCriterion size changed, may indicate binary incompatibility. Expected 1168 from C header, got 1368 from PyObject\n",
      "<frozen importlib._bootstrap>:241: RuntimeWarning: sklearn.tree._criterion.RegressionCriterion size changed, may indicate binary incompatibility. Expected 960 from C header, got 1160 from PyObject\n"
     ]
    },
    {
     "name": "stdout",
     "output_type": "stream",
     "text": [
      "Loading the data...\n"
     ]
    }
   ],
   "source": [
    "# This is the model submitted for evaluation in the challenge\n",
    "# %%\n",
    "# from preprocessing import load_data, Salosensaari_processing\n",
    "import matplotlib.pyplot as plt\n",
    "import wandb\n",
    "import os\n",
    "import pickle\n",
    "import random\n",
    "import sys\n",
    "\n",
    "from pipeline import postprocessing\n",
    "from preprocessing import (\n",
    "    CLINICAL_COVARIATES,\n",
    "    Salosensaari_processing,\n",
    "    clr_processing,\n",
    "    load_data,\n",
    "    taxa_selection,\n",
    ")\n",
    "from survival_models import CoxPH, sksurv_gbt, xgb_aft, xgb_optuna, xgbse_weibull\n",
    "\n",
    "random.seed(10)\n",
    "\n",
    "arguments = sys.argv\n",
    "\n",
    "\n",
    "arguments = [0, '/home/tristan/Desktop/Repos/DreamHF']\n",
    "ROOT = arguments[1]\n",
    "\n",
    "print(\"Loading the data...\")\n",
    "pheno_df_train, pheno_df_test, readcounts_df_train, readcounts_df_test = load_data(\n",
    "    ROOT)\n",
    "\n"
   ]
  },
  {
   "cell_type": "code",
   "execution_count": 4,
   "metadata": {},
   "outputs": [
    {
     "name": "stdout",
     "output_type": "stream",
     "text": [
      "Processing the data...\n",
      "Search for optimal hyperparameters...\n",
      "Fitting 5 folds for each of 10 candidates, totalling 50 fits\n"
     ]
    },
    {
     "name": "stderr",
     "output_type": "stream",
     "text": [
      "<frozen importlib._bootstrap>:241: RuntimeWarning: sklearn.tree._criterion.Criterion size changed, may indicate binary incompatibility. Expected 328 from C header, got 528 from PyObject\n",
      "<frozen importlib._bootstrap>:241: RuntimeWarning: sklearn.tree._splitter.Splitter size changed, may indicate binary incompatibility. Expected 1160 from C header, got 1360 from PyObject\n",
      "<frozen importlib._bootstrap>:241: RuntimeWarning: sklearn.tree._criterion.ClassificationCriterion size changed, may indicate binary incompatibility. Expected 1168 from C header, got 1368 from PyObject\n",
      "<frozen importlib._bootstrap>:241: RuntimeWarning: sklearn.tree._criterion.RegressionCriterion size changed, may indicate binary incompatibility. Expected 960 from C header, got 1160 from PyObject\n",
      "<frozen importlib._bootstrap>:241: RuntimeWarning: sklearn.tree._criterion.Criterion size changed, may indicate binary incompatibility. Expected 328 from C header, got 528 from PyObject\n",
      "<frozen importlib._bootstrap>:241: RuntimeWarning: sklearn.tree._splitter.Splitter size changed, may indicate binary incompatibility. Expected 1160 from C header, got 1360 from PyObject\n",
      "<frozen importlib._bootstrap>:241: RuntimeWarning: sklearn.tree._criterion.ClassificationCriterion size changed, may indicate binary incompatibility. Expected 1168 from C header, got 1368 from PyObject\n",
      "<frozen importlib._bootstrap>:241: RuntimeWarning: sklearn.tree._criterion.RegressionCriterion size changed, may indicate binary incompatibility. Expected 960 from C header, got 1160 from PyObject\n",
      "<frozen importlib._bootstrap>:241: RuntimeWarning: sklearn.tree._criterion.Criterion size changed, may indicate binary incompatibility. Expected 328 from C header, got 528 from PyObject\n",
      "<frozen importlib._bootstrap>:241: RuntimeWarning: sklearn.tree._splitter.Splitter size changed, may indicate binary incompatibility. Expected 1160 from C header, got 1360 from PyObject\n",
      "<frozen importlib._bootstrap>:241: RuntimeWarning: sklearn.tree._criterion.ClassificationCriterion size changed, may indicate binary incompatibility. Expected 1168 from C header, got 1368 from PyObject\n",
      "<frozen importlib._bootstrap>:241: RuntimeWarning: sklearn.tree._criterion.RegressionCriterion size changed, may indicate binary incompatibility. Expected 960 from C header, got 1160 from PyObject\n",
      "<frozen importlib._bootstrap>:241: RuntimeWarning: sklearn.tree._criterion.Criterion size changed, may indicate binary incompatibility. Expected 328 from C header, got 528 from PyObject\n",
      "<frozen importlib._bootstrap>:241: RuntimeWarning: sklearn.tree._splitter.Splitter size changed, may indicate binary incompatibility. Expected 1160 from C header, got 1360 from PyObject\n",
      "<frozen importlib._bootstrap>:241: RuntimeWarning: sklearn.tree._criterion.ClassificationCriterion size changed, may indicate binary incompatibility. Expected 1168 from C header, got 1368 from PyObject\n",
      "<frozen importlib._bootstrap>:241: RuntimeWarning: sklearn.tree._criterion.RegressionCriterion size changed, may indicate binary incompatibility. Expected 960 from C header, got 1160 from PyObject\n",
      "<frozen importlib._bootstrap>:241: RuntimeWarning: sklearn.tree._criterion.Criterion size changed, may indicate binary incompatibility. Expected 328 from C header, got 528 from PyObject\n",
      "<frozen importlib._bootstrap>:241: RuntimeWarning: sklearn.tree._splitter.Splitter size changed, may indicate binary incompatibility. Expected 1160 from C header, got 1360 from PyObject\n",
      "<frozen importlib._bootstrap>:241: RuntimeWarning: sklearn.tree._criterion.ClassificationCriterion size changed, may indicate binary incompatibility. Expected 1168 from C header, got 1368 from PyObject\n",
      "<frozen importlib._bootstrap>:241: RuntimeWarning: sklearn.tree._criterion.RegressionCriterion size changed, may indicate binary incompatibility. Expected 960 from C header, got 1160 from PyObject\n",
      "<frozen importlib._bootstrap>:241: RuntimeWarning: sklearn.tree._criterion.Criterion size changed, may indicate binary incompatibility. Expected 328 from C header, got 528 from PyObject\n",
      "<frozen importlib._bootstrap>:241: RuntimeWarning: sklearn.tree._splitter.Splitter size changed, may indicate binary incompatibility. Expected 1160 from C header, got 1360 from PyObject\n",
      "<frozen importlib._bootstrap>:241: RuntimeWarning: sklearn.tree._criterion.ClassificationCriterion size changed, may indicate binary incompatibility. Expected 1168 from C header, got 1368 from PyObject\n",
      "<frozen importlib._bootstrap>:241: RuntimeWarning: sklearn.tree._criterion.RegressionCriterion size changed, may indicate binary incompatibility. Expected 960 from C header, got 1160 from PyObject\n",
      "<frozen importlib._bootstrap>:241: RuntimeWarning: sklearn.tree._criterion.Criterion size changed, may indicate binary incompatibility. Expected 328 from C header, got 528 from PyObject\n",
      "<frozen importlib._bootstrap>:241: RuntimeWarning: sklearn.tree._splitter.Splitter size changed, may indicate binary incompatibility. Expected 1160 from C header, got 1360 from PyObject\n",
      "<frozen importlib._bootstrap>:241: RuntimeWarning: sklearn.tree._criterion.ClassificationCriterion size changed, may indicate binary incompatibility. Expected 1168 from C header, got 1368 from PyObject\n",
      "<frozen importlib._bootstrap>:241: RuntimeWarning: sklearn.tree._criterion.RegressionCriterion size changed, may indicate binary incompatibility. Expected 960 from C header, got 1160 from PyObject\n",
      "<frozen importlib._bootstrap>:241: RuntimeWarning: sklearn.tree._criterion.Criterion size changed, may indicate binary incompatibility. Expected 328 from C header, got 528 from PyObject\n",
      "<frozen importlib._bootstrap>:241: RuntimeWarning: sklearn.tree._splitter.Splitter size changed, may indicate binary incompatibility. Expected 1160 from C header, got 1360 from PyObject\n",
      "<frozen importlib._bootstrap>:241: RuntimeWarning: sklearn.tree._criterion.ClassificationCriterion size changed, may indicate binary incompatibility. Expected 1168 from C header, got 1368 from PyObject\n",
      "<frozen importlib._bootstrap>:241: RuntimeWarning: sklearn.tree._criterion.RegressionCriterion size changed, may indicate binary incompatibility. Expected 960 from C header, got 1160 from PyObject\n"
     ]
    },
    {
     "name": "stdout",
     "output_type": "stream",
     "text": [
      "[CV] END model__dropout_rate=0.5488135039273248, model__learning_rate=0.7151893663724195, model__loss=coxph, model__max_depth=4, model__max_leaf_nodes=29, model__min_samples_leaf=4, model__min_samples_split=9, model__n_estimators=109, model__subsample=0.8117818483929862; total time=  15.0s\n",
      "[CV] END model__dropout_rate=0.5488135039273248, model__learning_rate=0.7151893663724195, model__loss=coxph, model__max_depth=4, model__max_leaf_nodes=29, model__min_samples_leaf=4, model__min_samples_split=9, model__n_estimators=109, model__subsample=0.8117818483929862; total time=  15.7s\n",
      "[CV] END model__dropout_rate=0.5488135039273248, model__learning_rate=0.7151893663724195, model__loss=coxph, model__max_depth=4, model__max_leaf_nodes=29, model__min_samples_leaf=4, model__min_samples_split=9, model__n_estimators=109, model__subsample=0.8117818483929862; total time=  15.0s\n",
      "[CV] END model__dropout_rate=0.5488135039273248, model__learning_rate=0.7151893663724195, model__loss=coxph, model__max_depth=4, model__max_leaf_nodes=29, model__min_samples_leaf=4, model__min_samples_split=9, model__n_estimators=109, model__subsample=0.8117818483929862; total time=  16.5s\n",
      "[CV] END model__dropout_rate=0.5488135039273248, model__learning_rate=0.7151893663724195, model__loss=coxph, model__max_depth=4, model__max_leaf_nodes=29, model__min_samples_leaf=4, model__min_samples_split=9, model__n_estimators=109, model__subsample=0.8117818483929862; total time=  15.9s\n",
      "[CV] END model__dropout_rate=0.3843817072926998, model__learning_rate=0.2975346065444723, model__loss=coxph, model__max_depth=1, model__max_leaf_nodes=26, model__min_samples_leaf=2, model__min_samples_split=8, model__n_estimators=139, model__subsample=0.7644474598764522; total time=  18.8s\n",
      "[CV] END model__dropout_rate=0.3843817072926998, model__learning_rate=0.2975346065444723, model__loss=coxph, model__max_depth=1, model__max_leaf_nodes=26, model__min_samples_leaf=2, model__min_samples_split=8, model__n_estimators=139, model__subsample=0.7644474598764522; total time=  20.2s\n",
      "[CV] END model__dropout_rate=0.3843817072926998, model__learning_rate=0.2975346065444723, model__loss=coxph, model__max_depth=1, model__max_leaf_nodes=26, model__min_samples_leaf=2, model__min_samples_split=8, model__n_estimators=139, model__subsample=0.7644474598764522; total time=  20.0s\n",
      "[CV] END model__dropout_rate=0.3843817072926998, model__learning_rate=0.2975346065444723, model__loss=coxph, model__max_depth=1, model__max_leaf_nodes=26, model__min_samples_leaf=2, model__min_samples_split=8, model__n_estimators=139, model__subsample=0.7644474598764522; total time=  19.1s\n",
      "[CV] END model__dropout_rate=0.3843817072926998, model__learning_rate=0.2975346065444723, model__loss=coxph, model__max_depth=1, model__max_leaf_nodes=26, model__min_samples_leaf=2, model__min_samples_split=8, model__n_estimators=139, model__subsample=0.7644474598764522; total time=  20.5s\n",
      "[CV] END model__dropout_rate=0.5680445610939323, model__learning_rate=0.925596638292661, model__loss=coxph, model__max_depth=6, model__max_leaf_nodes=10, model__min_samples_leaf=5, model__min_samples_split=5, model__n_estimators=308, model__subsample=0.916309922773969; total time=  54.4s\n",
      "[CV] END model__dropout_rate=0.5680445610939323, model__learning_rate=0.925596638292661, model__loss=coxph, model__max_depth=6, model__max_leaf_nodes=10, model__min_samples_leaf=5, model__min_samples_split=5, model__n_estimators=308, model__subsample=0.916309922773969; total time=  54.0s\n",
      "[CV] END model__dropout_rate=0.7781567509498505, model__learning_rate=0.8700121482468192, model__loss=coxph, model__max_depth=3, model__max_leaf_nodes=5, model__min_samples_leaf=9, model__min_samples_split=3, model__n_estimators=343, model__subsample=0.7602387397756024; total time=  50.3s\n",
      "[CV] END model__dropout_rate=0.5680445610939323, model__learning_rate=0.925596638292661, model__loss=coxph, model__max_depth=6, model__max_leaf_nodes=10, model__min_samples_leaf=5, model__min_samples_split=5, model__n_estimators=308, model__subsample=0.916309922773969; total time=  55.8s\n",
      "[CV] END model__dropout_rate=0.5680445610939323, model__learning_rate=0.925596638292661, model__loss=coxph, model__max_depth=6, model__max_leaf_nodes=10, model__min_samples_leaf=5, model__min_samples_split=5, model__n_estimators=308, model__subsample=0.916309922773969; total time=  55.2s\n",
      "[CV] END model__dropout_rate=0.5680445610939323, model__learning_rate=0.925596638292661, model__loss=coxph, model__max_depth=6, model__max_leaf_nodes=10, model__min_samples_leaf=5, model__min_samples_split=5, model__n_estimators=308, model__subsample=0.916309922773969; total time=  55.3s\n",
      "[CV] END model__dropout_rate=0.7781567509498505, model__learning_rate=0.8700121482468192, model__loss=coxph, model__max_depth=3, model__max_leaf_nodes=5, model__min_samples_leaf=9, model__min_samples_split=3, model__n_estimators=343, model__subsample=0.7602387397756024; total time=  51.1s\n",
      "[CV] END model__dropout_rate=0.7781567509498505, model__learning_rate=0.8700121482468192, model__loss=coxph, model__max_depth=3, model__max_leaf_nodes=5, model__min_samples_leaf=9, model__min_samples_split=3, model__n_estimators=343, model__subsample=0.7602387397756024; total time=  54.3s\n",
      "[CV] END model__dropout_rate=0.6788795301189603, model__learning_rate=0.7206326547259168, model__loss=coxph, model__max_depth=2, model__max_leaf_nodes=11, model__min_samples_leaf=1, model__min_samples_split=9, model__n_estimators=302, model__subsample=0.7073309699952618; total time=  46.0s\n",
      "[CV] END model__dropout_rate=0.6788795301189603, model__learning_rate=0.7206326547259168, model__loss=coxph, model__max_depth=2, model__max_leaf_nodes=11, model__min_samples_leaf=1, model__min_samples_split=9, model__n_estimators=302, model__subsample=0.7073309699952618; total time=  47.1s\n",
      "[CV] END model__dropout_rate=0.6788795301189603, model__learning_rate=0.7206326547259168, model__loss=coxph, model__max_depth=2, model__max_leaf_nodes=11, model__min_samples_leaf=1, model__min_samples_split=9, model__n_estimators=302, model__subsample=0.7073309699952618; total time=  46.2s\n",
      "[CV] END model__dropout_rate=0.7781567509498505, model__learning_rate=0.8700121482468192, model__loss=coxph, model__max_depth=3, model__max_leaf_nodes=5, model__min_samples_leaf=9, model__min_samples_split=3, model__n_estimators=343, model__subsample=0.7602387397756024; total time=  52.4s\n",
      "[CV] END model__dropout_rate=0.6788795301189603, model__learning_rate=0.7206326547259168, model__loss=coxph, model__max_depth=2, model__max_leaf_nodes=11, model__min_samples_leaf=1, model__min_samples_split=9, model__n_estimators=302, model__subsample=0.7073309699952618; total time=  47.0s\n",
      "[CV] END model__dropout_rate=0.7781567509498505, model__learning_rate=0.8700121482468192, model__loss=coxph, model__max_depth=3, model__max_leaf_nodes=5, model__min_samples_leaf=9, model__min_samples_split=3, model__n_estimators=343, model__subsample=0.7602387397756024; total time=  54.3s\n",
      "[CV] END model__dropout_rate=0.6788795301189603, model__learning_rate=0.7206326547259168, model__loss=coxph, model__max_depth=2, model__max_leaf_nodes=11, model__min_samples_leaf=1, model__min_samples_split=9, model__n_estimators=302, model__subsample=0.7073309699952618; total time=  47.2s\n",
      "[CV] END model__dropout_rate=0.26455561210462697, model__learning_rate=0.7742336894342167, model__loss=coxph, model__max_depth=5, model__max_leaf_nodes=4, model__min_samples_leaf=1, model__min_samples_split=2, model__n_estimators=264, model__subsample=0.8088177485379385; total time=  47.7s\n",
      "[CV] END model__dropout_rate=0.6120957227224214, model__learning_rate=0.6169339968747569, model__loss=coxph, model__max_depth=5, model__max_leaf_nodes=11, model__min_samples_leaf=9, model__min_samples_split=3, model__n_estimators=165, model__subsample=0.5496401751794869; total time=  24.8s\n",
      "[CV] END model__dropout_rate=0.6120957227224214, model__learning_rate=0.6169339968747569, model__loss=coxph, model__max_depth=5, model__max_leaf_nodes=11, model__min_samples_leaf=9, model__min_samples_split=3, model__n_estimators=165, model__subsample=0.5496401751794869; total time=  26.2s\n",
      "[CV] END model__dropout_rate=0.6120957227224214, model__learning_rate=0.6169339968747569, model__loss=coxph, model__max_depth=5, model__max_leaf_nodes=11, model__min_samples_leaf=9, model__min_samples_split=3, model__n_estimators=165, model__subsample=0.5496401751794869; total time=  26.2s\n",
      "[CV] END model__dropout_rate=0.6120957227224214, model__learning_rate=0.6169339968747569, model__loss=coxph, model__max_depth=5, model__max_leaf_nodes=11, model__min_samples_leaf=9, model__min_samples_split=3, model__n_estimators=165, model__subsample=0.5496401751794869; total time=  25.1s\n",
      "[CV] END model__dropout_rate=0.26455561210462697, model__learning_rate=0.7742336894342167, model__loss=coxph, model__max_depth=5, model__max_leaf_nodes=4, model__min_samples_leaf=1, model__min_samples_split=2, model__n_estimators=264, model__subsample=0.8088177485379385; total time=  47.1s\n",
      "[CV] END model__dropout_rate=0.26455561210462697, model__learning_rate=0.7742336894342167, model__loss=coxph, model__max_depth=5, model__max_leaf_nodes=4, model__min_samples_leaf=1, model__min_samples_split=2, model__n_estimators=264, model__subsample=0.8088177485379385; total time=  49.6s\n",
      "[CV] END model__dropout_rate=0.26455561210462697, model__learning_rate=0.7742336894342167, model__loss=coxph, model__max_depth=5, model__max_leaf_nodes=4, model__min_samples_leaf=1, model__min_samples_split=2, model__n_estimators=264, model__subsample=0.8088177485379385; total time=  48.0s\n",
      "[CV] END model__dropout_rate=0.26455561210462697, model__learning_rate=0.7742336894342167, model__loss=coxph, model__max_depth=5, model__max_leaf_nodes=4, model__min_samples_leaf=1, model__min_samples_split=2, model__n_estimators=264, model__subsample=0.8088177485379385; total time=  47.0s\n",
      "[CV] END model__dropout_rate=0.6120957227224214, model__learning_rate=0.6169339968747569, model__loss=coxph, model__max_depth=5, model__max_leaf_nodes=11, model__min_samples_leaf=9, model__min_samples_split=3, model__n_estimators=165, model__subsample=0.5496401751794869; total time=  26.0s\n",
      "[CV] END model__dropout_rate=0.9698090677467488, model__learning_rate=0.6531400357979377, model__loss=coxph, model__max_depth=4, model__max_leaf_nodes=16, model__min_samples_leaf=3, model__min_samples_split=5, model__n_estimators=228, model__subsample=0.6577141754620919; total time=  33.6s\n",
      "[CV] END model__dropout_rate=0.9698090677467488, model__learning_rate=0.6531400357979377, model__loss=coxph, model__max_depth=4, model__max_leaf_nodes=16, model__min_samples_leaf=3, model__min_samples_split=5, model__n_estimators=228, model__subsample=0.6577141754620919; total time=  32.5s\n",
      "[CV] END model__dropout_rate=0.9698090677467488, model__learning_rate=0.6531400357979377, model__loss=coxph, model__max_depth=4, model__max_leaf_nodes=16, model__min_samples_leaf=3, model__min_samples_split=5, model__n_estimators=228, model__subsample=0.6577141754620919; total time=  35.1s\n",
      "[CV] END model__dropout_rate=0.9698090677467488, model__learning_rate=0.6531400357979377, model__loss=coxph, model__max_depth=4, model__max_leaf_nodes=16, model__min_samples_leaf=3, model__min_samples_split=5, model__n_estimators=228, model__subsample=0.6577141754620919; total time=  33.9s\n",
      "[CV] END model__dropout_rate=0.9698090677467488, model__learning_rate=0.6531400357979377, model__loss=coxph, model__max_depth=4, model__max_leaf_nodes=16, model__min_samples_leaf=3, model__min_samples_split=5, model__n_estimators=228, model__subsample=0.6577141754620919; total time=  35.2s\n",
      "[CV] END model__dropout_rate=0.3637107709426226, model__learning_rate=0.5701967704178796, model__loss=coxph, model__max_depth=5, model__max_leaf_nodes=13, model__min_samples_leaf=5, model__min_samples_split=8, model__n_estimators=296, model__subsample=0.8263951585027454; total time= 1.1min\n",
      "[CV] END model__dropout_rate=0.3637107709426226, model__learning_rate=0.5701967704178796, model__loss=coxph, model__max_depth=5, model__max_leaf_nodes=13, model__min_samples_leaf=5, model__min_samples_split=8, model__n_estimators=296, model__subsample=0.8263951585027454; total time= 1.1min\n",
      "[CV] END model__dropout_rate=0.3637107709426226, model__learning_rate=0.5701967704178796, model__loss=coxph, model__max_depth=5, model__max_leaf_nodes=13, model__min_samples_leaf=5, model__min_samples_split=8, model__n_estimators=296, model__subsample=0.8263951585027454; total time= 1.1min\n",
      "[CV] END model__dropout_rate=0.3637107709426226, model__learning_rate=0.5701967704178796, model__loss=coxph, model__max_depth=5, model__max_leaf_nodes=13, model__min_samples_leaf=5, model__min_samples_split=8, model__n_estimators=296, model__subsample=0.8263951585027454; total time= 1.1min\n",
      "[CV] END model__dropout_rate=0.6350588736035638, model__learning_rate=0.9952995676778876, model__loss=coxph, model__max_depth=5, model__max_leaf_nodes=10, model__min_samples_leaf=5, model__min_samples_split=5, model__n_estimators=286, model__subsample=0.5794847918227599; total time=  51.2s\n",
      "[CV] END model__dropout_rate=0.6350588736035638, model__learning_rate=0.9952995676778876, model__loss=coxph, model__max_depth=5, model__max_leaf_nodes=10, model__min_samples_leaf=5, model__min_samples_split=5, model__n_estimators=286, model__subsample=0.5794847918227599; total time=  49.7s\n",
      "[CV] END model__dropout_rate=0.3637107709426226, model__learning_rate=0.5701967704178796, model__loss=coxph, model__max_depth=5, model__max_leaf_nodes=13, model__min_samples_leaf=5, model__min_samples_split=8, model__n_estimators=296, model__subsample=0.8263951585027454; total time= 1.0min\n",
      "[CV] END model__dropout_rate=0.6350588736035638, model__learning_rate=0.9952995676778876, model__loss=coxph, model__max_depth=5, model__max_leaf_nodes=10, model__min_samples_leaf=5, model__min_samples_split=5, model__n_estimators=286, model__subsample=0.5794847918227599; total time=  49.2s\n",
      "[CV] END model__dropout_rate=0.6350588736035638, model__learning_rate=0.9952995676778876, model__loss=coxph, model__max_depth=5, model__max_leaf_nodes=10, model__min_samples_leaf=5, model__min_samples_split=5, model__n_estimators=286, model__subsample=0.5794847918227599; total time=  34.3s\n",
      "[CV] END model__dropout_rate=0.6350588736035638, model__learning_rate=0.9952995676778876, model__loss=coxph, model__max_depth=5, model__max_leaf_nodes=10, model__min_samples_leaf=5, model__min_samples_split=5, model__n_estimators=286, model__subsample=0.5794847918227599; total time=  33.4s\n",
      "Model training...\n",
      "Prediction with the best model...\n",
      "Prediction with the best model...\n",
      "Prediction with the best model...\n",
      "0.7298611266695045\n",
      "0.7092361744535658\n",
      "Processing the data...\n",
      "Search for optimal hyperparameters...\n",
      "Model training...\n",
      "Prediction with the best model...\n",
      "Prediction with the best model...\n",
      "Prediction with the best model...\n"
     ]
    },
    {
     "name": "stderr",
     "output_type": "stream",
     "text": [
      "/home/tristan/anaconda3/envs/DreamChallenge/lib/python3.10/site-packages/optuna/samplers/_tpe/sampler.py:281: ExperimentalWarning: ``multivariate`` option is an experimental feature. The interface can change in the future.\n",
      "  warnings.warn(\n",
      "\u001b[32m[I 2022-12-21 19:59:59,952]\u001b[0m A new study created in memory with name: no-name-f9004e63-ac28-48dd-af06-e99a31832485\u001b[0m\n"
     ]
    },
    {
     "name": "stdout",
     "output_type": "stream",
     "text": [
      "0.09867959915888658\n",
      "0.38554778554778557\n",
      "Processing the data...\n",
      "Search for optimal hyperparameters...\n"
     ]
    }
   ],
   "source": [
    "\n",
    "models_list = ['sksurv_gbt', 'xgb_aft', 'xgb_optuna']\n",
    "#%%\n",
    "for model_name in models_list:\n",
    "    config = dict(\n",
    "        with_pca=False,\n",
    "        n_components=None,\n",
    "        # xgbse_weibull, sksurv_gbt, xgb_aft, xgb_optuna, CoxPH\n",
    "        #  xgbse_weibull : not ok\n",
    "        #  CoxPH : ok, sksurv_gbt : ok, xgb_aft: ok, but severe overfitting (0.9676036909132226, 0.6376541333063073)\n",
    "        # xgb_optuna: ok , (0.8962962844422823,0.6261072261072261)\n",
    "        model_name=model_name,\n",
    "        clinical_covariates=CLINICAL_COVARIATES,\n",
    "        processing='MI_clr',\n",
    "        n_iter=10,\n",
    "        n_taxa=0\n",
    "    )\n",
    "\n",
    "    run = wandb.init(\n",
    "        project=\"Dream-Challenge\",\n",
    "        name=config['model_name'],\n",
    "        notes=\"Compare models\",\n",
    "        tags=[\"baseline\"],\n",
    "        config=config,\n",
    "        mode=\"disabled\"  # disabled\n",
    "    )\n",
    "\n",
    "    # Load the data\n",
    "    os.environ[\"root_folder\"] = ROOT\n",
    "\n",
    "\n",
    "    print(\"Processing the data...\")\n",
    "\n",
    "\n",
    "    wandb_config = wandb.config\n",
    "    clinical_covariates = wandb_config.clinical_covariates\n",
    "\n",
    "    #%%\n",
    "    if wandb_config.processing == 'Salosensaari':\n",
    "        X_train, X_test, y_train, y_test, test_sample_ids = Salosensaari_processing(\n",
    "            pheno_df_train, pheno_df_test, readcounts_df_train, readcounts_df_test, clinical_covariates\n",
    "        )\n",
    "    elif wandb_config.processing == 'MI_clr':\n",
    "        ## Feature selection\n",
    "        X_train, X_test, y_train, y_test, test_sample_ids = clr_processing(\n",
    "            pheno_df_train, pheno_df_test, readcounts_df_train, readcounts_df_test, clinical_covariates, wandb_config.n_taxa)\n",
    "\n",
    "    model = eval(wandb_config.model_name +\n",
    "                f'(with_pca = {wandb_config.with_pca}, n_components = {wandb_config.n_components})')\n",
    "\n",
    "    # %%\n",
    "\n",
    "    print(\"Search for optimal hyperparameters...\")\n",
    "    model = model.model_pipeline(X_train, y_train, wandb_config.n_iter)\n",
    "\n",
    "    # %%\n",
    "    preds_test = model.risk_score(X_test)\n",
    "    postprocessing(preds_test, test_sample_ids, ROOT)\n",
    "\n",
    "\n",
    "    plt.hist(preds_test)\n",
    "    model.estimator[:1].transform(X_test)\n",
    "\n",
    "    #%%\n",
    "    model = model.evaluate(X_train, X_test, y_train, y_test)\n",
    "    print(model.harrell_C_training)\n",
    "    print(model.harrell_C_test)\n",
    "    #%%\n",
    "    wandb.log({'Harrel C - training':  model.harrell_C_training,\n",
    "            'Harrel C - test':  model.harrell_C_test,\n",
    "            'config':  config})\n",
    "    #'HL - training': self.HL_training,\n",
    "    #'HL - test': self.HL_test})\n",
    "\n",
    "    wandb.run.summary['Harrel C - training'] = model.harrell_C_training\n",
    "    wandb.run.summary['Harrel C - test'] = model.harrell_C_test\n",
    "\n",
    "    # save the model to disk\n",
    "    #filename = 'trained_model.sav'\n",
    "    #pickle.dump(model, open(filename, 'wb'))\n",
    "\n",
    "print(\"Task completed.\")\n",
    "run.finish()\n",
    "\n",
    "# %%\n"
   ]
  },
  {
   "cell_type": "code",
   "execution_count": null,
   "metadata": {},
   "outputs": [
    {
     "data": {
      "text/plain": [
       "<matplotlib.collections.PathCollection at 0x7f2a64edb460>"
      ]
     },
     "execution_count": 3,
     "metadata": {},
     "output_type": "execute_result"
    },
    {
     "data": {
      "image/png": "[encoded data removed]",
      "text/plain": [
       "<Figure size 640x480 with 1 Axes>"
      ]
     },
     "metadata": {},
     "output_type": "display_data"
    }
   ],
   "source": [
    "plt.scatter(y_test['Event_time'], preds_test)"
   ]
  },
  {
   "cell_type": "code",
   "execution_count": null,
   "metadata": {},
   "outputs": [
    {
     "ename": "IndexError",
     "evalue": "only integers, slices (`:`), ellipsis (`...`), numpy.newaxis (`None`) and integer or boolean arrays are valid indices",
     "output_type": "error",
     "traceback": [
      "\u001b[0;31m---------------------------------------------------------------------------\u001b[0m",
      "\u001b[0;31mIndexError\u001b[0m                                Traceback (most recent call last)",
      "Cell \u001b[0;32mIn[4], line 1\u001b[0m\n\u001b[0;32m----> 1\u001b[0m FP \u001b[39m=\u001b[39m (preds_test[\u001b[39m'\u001b[39;49m\u001b[39mEvent\u001b[39;49m\u001b[39m'\u001b[39;49m]\u001b[39m==\u001b[39m\u001b[39m1\u001b[39m) \u001b[39m&\u001b[39m (y_test[\u001b[39m'\u001b[39m\u001b[39mEvent\u001b[39m\u001b[39m'\u001b[39m] \u001b[39m==\u001b[39m \u001b[39m1\u001b[39m)\n\u001b[1;32m      2\u001b[0m FN \u001b[39m=\u001b[39m (preds_test[\u001b[39m'\u001b[39m\u001b[39mEvent\u001b[39m\u001b[39m'\u001b[39m]\u001b[39m==\u001b[39m\u001b[39m0\u001b[39m) \u001b[39m&\u001b[39m (y_test[\u001b[39m'\u001b[39m\u001b[39mEvent\u001b[39m\u001b[39m'\u001b[39m] \u001b[39m==\u001b[39m \u001b[39m1\u001b[39m)\n\u001b[1;32m      3\u001b[0m TP \u001b[39m=\u001b[39m (preds_test[\u001b[39m'\u001b[39m\u001b[39mEvent\u001b[39m\u001b[39m'\u001b[39m]\u001b[39m==\u001b[39m\u001b[39m1\u001b[39m) \u001b[39m&\u001b[39m (y_test[\u001b[39m'\u001b[39m\u001b[39mEvent\u001b[39m\u001b[39m'\u001b[39m] \u001b[39m==\u001b[39m \u001b[39m1\u001b[39m)\n",
      "\u001b[0;31mIndexError\u001b[0m: only integers, slices (`:`), ellipsis (`...`), numpy.newaxis (`None`) and integer or boolean arrays are valid indices"
     ]
    }
   ],
   "source": [
    "FP = (preds_test['Event']==1) & (y_test['Event'] == 1)\n",
    "FN = (preds_test['Event']==0) & (y_test['Event'] == 1)\n",
    "TP = (preds_test['Event']==1) & (y_test['Event'] == 1)\n",
    "TN = (preds_test['Event']==0) & (y_test['Event'] == 0)"
   ]
  },
  {
   "cell_type": "code",
   "execution_count": null,
   "metadata": {},
   "outputs": [
    {
     "data": {
      "text/plain": [
       "array([0.7204593 , 0.75072396, 0.71096754, ..., 0.91003346, 0.42131436,\n",
       "       0.56994677], dtype=float32)"
      ]
     },
     "execution_count": 4,
     "metadata": {},
     "output_type": "execute_result"
    }
   ],
   "source": [
    "preds_test\n"
   ]
  },
  {
   "cell_type": "code",
   "execution_count": null,
   "metadata": {},
   "outputs": [],
   "source": [
    "X_train.loc[FP,:]"
   ]
  },
  {
   "cell_type": "code",
   "execution_count": null,
   "metadata": {},
   "outputs": [],
   "source": []
  },
  {
   "cell_type": "code",
   "execution_count": null,
   "metadata": {},
   "outputs": [],
   "source": []
  }
 ],
 "metadata": {
  "kernelspec": {
   "display_name": "DreamChallenge",
   "language": "python",
   "name": "python3"
  },
  "language_info": {
   "codemirror_mode": {
    "name": "ipython",
    "version": 3
   },
   "file_extension": ".py",
   "mimetype": "text/x-python",
   "name": "python",
   "nbconvert_exporter": "python",
   "pygments_lexer": "ipython3",
   "version": "3.10.8 (main, Nov 24 2022, 14:13:03) [GCC 11.2.0]"
  },
  "orig_nbformat": 4,
  "vscode": {
   "interpreter": {
    "hash": "c2f6264fcac18067c6eb2dec2f7006d0269f273c79cd39ddca154e9ef6ba1e27"
   }
  }
 },
 "nbformat": 4,
 "nbformat_minor": 2
}
