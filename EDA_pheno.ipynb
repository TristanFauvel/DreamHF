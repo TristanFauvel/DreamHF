{
 "cells": [
  {
   "cell_type": "code",
   "execution_count": null,
   "metadata": {},
   "outputs": [],
   "source": [
    "from preprocessing import readcounts_processing_pipeline, pheno_processing_pipeline\n",
    "import pandas as pd\n",
    "import matplotlib.pyplot as plt"
   ]
  },
  {
   "cell_type": "code",
   "execution_count": null,
   "metadata": {},
   "outputs": [],
   "source": [
    "\n",
    "pheno_df_train = pd.read_csv('./train/pheno_training.csv')\n",
    "pheno_df_train = pheno_processing_pipeline(pheno_df_train)"
   ]
  },
  {
   "cell_type": "code",
   "execution_count": null,
   "metadata": {},
   "outputs": [],
   "source": [
    "import scipy.stats  as stats\n",
    "crosstab = pd.crosstab(df['Smoking=1'], df['Event'])\n",
    "crosstab"
   ]
  },
  {
   "cell_type": "code",
   "execution_count": null,
   "metadata": {},
   "outputs": [],
   "source": [
    "stats.chi2_contingency(crosstab)"
   ]
  }
 ],
 "metadata": {
  "kernelspec": {
   "display_name": "Python 3.8.13 ('kaggle')",
   "language": "python",
   "name": "python3"
  },
  "language_info": {
   "name": "python",
   "version": "3.8.13"
  },
  "orig_nbformat": 4,
  "vscode": {
   "interpreter": {
    "hash": "4c4e0504ba4f8abcccd6b45a5e69ac5fd55105e3f711ce7b6bc459654b70048f"
   }
  }
 },
 "nbformat": 4,
 "nbformat_minor": 2
}
